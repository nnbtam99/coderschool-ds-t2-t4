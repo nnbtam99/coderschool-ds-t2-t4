{
  "nbformat": 4,
  "nbformat_minor": 0,
  "metadata": {
    "kernelspec": {
      "name": "python3",
      "display_name": "Python 3"
    },
    "language_info": {
      "codemirror_mode": {
        "name": "ipython",
        "version": 3
      },
      "file_extension": ".py",
      "mimetype": "text/x-python",
      "name": "python",
      "nbconvert_exporter": "python",
      "pygments_lexer": "ipython3",
      "version": "3.7.3"
    },
    "colab": {
      "name": "[DS_Coderschool]_W04_Nguyen_Ngoc_Bang_Tam_ChocolateBar.ipynb",
      "version": "0.3.2",
      "provenance": [],
      "collapsed_sections": []
    },
    "accelerator": "GPU"
  },
  "cells": [
    {
      "cell_type": "markdown",
      "metadata": {
        "id": "iKp91mZMWSdc",
        "colab_type": "text"
      },
      "source": [
        "# Team 1 - Chocolate Bar\n",
        "\n",
        "![](https://img.newatlas.com/cocoa-tree-domestication-chocolate-1.jpg?auto=format%2Ccompress&ch=Width%2CDPR&fit=crop&h=347&q=60&rect=0%2C18%2C1620%2C911&w=616&s=2c0f902d21b734d77c99fd13171fb979)\n",
        "\n",
        "_For more information about the dataset, read [here](https://www.kaggle.com/rtatman/chocolate-bar-ratings)._\n",
        "\n",
        "## Your tasks\n",
        "- Name your team!\n",
        "- Read the source and do some quick research to understand more about the dataset and its topic\n",
        "- Clean the data\n",
        "- Perform Exploratory Data Analysis on the dataset\n",
        "- Analyze the data more deeply and extract insights\n",
        "- Visualize your analysis on Google Data Studio\n",
        "- Present your works in front of the class and guests next Monday\n",
        "\n",
        "## Submission Guide\n",
        "- Create a Github repository for your project\n",
        "- Upload the dataset (.csv file) and the Jupyter Notebook to your Github repository. In the Jupyter Notebook, **include the link to your Google Data Studio report**.\n",
        "- Submit your works through this [Google Form](https://forms.gle/oxtXpGfS8JapVj3V8).\n",
        "\n",
        "## Tips for Data Cleaning, Manipulation & Visualization\n",
        "- Here are some of our tips for Data Cleaning, Manipulation & Visualization. [Click here](https://hackmd.io/cBNV7E6TT2WMliQC-GTw1A)\n",
        "\n",
        "_____________________________\n",
        "\n",
        "## Some Hints for This Dataset:\n",
        "- There are lots of poorly labeled data in `Broad Bean Origin` column.\n",
        "- There are some rows in `Broad Bean Origin` with multiple values, those values will create errors in our data. \n",
        "- How can we get rid of the `%` sign in `Cocoa Percent` column?\n",
        "- And more..."
      ]
    },
    {
      "cell_type": "markdown",
      "metadata": {
        "id": "quZgb6UO24Bd",
        "colab_type": "text"
      },
      "source": [
        "# My solution"
      ]
    },
    {
      "cell_type": "code",
      "metadata": {
        "id": "yFRKJjMvWSdf",
        "colab_type": "code",
        "colab": {}
      },
      "source": [
        "import io\n",
        "import re\n",
        "\n",
        "import pandas as pd\n",
        "import numpy as np\n",
        "import seaborn as sns\n",
        "from matplotlib import pyplot as plt"
      ],
      "execution_count": 0,
      "outputs": []
    },
    {
      "cell_type": "code",
      "metadata": {
        "id": "sLjJq54ZZEKW",
        "colab_type": "code",
        "colab": {}
      },
      "source": [
        "link = 'https://raw.githubusercontent.com/nnbtam99/coderschool-ds-t2-t4/master/W04%20-%20Data%20manipulation%20%2B%20Visualization/01%20-%20Chocolate%20Bar%20Ratings/flavors_of_cacao.csv'\n",
        "\n",
        "df = pd.read_csv(link)"
      ],
      "execution_count": 0,
      "outputs": []
    },
    {
      "cell_type": "markdown",
      "metadata": {
        "id": "W7pL6c8TmFYV",
        "colab_type": "text"
      },
      "source": [
        "## Data cleaning"
      ]
    },
    {
      "cell_type": "markdown",
      "metadata": {
        "id": "pYIfvCRZmJja",
        "colab_type": "text"
      },
      "source": [
        "### Normalize column names"
      ]
    },
    {
      "cell_type": "code",
      "metadata": {
        "id": "kYFJT9izywPw",
        "colab_type": "code",
        "colab": {}
      },
      "source": [
        "new_columns = ['company', 'specific_origin', 'REF', 'review_date', 'cocoa_percent', 'company_location', 'rating', 'bean_type', 'broad_origin']\n",
        "df.columns = new_columns"
      ],
      "execution_count": 0,
      "outputs": []
    },
    {
      "cell_type": "code",
      "metadata": {
        "id": "meMRBJE8zbaW",
        "colab_type": "code",
        "colab": {
          "base_uri": "https://localhost:8080/",
          "height": 328
        },
        "outputId": "f01ea05b-8ca6-4e9b-93c3-43fa5d796bce"
      },
      "source": [
        "df.head().T"
      ],
      "execution_count": 120,
      "outputs": [
        {
          "output_type": "execute_result",
          "data": {
            "text/html": [
              "<div>\n",
              "<style scoped>\n",
              "    .dataframe tbody tr th:only-of-type {\n",
              "        vertical-align: middle;\n",
              "    }\n",
              "\n",
              "    .dataframe tbody tr th {\n",
              "        vertical-align: top;\n",
              "    }\n",
              "\n",
              "    .dataframe thead th {\n",
              "        text-align: right;\n",
              "    }\n",
              "</style>\n",
              "<table border=\"1\" class=\"dataframe\">\n",
              "  <thead>\n",
              "    <tr style=\"text-align: right;\">\n",
              "      <th></th>\n",
              "      <th>0</th>\n",
              "      <th>1</th>\n",
              "      <th>2</th>\n",
              "      <th>3</th>\n",
              "      <th>4</th>\n",
              "    </tr>\n",
              "  </thead>\n",
              "  <tbody>\n",
              "    <tr>\n",
              "      <th>company</th>\n",
              "      <td>A. Morin</td>\n",
              "      <td>A. Morin</td>\n",
              "      <td>A. Morin</td>\n",
              "      <td>A. Morin</td>\n",
              "      <td>A. Morin</td>\n",
              "    </tr>\n",
              "    <tr>\n",
              "      <th>specific_origin</th>\n",
              "      <td>Agua Grande</td>\n",
              "      <td>Kpime</td>\n",
              "      <td>Atsane</td>\n",
              "      <td>Akata</td>\n",
              "      <td>Quilla</td>\n",
              "    </tr>\n",
              "    <tr>\n",
              "      <th>REF</th>\n",
              "      <td>1876</td>\n",
              "      <td>1676</td>\n",
              "      <td>1676</td>\n",
              "      <td>1680</td>\n",
              "      <td>1704</td>\n",
              "    </tr>\n",
              "    <tr>\n",
              "      <th>review_date</th>\n",
              "      <td>2016</td>\n",
              "      <td>2015</td>\n",
              "      <td>2015</td>\n",
              "      <td>2015</td>\n",
              "      <td>2015</td>\n",
              "    </tr>\n",
              "    <tr>\n",
              "      <th>cocoa_percent</th>\n",
              "      <td>63%</td>\n",
              "      <td>70%</td>\n",
              "      <td>70%</td>\n",
              "      <td>70%</td>\n",
              "      <td>70%</td>\n",
              "    </tr>\n",
              "    <tr>\n",
              "      <th>company_location</th>\n",
              "      <td>France</td>\n",
              "      <td>France</td>\n",
              "      <td>France</td>\n",
              "      <td>France</td>\n",
              "      <td>France</td>\n",
              "    </tr>\n",
              "    <tr>\n",
              "      <th>rating</th>\n",
              "      <td>3.75</td>\n",
              "      <td>2.75</td>\n",
              "      <td>3</td>\n",
              "      <td>3.5</td>\n",
              "      <td>3.5</td>\n",
              "    </tr>\n",
              "    <tr>\n",
              "      <th>bean_type</th>\n",
              "      <td></td>\n",
              "      <td></td>\n",
              "      <td></td>\n",
              "      <td></td>\n",
              "      <td></td>\n",
              "    </tr>\n",
              "    <tr>\n",
              "      <th>broad_origin</th>\n",
              "      <td>Sao Tome</td>\n",
              "      <td>Togo</td>\n",
              "      <td>Togo</td>\n",
              "      <td>Togo</td>\n",
              "      <td>Peru</td>\n",
              "    </tr>\n",
              "  </tbody>\n",
              "</table>\n",
              "</div>"
            ],
            "text/plain": [
              "                            0         1         2         3         4\n",
              "company              A. Morin  A. Morin  A. Morin  A. Morin  A. Morin\n",
              "specific_origin   Agua Grande     Kpime    Atsane     Akata    Quilla\n",
              "REF                      1876      1676      1676      1680      1704\n",
              "review_date              2016      2015      2015      2015      2015\n",
              "cocoa_percent             63%       70%       70%       70%       70%\n",
              "company_location       France    France    France    France    France\n",
              "rating                   3.75      2.75         3       3.5       3.5\n",
              "bean_type                                                            \n",
              "broad_origin         Sao Tome      Togo      Togo      Togo      Peru"
            ]
          },
          "metadata": {
            "tags": []
          },
          "execution_count": 120
        }
      ]
    },
    {
      "cell_type": "code",
      "metadata": {
        "id": "ja7GTikZ4e3V",
        "colab_type": "code",
        "colab": {
          "base_uri": "https://localhost:8080/",
          "height": 255
        },
        "outputId": "3ee11bd9-8c62-43bf-92f0-74cdc26df8e5"
      },
      "source": [
        "df.info()"
      ],
      "execution_count": 121,
      "outputs": [
        {
          "output_type": "stream",
          "text": [
            "<class 'pandas.core.frame.DataFrame'>\n",
            "RangeIndex: 1795 entries, 0 to 1794\n",
            "Data columns (total 9 columns):\n",
            "company             1795 non-null object\n",
            "specific_origin     1795 non-null object\n",
            "REF                 1795 non-null int64\n",
            "review_date         1795 non-null int64\n",
            "cocoa_percent       1795 non-null object\n",
            "company_location    1795 non-null object\n",
            "rating              1795 non-null float64\n",
            "bean_type           1794 non-null object\n",
            "broad_origin        1794 non-null object\n",
            "dtypes: float64(1), int64(2), object(6)\n",
            "memory usage: 126.3+ KB\n"
          ],
          "name": "stdout"
        }
      ]
    },
    {
      "cell_type": "markdown",
      "metadata": {
        "id": "RRjvxtgN31Fo",
        "colab_type": "text"
      },
      "source": [
        "### Check each column to find poorly labeled data"
      ]
    },
    {
      "cell_type": "code",
      "metadata": {
        "id": "AdVlBQ7L33xd",
        "colab_type": "code",
        "colab": {
          "base_uri": "https://localhost:8080/",
          "height": 187
        },
        "outputId": "7727f18b-e777-4e0e-a03c-99c7a6cf4a8b"
      },
      "source": [
        "# As Bean_Type and Broad_Bean_Origin may be optional attributes, we accept NaN values for these features\n",
        "df.isna().sum()"
      ],
      "execution_count": 122,
      "outputs": [
        {
          "output_type": "execute_result",
          "data": {
            "text/plain": [
              "company             0\n",
              "specific_origin     0\n",
              "REF                 0\n",
              "review_date         0\n",
              "cocoa_percent       0\n",
              "company_location    0\n",
              "rating              0\n",
              "bean_type           1\n",
              "broad_origin        1\n",
              "dtype: int64"
            ]
          },
          "metadata": {
            "tags": []
          },
          "execution_count": 122
        }
      ]
    },
    {
      "cell_type": "markdown",
      "metadata": {
        "id": "1ciIjAwk2uY7",
        "colab_type": "text"
      },
      "source": [
        "#### Check all values of each feature"
      ]
    },
    {
      "cell_type": "code",
      "metadata": {
        "id": "J5G2x_vm2nFa",
        "colab_type": "code",
        "colab": {
          "base_uri": "https://localhost:8080/",
          "height": 221
        },
        "outputId": "46dba4cc-a9ae-4656-c6a4-9e4fd9cec8ce"
      },
      "source": [
        "df['company_location'].sort_values().unique()\n",
        "\n",
        "# UK includes Ireland, Scotland, Wales and England, so the values are quite ambiguous --> Perhaps U.K in this context referes to England \n",
        "# Dominican Republic is mispelled\n",
        "# Nicaragua is mispelled\n",
        "# Amsterdam is a city of Netherlands, not a country --> So Amsterdam should be replaced with Netherlands"
      ],
      "execution_count": 123,
      "outputs": [
        {
          "output_type": "execute_result",
          "data": {
            "text/plain": [
              "array(['Amsterdam', 'Argentina', 'Australia', 'Austria', 'Belgium',\n",
              "       'Bolivia', 'Brazil', 'Canada', 'Chile', 'Colombia', 'Costa Rica',\n",
              "       'Czech Republic', 'Denmark', 'Domincan Republic', 'Ecuador',\n",
              "       'Eucador', 'Fiji', 'Finland', 'France', 'Germany', 'Ghana',\n",
              "       'Grenada', 'Guatemala', 'Honduras', 'Hungary', 'Iceland', 'India',\n",
              "       'Ireland', 'Israel', 'Italy', 'Japan', 'Lithuania', 'Madagascar',\n",
              "       'Martinique', 'Mexico', 'Netherlands', 'New Zealand', 'Niacragua',\n",
              "       'Nicaragua', 'Peru', 'Philippines', 'Poland', 'Portugal',\n",
              "       'Puerto Rico', 'Russia', 'Sao Tome', 'Scotland', 'Singapore',\n",
              "       'South Africa', 'South Korea', 'Spain', 'St. Lucia', 'Suriname',\n",
              "       'Sweden', 'Switzerland', 'U.K.', 'U.S.A.', 'Venezuela', 'Vietnam',\n",
              "       'Wales'], dtype=object)"
            ]
          },
          "metadata": {
            "tags": []
          },
          "execution_count": 123
        }
      ]
    },
    {
      "cell_type": "code",
      "metadata": {
        "id": "uyQV_dWoBAU2",
        "colab_type": "code",
        "colab": {
          "base_uri": "https://localhost:8080/",
          "height": 119
        },
        "outputId": "1a2bfbf6-7c19-4291-9b80-058ac416d1fc"
      },
      "source": [
        "# This column datatype is object, which is quite unreasonable\n",
        "# I'll remove the '%' symbol and convert it to float \n",
        "df['cocoa_percent'].unique()"
      ],
      "execution_count": 124,
      "outputs": [
        {
          "output_type": "execute_result",
          "data": {
            "text/plain": [
              "array(['63%', '70%', '60%', '80%', '88%', '72%', '55%', '75%', '65%',\n",
              "       '85%', '73%', '64%', '66%', '68%', '50%', '100%', '77%', '90%',\n",
              "       '71%', '83%', '78%', '74%', '76%', '86%', '82%', '69%', '91%',\n",
              "       '42%', '61%', '73.5%', '62%', '67%', '58%', '60.5%', '79%', '81%',\n",
              "       '57%', '72.5%', '56%', '46%', '89%', '99%', '84%', '53%', '87%'],\n",
              "      dtype=object)"
            ]
          },
          "metadata": {
            "tags": []
          },
          "execution_count": 124
        }
      ]
    },
    {
      "cell_type": "code",
      "metadata": {
        "id": "95XabzyvSdn6",
        "colab_type": "code",
        "colab": {
          "base_uri": "https://localhost:8080/",
          "height": 272
        },
        "outputId": "85184935-ee8d-41ea-b8fb-a2f42188aa91"
      },
      "source": [
        "# Check if bean_type has mispelled or missing values\n",
        "df['bean_type'].sort_values().unique()"
      ],
      "execution_count": 125,
      "outputs": [
        {
          "output_type": "execute_result",
          "data": {
            "text/plain": [
              "array(['Amazon', 'Amazon mix', 'Amazon, ICS', 'Beniano', 'Blend',\n",
              "       'Blend-Forastero,Criollo', 'CCN51', 'Criollo', 'Criollo (Amarru)',\n",
              "       'Criollo (Ocumare 61)', 'Criollo (Ocumare 67)',\n",
              "       'Criollo (Ocumare 77)', 'Criollo (Ocumare)', 'Criollo (Porcelana)',\n",
              "       'Criollo (Wild)', 'Criollo, +', 'Criollo, Forastero',\n",
              "       'Criollo, Trinitario', 'EET', 'Forastero', 'Forastero (Amelonado)',\n",
              "       'Forastero (Arriba)', 'Forastero (Arriba) ASS',\n",
              "       'Forastero (Arriba) ASSS', 'Forastero (Catongo)',\n",
              "       'Forastero (Nacional)', 'Forastero (Parazinho)',\n",
              "       'Forastero(Arriba, CCN)', 'Forastero, Trinitario', 'Matina',\n",
              "       'Nacional', 'Nacional (Arriba)', 'Trinitario',\n",
              "       'Trinitario (85% Criollo)', 'Trinitario (Amelonado)',\n",
              "       'Trinitario (Scavina)', 'Trinitario, Criollo',\n",
              "       'Trinitario, Forastero', 'Trinitario, Nacional',\n",
              "       'Trinitario, TCGA', '\\xa0', nan], dtype=object)"
            ]
          },
          "metadata": {
            "tags": []
          },
          "execution_count": 125
        }
      ]
    },
    {
      "cell_type": "code",
      "metadata": {
        "id": "DoMg_-aSUoFo",
        "colab_type": "code",
        "colab": {
          "base_uri": "https://localhost:8080/",
          "height": 527
        },
        "outputId": "bd3cb6f4-9762-4c66-81c6-f2da10127021"
      },
      "source": [
        "# Check if broad_origin has mispelled or missing values\n",
        "df['broad_origin'].sort_values().unique()"
      ],
      "execution_count": 126,
      "outputs": [
        {
          "output_type": "execute_result",
          "data": {
            "text/plain": [
              "array(['Africa, Carribean, C. Am.', 'Australia', 'Belize', 'Bolivia',\n",
              "       'Brazil', 'Burma', 'Cameroon', 'Carribean',\n",
              "       'Carribean(DR/Jam/Tri)', 'Central and S. America', 'Colombia',\n",
              "       'Colombia, Ecuador', 'Congo', 'Cost Rica, Ven', 'Costa Rica',\n",
              "       'Cuba', 'DR, Ecuador, Peru', 'Dom. Rep., Madagascar',\n",
              "       'Domincan Republic', 'Dominican Rep., Bali', 'Dominican Republic',\n",
              "       'Ecuador', 'Ecuador, Costa Rica', 'Ecuador, Mad., PNG',\n",
              "       'El Salvador', 'Fiji', 'Gabon', 'Ghana', 'Ghana & Madagascar',\n",
              "       'Ghana, Domin. Rep', 'Ghana, Panama, Ecuador',\n",
              "       'Gre., PNG, Haw., Haiti, Mad', 'Grenada',\n",
              "       'Guat., D.R., Peru, Mad., PNG', 'Guatemala', 'Haiti', 'Hawaii',\n",
              "       'Honduras', 'India', 'Indonesia', 'Indonesia, Ghana',\n",
              "       'Ivory Coast', 'Jamaica', 'Liberia', 'Mad., Java, PNG',\n",
              "       'Madagascar', 'Madagascar & Ecuador', 'Malaysia', 'Martinique',\n",
              "       'Mexico', 'Nicaragua', 'Nigeria', 'PNG, Vanuatu, Mad', 'Panama',\n",
              "       'Papua New Guinea', 'Peru', 'Peru(SMartin,Pangoa,nacional)',\n",
              "       'Peru, Belize', 'Peru, Dom. Rep', 'Peru, Ecuador',\n",
              "       'Peru, Ecuador, Venezuela', 'Peru, Mad., Dom. Rep.',\n",
              "       'Peru, Madagascar', 'Philippines', 'Principe', 'Puerto Rico',\n",
              "       'Samoa', 'Sao Tome', 'Sao Tome & Principe', 'Solomon Islands',\n",
              "       'South America', 'South America, Africa', 'Sri Lanka', 'St. Lucia',\n",
              "       'Suriname', 'Tanzania', 'Tobago', 'Togo', 'Trinidad',\n",
              "       'Trinidad, Ecuador', 'Trinidad, Tobago', 'Trinidad-Tobago',\n",
              "       'Uganda', 'Vanuatu', 'Ven, Bolivia, D.R.',\n",
              "       'Ven, Trinidad, Ecuador', 'Ven., Indonesia, Ecuad.',\n",
              "       'Ven., Trinidad, Mad.', 'Ven.,Ecu.,Peru,Nic.',\n",
              "       'Venez,Africa,Brasil,Peru,Mex', 'Venezuela',\n",
              "       'Venezuela, Carribean', 'Venezuela, Dom. Rep.', 'Venezuela, Ghana',\n",
              "       'Venezuela, Java', 'Venezuela, Trinidad', 'Venezuela/ Ghana',\n",
              "       'Vietnam', 'West Africa', '\\xa0', nan], dtype=object)"
            ]
          },
          "metadata": {
            "tags": []
          },
          "execution_count": 126
        }
      ]
    },
    {
      "cell_type": "markdown",
      "metadata": {
        "id": "FdaC5CU1CGis",
        "colab_type": "text"
      },
      "source": [
        "### Clean poorly labeled data"
      ]
    },
    {
      "cell_type": "markdown",
      "metadata": {
        "id": "uLGLvqS4aR8P",
        "colab_type": "text"
      },
      "source": [
        "#### Remove unicode space '\\xa0'"
      ]
    },
    {
      "cell_type": "code",
      "metadata": {
        "id": "NOW7AEYxieQi",
        "colab_type": "code",
        "colab": {}
      },
      "source": [
        "df.replace(u'\\xa0',u'', regex=True, inplace=True)"
      ],
      "execution_count": 0,
      "outputs": []
    },
    {
      "cell_type": "markdown",
      "metadata": {
        "id": "psqVlVejyg1Z",
        "colab_type": "text"
      },
      "source": [
        "#### Clean cocoa_percent column"
      ]
    },
    {
      "cell_type": "code",
      "metadata": {
        "id": "4PkrNDmR2_Hk",
        "colab_type": "code",
        "colab": {
          "base_uri": "https://localhost:8080/",
          "height": 187
        },
        "outputId": "50a3c3c5-64f2-407c-ea2f-256a214260fb"
      },
      "source": [
        "df['cocoa_percent'] = [r.replace('%', '') for r in df['cocoa_percent']]\n",
        "df['cocoa_percent'] = df['cocoa_percent'].astype('float64')\n",
        "df.dtypes"
      ],
      "execution_count": 128,
      "outputs": [
        {
          "output_type": "execute_result",
          "data": {
            "text/plain": [
              "company              object\n",
              "specific_origin      object\n",
              "REF                   int64\n",
              "review_date           int64\n",
              "cocoa_percent       float64\n",
              "company_location     object\n",
              "rating              float64\n",
              "bean_type            object\n",
              "broad_origin         object\n",
              "dtype: object"
            ]
          },
          "metadata": {
            "tags": []
          },
          "execution_count": 128
        }
      ]
    },
    {
      "cell_type": "markdown",
      "metadata": {
        "id": "YspQS0rsXfIZ",
        "colab_type": "text"
      },
      "source": [
        "#### Clean company_location column"
      ]
    },
    {
      "cell_type": "code",
      "metadata": {
        "id": "ax9UqK2OXhhs",
        "colab_type": "code",
        "colab": {
          "base_uri": "https://localhost:8080/",
          "height": 221
        },
        "outputId": "84f52b45-548c-4876-c077-b1bb8e572d9e"
      },
      "source": [
        "# UK includes Ireland, Scotland, Wales and England, so the values are quite ambiguous --> Perhaps U.K in this context referes to England \n",
        "# Dominican Republic is mispelled\n",
        "# Nicaragua is mispelled\n",
        "# Amsterdam is a city of Netherlands, not a country --> So Amsterdam should be replaced with Netherlands\n",
        "\n",
        "\n",
        "df['company_location'] = df['company_location']\\\n",
        "  .replace('U.K.', 'England')\\\n",
        "  .replace('Domincan Republic', 'Dominican Republic')\\\n",
        "  .replace('Niacragua', 'Nicaragua')\\\n",
        "  .replace('Amsterdam', 'Netherlands')\n",
        "\n",
        "df['company_location'].sort_values().unique()"
      ],
      "execution_count": 129,
      "outputs": [
        {
          "output_type": "execute_result",
          "data": {
            "text/plain": [
              "array(['Argentina', 'Australia', 'Austria', 'Belgium', 'Bolivia',\n",
              "       'Brazil', 'Canada', 'Chile', 'Colombia', 'Costa Rica',\n",
              "       'Czech Republic', 'Denmark', 'Dominican Republic', 'Ecuador',\n",
              "       'England', 'Eucador', 'Fiji', 'Finland', 'France', 'Germany',\n",
              "       'Ghana', 'Grenada', 'Guatemala', 'Honduras', 'Hungary', 'Iceland',\n",
              "       'India', 'Ireland', 'Israel', 'Italy', 'Japan', 'Lithuania',\n",
              "       'Madagascar', 'Martinique', 'Mexico', 'Netherlands', 'New Zealand',\n",
              "       'Nicaragua', 'Peru', 'Philippines', 'Poland', 'Portugal',\n",
              "       'Puerto Rico', 'Russia', 'Sao Tome', 'Scotland', 'Singapore',\n",
              "       'South Africa', 'South Korea', 'Spain', 'St. Lucia', 'Suriname',\n",
              "       'Sweden', 'Switzerland', 'U.S.A.', 'Venezuela', 'Vietnam', 'Wales'],\n",
              "      dtype=object)"
            ]
          },
          "metadata": {
            "tags": []
          },
          "execution_count": 129
        }
      ]
    },
    {
      "cell_type": "markdown",
      "metadata": {
        "id": "CxeZNh6sN0CC",
        "colab_type": "text"
      },
      "source": [
        "#### Clean broad_origin column"
      ]
    },
    {
      "cell_type": "code",
      "metadata": {
        "id": "yb5pB6W1cp6x",
        "colab_type": "code",
        "colab": {
          "base_uri": "https://localhost:8080/",
          "height": 359
        },
        "outputId": "0985aeea-9b11-404b-94f7-acde89ce4902"
      },
      "source": [
        "# nan is numpy datatype --> fillna before applying text_processing\n",
        "# Some specific origins are blend-type --> I'll check if blend-type denote something about the broad origin\n",
        "\n",
        "df[df['specific_origin'].str.contains('Blend')].head(10)"
      ],
      "execution_count": 138,
      "outputs": [
        {
          "output_type": "execute_result",
          "data": {
            "text/html": [
              "<div>\n",
              "<style scoped>\n",
              "    .dataframe tbody tr th:only-of-type {\n",
              "        vertical-align: middle;\n",
              "    }\n",
              "\n",
              "    .dataframe tbody tr th {\n",
              "        vertical-align: top;\n",
              "    }\n",
              "\n",
              "    .dataframe thead th {\n",
              "        text-align: right;\n",
              "    }\n",
              "</style>\n",
              "<table border=\"1\" class=\"dataframe\">\n",
              "  <thead>\n",
              "    <tr style=\"text-align: right;\">\n",
              "      <th></th>\n",
              "      <th>company</th>\n",
              "      <th>specific_origin</th>\n",
              "      <th>REF</th>\n",
              "      <th>review_date</th>\n",
              "      <th>cocoa_percent</th>\n",
              "      <th>company_location</th>\n",
              "      <th>rating</th>\n",
              "      <th>bean_type</th>\n",
              "      <th>broad_origin</th>\n",
              "    </tr>\n",
              "  </thead>\n",
              "  <tbody>\n",
              "    <tr>\n",
              "      <th>277</th>\n",
              "      <td>Burnt Fork Bend</td>\n",
              "      <td>Blend</td>\n",
              "      <td>1303</td>\n",
              "      <td>2014</td>\n",
              "      <td>72.0</td>\n",
              "      <td>U.S.A.</td>\n",
              "      <td>3.25</td>\n",
              "      <td>Blend</td>\n",
              "      <td></td>\n",
              "    </tr>\n",
              "    <tr>\n",
              "      <th>381</th>\n",
              "      <td>Chloe Chocolat</td>\n",
              "      <td>Blend No. 1</td>\n",
              "      <td>672</td>\n",
              "      <td>2011</td>\n",
              "      <td>70.0</td>\n",
              "      <td>France</td>\n",
              "      <td>3.50</td>\n",
              "      <td></td>\n",
              "      <td></td>\n",
              "    </tr>\n",
              "    <tr>\n",
              "      <th>393</th>\n",
              "      <td>Chocolate Alchemist-Philly</td>\n",
              "      <td>Philly Blend, 5 plantations</td>\n",
              "      <td>1772</td>\n",
              "      <td>2016</td>\n",
              "      <td>80.0</td>\n",
              "      <td>U.S.A.</td>\n",
              "      <td>2.50</td>\n",
              "      <td></td>\n",
              "      <td></td>\n",
              "    </tr>\n",
              "    <tr>\n",
              "      <th>564</th>\n",
              "      <td>Domori</td>\n",
              "      <td>Blend No. 1</td>\n",
              "      <td>272</td>\n",
              "      <td>2008</td>\n",
              "      <td>78.0</td>\n",
              "      <td>Italy</td>\n",
              "      <td>3.50</td>\n",
              "      <td>Blend</td>\n",
              "      <td></td>\n",
              "    </tr>\n",
              "    <tr>\n",
              "      <th>725</th>\n",
              "      <td>Fruition</td>\n",
              "      <td>Signature Blend</td>\n",
              "      <td>753</td>\n",
              "      <td>2011</td>\n",
              "      <td>66.0</td>\n",
              "      <td>U.S.A.</td>\n",
              "      <td>3.25</td>\n",
              "      <td>Trinitario</td>\n",
              "      <td>Costa Rica</td>\n",
              "    </tr>\n",
              "    <tr>\n",
              "      <th>747</th>\n",
              "      <td>Guido Castagna</td>\n",
              "      <td>Lacri Blend</td>\n",
              "      <td>355</td>\n",
              "      <td>2009</td>\n",
              "      <td>76.0</td>\n",
              "      <td>Italy</td>\n",
              "      <td>3.00</td>\n",
              "      <td></td>\n",
              "      <td>Venezuela</td>\n",
              "    </tr>\n",
              "    <tr>\n",
              "      <th>748</th>\n",
              "      <td>Guido Castagna</td>\n",
              "      <td>Blend</td>\n",
              "      <td>355</td>\n",
              "      <td>2009</td>\n",
              "      <td>64.0</td>\n",
              "      <td>Italy</td>\n",
              "      <td>3.25</td>\n",
              "      <td></td>\n",
              "      <td>Ven, Trinidad, Ecuador</td>\n",
              "    </tr>\n",
              "    <tr>\n",
              "      <th>749</th>\n",
              "      <td>Guittard</td>\n",
              "      <td>Epique, Blend No. 49</td>\n",
              "      <td>1602</td>\n",
              "      <td>2015</td>\n",
              "      <td>70.0</td>\n",
              "      <td>U.S.A.</td>\n",
              "      <td>3.75</td>\n",
              "      <td></td>\n",
              "      <td></td>\n",
              "    </tr>\n",
              "    <tr>\n",
              "      <th>785</th>\n",
              "      <td>Harper Macaw</td>\n",
              "      <td>Brazil Blend</td>\n",
              "      <td>1696</td>\n",
              "      <td>2015</td>\n",
              "      <td>67.0</td>\n",
              "      <td>U.S.A.</td>\n",
              "      <td>3.00</td>\n",
              "      <td></td>\n",
              "      <td>Brazil</td>\n",
              "    </tr>\n",
              "    <tr>\n",
              "      <th>957</th>\n",
              "      <td>L'Amourette</td>\n",
              "      <td>Blend</td>\n",
              "      <td>853</td>\n",
              "      <td>2012</td>\n",
              "      <td>72.0</td>\n",
              "      <td>U.S.A.</td>\n",
              "      <td>3.00</td>\n",
              "      <td>Criollo</td>\n",
              "      <td>Peru, Ecuador, Venezuela</td>\n",
              "    </tr>\n",
              "  </tbody>\n",
              "</table>\n",
              "</div>"
            ],
            "text/plain": [
              "                        company  ...              broad_origin\n",
              "277             Burnt Fork Bend  ...                          \n",
              "381              Chloe Chocolat  ...                          \n",
              "393  Chocolate Alchemist-Philly  ...                          \n",
              "564                      Domori  ...                          \n",
              "725                    Fruition  ...                Costa Rica\n",
              "747              Guido Castagna  ...                 Venezuela\n",
              "748              Guido Castagna  ...    Ven, Trinidad, Ecuador\n",
              "749                    Guittard  ...                          \n",
              "785                Harper Macaw  ...                    Brazil\n",
              "957                 L'Amourette  ...  Peru, Ecuador, Venezuela\n",
              "\n",
              "[10 rows x 9 columns]"
            ]
          },
          "metadata": {
            "tags": []
          },
          "execution_count": 138
        }
      ]
    },
    {
      "cell_type": "code",
      "metadata": {
        "id": "8xQvhjdvks6g",
        "colab_type": "code",
        "colab": {}
      },
      "source": [
        "# As we can guess, if a kind of chocolate derives from too many countries, its broad origin will be missing\n",
        "# Hence I'll fill missing broad_origin with its specific origin\n",
        "df['broad_origin'].fillna(df['specific_origin'], inplace = True)"
      ],
      "execution_count": 0,
      "outputs": []
    },
    {
      "cell_type": "code",
      "metadata": {
        "id": "BiEtgZO3mcsC",
        "colab_type": "code",
        "colab": {
          "base_uri": "https://localhost:8080/",
          "height": 527
        },
        "outputId": "13c7f2bd-29c2-497d-f2d4-fbdfa584d5dd"
      },
      "source": [
        "df['broad_origin'].sort_values().unique()"
      ],
      "execution_count": 140,
      "outputs": [
        {
          "output_type": "execute_result",
          "data": {
            "text/plain": [
              "array(['', 'Africa, Carribean, C. Am.', 'Australia', 'Belize', 'Bolivia',\n",
              "       'Brazil', 'Burma', 'Cameroon', 'Carribean',\n",
              "       'Carribean(DR/Jam/Tri)', 'Central and S. America', 'Colombia',\n",
              "       'Colombia, Ecuador', 'Congo', 'Cost Rica, Ven', 'Costa Rica',\n",
              "       'Cuba', 'DR, Ecuador, Peru', 'Dom. Rep., Madagascar',\n",
              "       'Domincan Republic', 'Dominican Rep., Bali', 'Dominican Republic',\n",
              "       'Ecuador', 'Ecuador, Costa Rica', 'Ecuador, Mad., PNG',\n",
              "       'El Salvador', 'Fiji', 'Gabon', 'Ghana', 'Ghana & Madagascar',\n",
              "       'Ghana, Domin. Rep', 'Ghana, Panama, Ecuador',\n",
              "       'Gre., PNG, Haw., Haiti, Mad', 'Grenada',\n",
              "       'Guat., D.R., Peru, Mad., PNG', 'Guatemala', 'Haiti', 'Hawaii',\n",
              "       'Honduras', 'India', 'Indonesia', 'Indonesia, Ghana',\n",
              "       'Ivory Coast', 'Jamaica', 'Liberia', 'Mad., Java, PNG',\n",
              "       'Madagascar', 'Madagascar & Ecuador', 'Malaysia', 'Martinique',\n",
              "       'Mexico', 'Nicaragua', 'Nigeria', 'PNG, Vanuatu, Mad', 'Panama',\n",
              "       'Papua New Guinea', 'Peru', 'Peru(SMartin,Pangoa,nacional)',\n",
              "       'Peru, Belize', 'Peru, Dom. Rep', 'Peru, Ecuador',\n",
              "       'Peru, Ecuador, Venezuela', 'Peru, Mad., Dom. Rep.',\n",
              "       'Peru, Madagascar', 'Philippines', 'Principe', 'Puerto Rico',\n",
              "       'Samoa', 'Sao Tome', 'Sao Tome & Principe', 'Solomon Islands',\n",
              "       'South America', 'South America, Africa', 'Sri Lanka', 'St. Lucia',\n",
              "       'Suriname', 'Tanzania', 'Tobago', 'Togo', 'Trinidad',\n",
              "       'Trinidad, Ecuador', 'Trinidad, Tobago', 'Trinidad-Tobago',\n",
              "       'Uganda', 'Vanuatu', 'Ven, Bolivia, D.R.',\n",
              "       'Ven, Trinidad, Ecuador', 'Ven., Indonesia, Ecuad.',\n",
              "       'Ven., Trinidad, Mad.', 'Ven.,Ecu.,Peru,Nic.',\n",
              "       'Venez,Africa,Brasil,Peru,Mex', 'Venezuela',\n",
              "       'Venezuela, Carribean', 'Venezuela, Dom. Rep.', 'Venezuela, Ghana',\n",
              "       'Venezuela, Java', 'Venezuela, Trinidad', 'Venezuela/ Ghana',\n",
              "       'Vietnam', 'West Africa'], dtype=object)"
            ]
          },
          "metadata": {
            "tags": []
          },
          "execution_count": 140
        }
      ]
    },
    {
      "cell_type": "code",
      "metadata": {
        "id": "fZY8ltkdONEn",
        "colab_type": "code",
        "colab": {}
      },
      "source": [
        "# Many countries are refered by different names and abbreviations\n",
        "# Eg: Dominican Republic is Dominican Rep., DR, D.R., Domin. Rep, etc\n",
        "# Modify so that every country will be refered with just 1 name\n",
        "\n",
        "def text_prep(text):\n",
        "    replacements = {\n",
        "        '-':', ', '/ ': ', ', '/': ', ', '\\(': ', ',' and':', ', ' & ': ', ', '\\)': '',\n",
        "        'Dom Rep|DR|Domin Rep|Dominican Rep,|Domincan Republic':'Dominican Republic',\n",
        "        'Mad,|Mad$':'Madagascar, ',\n",
        "        'PNG': 'Papua New Guinea, ',\n",
        "        'Guat,|Guat$': 'Guatemala, ',\n",
        "        'Ven,|Ven$|Venez,|Venez$':'Venezuela, ',\n",
        "        'Ecu,|Ecu$|Ecuad,|Ecuad$': 'Ecuador, ',\n",
        "        'Nic,|Nic$': 'Nicaragua, ',\n",
        "        'Cost Rica':'Costa Rica',\n",
        "        'Mex,|Mex$': 'Mexico, ',\n",
        "        'Jam,|Jam$': 'Jamaica, ',\n",
        "        'Haw,|Haw$': 'Hawaii, ',\n",
        "        'Gre,|Gre$': 'Greneda, ',\n",
        "        'Tri,|Tri$': 'Trinidad, ',\n",
        "        'C Am':'Central America',\n",
        "        'S America':'South America',\n",
        "        ', $':'', ',  ': ', ', ', ,':', ', '\\xa0':' ',',\\s+': ',',\n",
        "        ' Bali': ',Bali',\n",
        "        'nacional': 'Nacional'\n",
        "    }\n",
        "    \n",
        "    for k, v in replacements.items():\n",
        "      text = re.sub(k, v, text)\n",
        "\n",
        "    return text"
      ],
      "execution_count": 0,
      "outputs": []
    },
    {
      "cell_type": "code",
      "metadata": {
        "id": "4tibTtDBapf3",
        "colab_type": "code",
        "colab": {
          "base_uri": "https://localhost:8080/",
          "height": 578
        },
        "outputId": "4b9aa346-852f-40c5-99a5-905b2e3e1f1d"
      },
      "source": [
        "df['broad_origin'].str.replace('.', '').apply(text_prep).sort_values().unique()"
      ],
      "execution_count": 144,
      "outputs": [
        {
          "output_type": "execute_result",
          "data": {
            "text/plain": [
              "array(['', 'Africa,Carribean,Central America', 'Australia', 'Belize',\n",
              "       'Bolivia', 'Brazil', 'Burma', 'Cameroon', 'Carribean',\n",
              "       'Carribean,Dominican Republic,Jamaica,Trinidad',\n",
              "       'Central,South America', 'Colombia', 'Colombia,Ecuador', 'Congo',\n",
              "       'Costa Rica', 'Costa Rica,Venezuela', 'Cuba', 'Dominican Republic',\n",
              "       'Dominican Republic,Bali', 'Dominican Republic,Ecuador,Peru',\n",
              "       'Dominican Republic,Madagascar', 'Ecuador', 'Ecuador,Costa Rica',\n",
              "       'Ecuador,Madagascar,Papua New Guinea', 'El Salvador', 'Fiji',\n",
              "       'Gabon', 'Ghana', 'Ghana,Dominican Republic', 'Ghana,Madagascar',\n",
              "       'Ghana,Panama,Ecuador', 'Grenada',\n",
              "       'Greneda,Papua New Guinea,Hawaii,Haiti,Madagascar', 'Guatemala',\n",
              "       'Guatemala,Dominican Republic,Peru,Madagascar,Papua New Guinea',\n",
              "       'Haiti', 'Hawaii', 'Honduras', 'India', 'Indonesia',\n",
              "       'Indonesia,Ghana', 'Ivory Coast', 'Jamaica', 'Liberia',\n",
              "       'Madagascar', 'Madagascar,Ecuador',\n",
              "       'Madagascar,Java,Papua New Guinea', 'Malaysia', 'Martinique',\n",
              "       'Mexico', 'Nicaragua', 'Nigeria', 'Panama', 'Papua New Guinea',\n",
              "       'Papua New Guinea,Vanuatu,Madagascar', 'Peru', 'Peru,Belize',\n",
              "       'Peru,Dominican Republic', 'Peru,Ecuador',\n",
              "       'Peru,Ecuador,Venezuela', 'Peru,Madagascar',\n",
              "       'Peru,Madagascar,Dominican Republic',\n",
              "       'Peru,SMartin,Pangoa,Nacional', 'Philippines', 'Principe',\n",
              "       'Puerto Rico', 'Samoa', 'Sao Tome', 'Sao Tome,Principe',\n",
              "       'Solomon Islands', 'South America', 'South America,Africa',\n",
              "       'Sri Lanka', 'St Lucia', 'Suriname', 'Tanzania', 'Tobago', 'Togo',\n",
              "       'Trinidad', 'Trinidad,Ecuador', 'Trinidad,Tobago', 'Uganda',\n",
              "       'Vanuatu', 'Venezuela', 'Venezuela,Africa,Brasil,Peru,Mexico',\n",
              "       'Venezuela,Bolivia,Dominican Republic', 'Venezuela,Carribean',\n",
              "       'Venezuela,Dominican Republic', 'Venezuela,Ecuador,Peru,Nicaragua',\n",
              "       'Venezuela,Ghana', 'Venezuela,Indonesia,Ecuador', 'Venezuela,Java',\n",
              "       'Venezuela,Trinidad', 'Venezuela,Trinidad,Ecuador',\n",
              "       'Venezuela,Trinidad,Madagascar', 'Vietnam', 'West Africa'],\n",
              "      dtype=object)"
            ]
          },
          "metadata": {
            "tags": []
          },
          "execution_count": 144
        }
      ]
    },
    {
      "cell_type": "code",
      "metadata": {
        "id": "s349dnD9eNx5",
        "colab_type": "code",
        "colab": {}
      },
      "source": [
        "df['broad_origin'] = df['broad_origin'].str.replace('.', '').apply(text_prep)"
      ],
      "execution_count": 0,
      "outputs": []
    },
    {
      "cell_type": "markdown",
      "metadata": {
        "id": "cCngzupql7nT",
        "colab_type": "text"
      },
      "source": [
        "## Data exploration"
      ]
    },
    {
      "cell_type": "code",
      "metadata": {
        "id": "wRCJHmsFmK09",
        "colab_type": "code",
        "colab": {
          "base_uri": "https://localhost:8080/",
          "height": 328
        },
        "outputId": "bb0f6215-70c8-45e4-cd76-64bf7e720e20"
      },
      "source": [
        "df.head().T"
      ],
      "execution_count": 147,
      "outputs": [
        {
          "output_type": "execute_result",
          "data": {
            "text/html": [
              "<div>\n",
              "<style scoped>\n",
              "    .dataframe tbody tr th:only-of-type {\n",
              "        vertical-align: middle;\n",
              "    }\n",
              "\n",
              "    .dataframe tbody tr th {\n",
              "        vertical-align: top;\n",
              "    }\n",
              "\n",
              "    .dataframe thead th {\n",
              "        text-align: right;\n",
              "    }\n",
              "</style>\n",
              "<table border=\"1\" class=\"dataframe\">\n",
              "  <thead>\n",
              "    <tr style=\"text-align: right;\">\n",
              "      <th></th>\n",
              "      <th>0</th>\n",
              "      <th>1</th>\n",
              "      <th>2</th>\n",
              "      <th>3</th>\n",
              "      <th>4</th>\n",
              "    </tr>\n",
              "  </thead>\n",
              "  <tbody>\n",
              "    <tr>\n",
              "      <th>company</th>\n",
              "      <td>A. Morin</td>\n",
              "      <td>A. Morin</td>\n",
              "      <td>A. Morin</td>\n",
              "      <td>A. Morin</td>\n",
              "      <td>A. Morin</td>\n",
              "    </tr>\n",
              "    <tr>\n",
              "      <th>specific_origin</th>\n",
              "      <td>Agua Grande</td>\n",
              "      <td>Kpime</td>\n",
              "      <td>Atsane</td>\n",
              "      <td>Akata</td>\n",
              "      <td>Quilla</td>\n",
              "    </tr>\n",
              "    <tr>\n",
              "      <th>REF</th>\n",
              "      <td>1876</td>\n",
              "      <td>1676</td>\n",
              "      <td>1676</td>\n",
              "      <td>1680</td>\n",
              "      <td>1704</td>\n",
              "    </tr>\n",
              "    <tr>\n",
              "      <th>review_date</th>\n",
              "      <td>2016</td>\n",
              "      <td>2015</td>\n",
              "      <td>2015</td>\n",
              "      <td>2015</td>\n",
              "      <td>2015</td>\n",
              "    </tr>\n",
              "    <tr>\n",
              "      <th>cocoa_percent</th>\n",
              "      <td>63</td>\n",
              "      <td>70</td>\n",
              "      <td>70</td>\n",
              "      <td>70</td>\n",
              "      <td>70</td>\n",
              "    </tr>\n",
              "    <tr>\n",
              "      <th>company_location</th>\n",
              "      <td>France</td>\n",
              "      <td>France</td>\n",
              "      <td>France</td>\n",
              "      <td>France</td>\n",
              "      <td>France</td>\n",
              "    </tr>\n",
              "    <tr>\n",
              "      <th>rating</th>\n",
              "      <td>3.75</td>\n",
              "      <td>2.75</td>\n",
              "      <td>3</td>\n",
              "      <td>3.5</td>\n",
              "      <td>3.5</td>\n",
              "    </tr>\n",
              "    <tr>\n",
              "      <th>bean_type</th>\n",
              "      <td></td>\n",
              "      <td></td>\n",
              "      <td></td>\n",
              "      <td></td>\n",
              "      <td></td>\n",
              "    </tr>\n",
              "    <tr>\n",
              "      <th>broad_origin</th>\n",
              "      <td>Sao Tome</td>\n",
              "      <td>Togo</td>\n",
              "      <td>Togo</td>\n",
              "      <td>Togo</td>\n",
              "      <td>Peru</td>\n",
              "    </tr>\n",
              "  </tbody>\n",
              "</table>\n",
              "</div>"
            ],
            "text/plain": [
              "                            0         1         2         3         4\n",
              "company              A. Morin  A. Morin  A. Morin  A. Morin  A. Morin\n",
              "specific_origin   Agua Grande     Kpime    Atsane     Akata    Quilla\n",
              "REF                      1876      1676      1676      1680      1704\n",
              "review_date              2016      2015      2015      2015      2015\n",
              "cocoa_percent              63        70        70        70        70\n",
              "company_location       France    France    France    France    France\n",
              "rating                   3.75      2.75         3       3.5       3.5\n",
              "bean_type                                                            \n",
              "broad_origin         Sao Tome      Togo      Togo      Togo      Peru"
            ]
          },
          "metadata": {
            "tags": []
          },
          "execution_count": 147
        }
      ]
    },
    {
      "cell_type": "markdown",
      "metadata": {
        "id": "jIu_8nbpmq5l",
        "colab_type": "text"
      },
      "source": [
        "Which countries produce the highest-rated bars?"
      ]
    },
    {
      "cell_type": "code",
      "metadata": {
        "id": "L1S3uVvVmsGV",
        "colab_type": "code",
        "colab": {
          "base_uri": "https://localhost:8080/",
          "height": 80
        },
        "outputId": "1ebaf9cb-937c-46e4-c714-ff8d05639306"
      },
      "source": [
        "df.groupby('company_location', as_index = False).max().sort_values(by = 'rating', ascending = False).head(1)"
      ],
      "execution_count": 150,
      "outputs": [
        {
          "output_type": "execute_result",
          "data": {
            "text/html": [
              "<div>\n",
              "<style scoped>\n",
              "    .dataframe tbody tr th:only-of-type {\n",
              "        vertical-align: middle;\n",
              "    }\n",
              "\n",
              "    .dataframe tbody tr th {\n",
              "        vertical-align: top;\n",
              "    }\n",
              "\n",
              "    .dataframe thead th {\n",
              "        text-align: right;\n",
              "    }\n",
              "</style>\n",
              "<table border=\"1\" class=\"dataframe\">\n",
              "  <thead>\n",
              "    <tr style=\"text-align: right;\">\n",
              "      <th></th>\n",
              "      <th>company_location</th>\n",
              "      <th>company</th>\n",
              "      <th>specific_origin</th>\n",
              "      <th>REF</th>\n",
              "      <th>review_date</th>\n",
              "      <th>cocoa_percent</th>\n",
              "      <th>rating</th>\n",
              "      <th>broad_origin</th>\n",
              "    </tr>\n",
              "  </thead>\n",
              "  <tbody>\n",
              "    <tr>\n",
              "      <th>29</th>\n",
              "      <td>Italy</td>\n",
              "      <td>Urzi</td>\n",
              "      <td>Venezuela</td>\n",
              "      <td>1672</td>\n",
              "      <td>2015</td>\n",
              "      <td>100.0</td>\n",
              "      <td>5.0</td>\n",
              "      <td>Venezuela,Trinidad,Ecuador</td>\n",
              "    </tr>\n",
              "  </tbody>\n",
              "</table>\n",
              "</div>"
            ],
            "text/plain": [
              "   company_location company  ... rating                broad_origin\n",
              "29            Italy    Urzi  ...    5.0  Venezuela,Trinidad,Ecuador\n",
              "\n",
              "[1 rows x 8 columns]"
            ]
          },
          "metadata": {
            "tags": []
          },
          "execution_count": 150
        }
      ]
    },
    {
      "cell_type": "markdown",
      "metadata": {
        "id": "_alfyLxhl9di",
        "colab_type": "text"
      },
      "source": [
        "## Data visualization"
      ]
    },
    {
      "cell_type": "markdown",
      "metadata": {
        "id": "gzUVrShKnqWw",
        "colab_type": "text"
      },
      "source": [
        "Distribution of rating"
      ]
    },
    {
      "cell_type": "code",
      "metadata": {
        "id": "bRi3_qZznsbS",
        "colab_type": "code",
        "colab": {
          "base_uri": "https://localhost:8080/",
          "height": 283
        },
        "outputId": "769f164c-9ac6-4149-c754-b6c00e29b68b"
      },
      "source": [
        "sns.distplot(df['rating']);"
      ],
      "execution_count": 155,
      "outputs": [
        {
          "output_type": "display_data",
          "data": {
            "image/png": "[encoded data removed]",
            "text/plain": [
              "<Figure size 432x288 with 1 Axes>"
            ]
          },
          "metadata": {
            "tags": []
          }
        }
      ]
    },
    {
      "cell_type": "markdown",
      "metadata": {
        "id": "DTIpw-remshl",
        "colab_type": "text"
      },
      "source": [
        "What’s the relationship between cocoa solids percentage and rating?"
      ]
    },
    {
      "cell_type": "code",
      "metadata": {
        "id": "zN9wY7QJms1V",
        "colab_type": "code",
        "colab": {
          "base_uri": "https://localhost:8080/",
          "height": 283
        },
        "outputId": "0e8791ac-2156-4df3-e46a-abc272922749"
      },
      "source": [
        "sns.boxplot(x = 'rating', y = 'cocoa_percent', data = df);"
      ],
      "execution_count": 167,
      "outputs": [
        {
          "output_type": "display_data",
          "data": {
            "image/png": "[encoded data removed]",
            "text/plain": [
              "<Figure size 432x288 with 1 Axes>"
            ]
          },
          "metadata": {
            "tags": []
          }
        }
      ]
    },
    {
      "cell_type": "markdown",
      "metadata": {
        "id": "_yXWUkYepOej",
        "colab_type": "text"
      },
      "source": [
        "Which country contribute the highest-rated chocolate?\n",
        "\n"
      ]
    },
    {
      "cell_type": "code",
      "metadata": {
        "id": "X0ERiS8Dpv7g",
        "colab_type": "code",
        "colab": {
          "base_uri": "https://localhost:8080/",
          "height": 935
        },
        "outputId": "d1ff3783-d01a-4bd7-e180-260bc469f811"
      },
      "source": [
        "fig, ax = plt.subplots(figsize=[6, 16])\n",
        "sns.boxplot(\n",
        "    data=df.sort_values('rating', ascending=False),\n",
        "    y='company_location',\n",
        "    x='rating'\n",
        ");"
      ],
      "execution_count": 171,
      "outputs": [
        {
          "output_type": "display_data",
          "data": {
            "image/png": "[encoded data removed]",
            "text/plain": [
              "<Figure size 432x1152 with 1 Axes>"
            ]
          },
          "metadata": {
            "tags": []
          }
        }
      ]
    }
  ]
}