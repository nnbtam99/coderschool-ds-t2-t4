{
  "nbformat": 4,
  "nbformat_minor": 0,
  "metadata": {
    "kernelspec": {
      "name": "python3",
      "display_name": "Python 3"
    },
    "language_info": {
      "codemirror_mode": {
        "name": "ipython",
        "version": 3
      },
      "file_extension": ".py",
      "mimetype": "text/x-python",
      "name": "python",
      "nbconvert_exporter": "python",
      "pygments_lexer": "ipython3",
      "version": "3.7.3"
    },
    "colab": {
      "name": "The latest ChocolateBar.ipynb",
      "version": "0.3.2",
      "provenance": [],
      "collapsed_sections": [
        "Q9RdXe9DcfaL"
      ],
      "toc_visible": true
    },
    "accelerator": "GPU"
  },
  "cells": [
    {
      "cell_type": "markdown",
      "metadata": {
        "id": "iKp91mZMWSdc",
        "colab_type": "text"
      },
      "source": [
        "# Team 1 - Chocolate Bar\n",
        "\n",
        "![](https://img.newatlas.com/cocoa-tree-domestication-chocolate-1.jpg?auto=format%2Ccompress&ch=Width%2CDPR&fit=crop&h=347&q=60&rect=0%2C18%2C1620%2C911&w=616&s=2c0f902d21b734d77c99fd13171fb979)\n",
        "\n",
        "_For more information about the dataset, read [here](https://www.kaggle.com/rtatman/chocolate-bar-ratings)._\n",
        "\n",
        "## Your tasks\n",
        "- Name your team!\n",
        "- Read the source and do some quick research to understand more about the dataset and its topic\n",
        "- Clean the data\n",
        "- Perform Exploratory Data Analysis on the dataset\n",
        "- Analyze the data more deeply and extract insights\n",
        "- Visualize your analysis on Google Data Studio\n",
        "- Present your works in front of the class and guests next Monday\n",
        "\n",
        "## Submission Guide\n",
        "- Create a Github repository for your project\n",
        "- Upload the dataset (.csv file) and the Jupyter Notebook to your Github repository. In the Jupyter Notebook, **include the link to your Google Data Studio report**.\n",
        "- Submit your works through this [Google Form](https://forms.gle/oxtXpGfS8JapVj3V8).\n",
        "\n",
        "## Tips for Data Cleaning, Manipulation & Visualization\n",
        "- Here are some of our tips for Data Cleaning, Manipulation & Visualization. [Click here](https://hackmd.io/cBNV7E6TT2WMliQC-GTw1A)\n",
        "\n",
        "_____________________________\n",
        "\n",
        "## Some Hints for This Dataset:\n",
        "- There are lots of poorly labeled data in `Broad Bean Origin` column.\n",
        "- There are some rows in `Broad Bean Origin` with multiple values, those values will create errors in our data. \n",
        "- How can we get rid of the `%` sign in `Cocoa Percent` column?\n",
        "- And more..."
      ]
    },
    {
      "cell_type": "markdown",
      "metadata": {
        "id": "quZgb6UO24Bd",
        "colab_type": "text"
      },
      "source": [
        "# My solution"
      ]
    },
    {
      "cell_type": "markdown",
      "metadata": {
        "id": "a222nshv9rxD",
        "colab_type": "text"
      },
      "source": [
        "# 1. Import package"
      ]
    },
    {
      "cell_type": "code",
      "metadata": {
        "id": "yFRKJjMvWSdf",
        "colab_type": "code",
        "colab": {}
      },
      "source": [
        "import io\n",
        "import re\n",
        "\n",
        "import pandas as pd\n",
        "import numpy as np\n",
        "import seaborn as sns\n",
        "from matplotlib import pyplot as plt"
      ],
      "execution_count": 0,
      "outputs": []
    },
    {
      "cell_type": "code",
      "metadata": {
        "id": "sLjJq54ZZEKW",
        "colab_type": "code",
        "colab": {}
      },
      "source": [
        "link = 'https://raw.githubusercontent.com/nnbtam99/coderschool-ds-t2-t4/master/W04%20-%20Data%20manipulation%20%2B%20Visualization/01%20-%20Chocolate%20Bar%20Ratings/flavors_of_cacao.csv'\n",
        "\n",
        "df = pd.read_csv(link)"
      ],
      "execution_count": 0,
      "outputs": []
    },
    {
      "cell_type": "markdown",
      "metadata": {
        "id": "W7pL6c8TmFYV",
        "colab_type": "text"
      },
      "source": [
        "# 2. Overview and clean data "
      ]
    },
    {
      "cell_type": "code",
      "metadata": {
        "id": "nO-PGrpU4E7H",
        "colab_type": "code",
        "outputId": "9d2308ef-2ac2-4972-e914-32718af16f47",
        "colab": {
          "base_uri": "https://localhost:8080/",
          "height": 221
        }
      },
      "source": [
        "df.head()"
      ],
      "execution_count": 0,
      "outputs": [
        {
          "output_type": "execute_result",
          "data": {
            "text/html": [
              "<div>\n",
              "<style scoped>\n",
              "    .dataframe tbody tr th:only-of-type {\n",
              "        vertical-align: middle;\n",
              "    }\n",
              "\n",
              "    .dataframe tbody tr th {\n",
              "        vertical-align: top;\n",
              "    }\n",
              "\n",
              "    .dataframe thead th {\n",
              "        text-align: right;\n",
              "    }\n",
              "</style>\n",
              "<table border=\"1\" class=\"dataframe\">\n",
              "  <thead>\n",
              "    <tr style=\"text-align: right;\">\n",
              "      <th></th>\n",
              "      <th>Company \n",
              "(Maker-if known)</th>\n",
              "      <th>Specific Bean Origin\n",
              "or Bar Name</th>\n",
              "      <th>REF</th>\n",
              "      <th>Review\n",
              "Date</th>\n",
              "      <th>Cocoa\n",
              "Percent</th>\n",
              "      <th>Company\n",
              "Location</th>\n",
              "      <th>Rating</th>\n",
              "      <th>Bean\n",
              "Type</th>\n",
              "      <th>Broad Bean\n",
              "Origin</th>\n",
              "    </tr>\n",
              "  </thead>\n",
              "  <tbody>\n",
              "    <tr>\n",
              "      <th>0</th>\n",
              "      <td>A. Morin</td>\n",
              "      <td>Agua Grande</td>\n",
              "      <td>1876</td>\n",
              "      <td>2016</td>\n",
              "      <td>63%</td>\n",
              "      <td>France</td>\n",
              "      <td>3.75</td>\n",
              "      <td></td>\n",
              "      <td>Sao Tome</td>\n",
              "    </tr>\n",
              "    <tr>\n",
              "      <th>1</th>\n",
              "      <td>A. Morin</td>\n",
              "      <td>Kpime</td>\n",
              "      <td>1676</td>\n",
              "      <td>2015</td>\n",
              "      <td>70%</td>\n",
              "      <td>France</td>\n",
              "      <td>2.75</td>\n",
              "      <td></td>\n",
              "      <td>Togo</td>\n",
              "    </tr>\n",
              "    <tr>\n",
              "      <th>2</th>\n",
              "      <td>A. Morin</td>\n",
              "      <td>Atsane</td>\n",
              "      <td>1676</td>\n",
              "      <td>2015</td>\n",
              "      <td>70%</td>\n",
              "      <td>France</td>\n",
              "      <td>3.00</td>\n",
              "      <td></td>\n",
              "      <td>Togo</td>\n",
              "    </tr>\n",
              "    <tr>\n",
              "      <th>3</th>\n",
              "      <td>A. Morin</td>\n",
              "      <td>Akata</td>\n",
              "      <td>1680</td>\n",
              "      <td>2015</td>\n",
              "      <td>70%</td>\n",
              "      <td>France</td>\n",
              "      <td>3.50</td>\n",
              "      <td></td>\n",
              "      <td>Togo</td>\n",
              "    </tr>\n",
              "    <tr>\n",
              "      <th>4</th>\n",
              "      <td>A. Morin</td>\n",
              "      <td>Quilla</td>\n",
              "      <td>1704</td>\n",
              "      <td>2015</td>\n",
              "      <td>70%</td>\n",
              "      <td>France</td>\n",
              "      <td>3.50</td>\n",
              "      <td></td>\n",
              "      <td>Peru</td>\n",
              "    </tr>\n",
              "  </tbody>\n",
              "</table>\n",
              "</div>"
            ],
            "text/plain": [
              "  Company \\n(Maker-if known)  ... Broad Bean\\nOrigin\n",
              "0                   A. Morin  ...           Sao Tome\n",
              "1                   A. Morin  ...               Togo\n",
              "2                   A. Morin  ...               Togo\n",
              "3                   A. Morin  ...               Togo\n",
              "4                   A. Morin  ...               Peru\n",
              "\n",
              "[5 rows x 9 columns]"
            ]
          },
          "metadata": {
            "tags": []
          },
          "execution_count": 4
        }
      ]
    },
    {
      "cell_type": "code",
      "metadata": {
        "id": "PRsT_FBH4P-h",
        "colab_type": "code",
        "outputId": "c08f6ead-81bf-46c1-a62d-03caeec834cc",
        "colab": {
          "base_uri": "https://localhost:8080/",
          "height": 85
        }
      },
      "source": [
        "df.columns"
      ],
      "execution_count": 0,
      "outputs": [
        {
          "output_type": "execute_result",
          "data": {
            "text/plain": [
              "Index(['Company \\n(Maker-if known)', 'Specific Bean Origin\\nor Bar Name',\n",
              "       'REF', 'Review\\nDate', 'Cocoa\\nPercent', 'Company\\nLocation', 'Rating',\n",
              "       'Bean\\nType', 'Broad Bean\\nOrigin'],\n",
              "      dtype='object')"
            ]
          },
          "metadata": {
            "tags": []
          },
          "execution_count": 5
        }
      ]
    },
    {
      "cell_type": "code",
      "metadata": {
        "id": "-1Sy6Wd64R_p",
        "colab_type": "code",
        "outputId": "84e5463e-a5cd-4a45-b9d4-103ad2eed0c7",
        "colab": {
          "base_uri": "https://localhost:8080/",
          "height": 374
        }
      },
      "source": [
        "df.info()"
      ],
      "execution_count": 0,
      "outputs": [
        {
          "output_type": "stream",
          "text": [
            "<class 'pandas.core.frame.DataFrame'>\n",
            "RangeIndex: 1795 entries, 0 to 1794\n",
            "Data columns (total 9 columns):\n",
            "Company \n",
            "(Maker-if known)           1795 non-null object\n",
            "Specific Bean Origin\n",
            "or Bar Name    1795 non-null object\n",
            "REF                                 1795 non-null int64\n",
            "Review\n",
            "Date                         1795 non-null int64\n",
            "Cocoa\n",
            "Percent                       1795 non-null object\n",
            "Company\n",
            "Location                    1795 non-null object\n",
            "Rating                              1795 non-null float64\n",
            "Bean\n",
            "Type                           1794 non-null object\n",
            "Broad Bean\n",
            "Origin                   1794 non-null object\n",
            "dtypes: float64(1), int64(2), object(6)\n",
            "memory usage: 126.3+ KB\n"
          ],
          "name": "stdout"
        }
      ]
    },
    {
      "cell_type": "code",
      "metadata": {
        "id": "nbmX6FtG4Wa4",
        "colab_type": "code",
        "outputId": "f2480572-32a9-47d8-9057-c474301e53e4",
        "colab": {
          "base_uri": "https://localhost:8080/",
          "height": 187
        }
      },
      "source": [
        "df.isnull().sum()"
      ],
      "execution_count": 0,
      "outputs": [
        {
          "output_type": "execute_result",
          "data": {
            "text/plain": [
              "Company \\n(Maker-if known)           0\n",
              "Specific Bean Origin\\nor Bar Name    0\n",
              "REF                                  0\n",
              "Review\\nDate                         0\n",
              "Cocoa\\nPercent                       0\n",
              "Company\\nLocation                    0\n",
              "Rating                               0\n",
              "Bean\\nType                           1\n",
              "Broad Bean\\nOrigin                   1\n",
              "dtype: int64"
            ]
          },
          "metadata": {
            "tags": []
          },
          "execution_count": 7
        }
      ]
    },
    {
      "cell_type": "markdown",
      "metadata": {
        "id": "pYIfvCRZmJja",
        "colab_type": "text"
      },
      "source": [
        "## Normalize column names"
      ]
    },
    {
      "cell_type": "code",
      "metadata": {
        "id": "kYFJT9izywPw",
        "colab_type": "code",
        "colab": {}
      },
      "source": [
        "new_columns = ['company', 'specific_origin', 'REF', 'review_date', 'cocoa_percent', 'company_location', 'rating', 'bean_type', 'broad_origin']\n",
        "df.columns = new_columns"
      ],
      "execution_count": 0,
      "outputs": []
    },
    {
      "cell_type": "code",
      "metadata": {
        "id": "meMRBJE8zbaW",
        "colab_type": "code",
        "outputId": "f4bc7ce3-38f0-4e51-e0aa-61f3641047b1",
        "colab": {
          "base_uri": "https://localhost:8080/",
          "height": 328
        }
      },
      "source": [
        "df.head().T"
      ],
      "execution_count": 0,
      "outputs": [
        {
          "output_type": "execute_result",
          "data": {
            "text/html": [
              "<div>\n",
              "<style scoped>\n",
              "    .dataframe tbody tr th:only-of-type {\n",
              "        vertical-align: middle;\n",
              "    }\n",
              "\n",
              "    .dataframe tbody tr th {\n",
              "        vertical-align: top;\n",
              "    }\n",
              "\n",
              "    .dataframe thead th {\n",
              "        text-align: right;\n",
              "    }\n",
              "</style>\n",
              "<table border=\"1\" class=\"dataframe\">\n",
              "  <thead>\n",
              "    <tr style=\"text-align: right;\">\n",
              "      <th></th>\n",
              "      <th>0</th>\n",
              "      <th>1</th>\n",
              "      <th>2</th>\n",
              "      <th>3</th>\n",
              "      <th>4</th>\n",
              "    </tr>\n",
              "  </thead>\n",
              "  <tbody>\n",
              "    <tr>\n",
              "      <th>company</th>\n",
              "      <td>A. Morin</td>\n",
              "      <td>A. Morin</td>\n",
              "      <td>A. Morin</td>\n",
              "      <td>A. Morin</td>\n",
              "      <td>A. Morin</td>\n",
              "    </tr>\n",
              "    <tr>\n",
              "      <th>specific_origin</th>\n",
              "      <td>Agua Grande</td>\n",
              "      <td>Kpime</td>\n",
              "      <td>Atsane</td>\n",
              "      <td>Akata</td>\n",
              "      <td>Quilla</td>\n",
              "    </tr>\n",
              "    <tr>\n",
              "      <th>REF</th>\n",
              "      <td>1876</td>\n",
              "      <td>1676</td>\n",
              "      <td>1676</td>\n",
              "      <td>1680</td>\n",
              "      <td>1704</td>\n",
              "    </tr>\n",
              "    <tr>\n",
              "      <th>review_date</th>\n",
              "      <td>2016</td>\n",
              "      <td>2015</td>\n",
              "      <td>2015</td>\n",
              "      <td>2015</td>\n",
              "      <td>2015</td>\n",
              "    </tr>\n",
              "    <tr>\n",
              "      <th>cocoa_percent</th>\n",
              "      <td>63%</td>\n",
              "      <td>70%</td>\n",
              "      <td>70%</td>\n",
              "      <td>70%</td>\n",
              "      <td>70%</td>\n",
              "    </tr>\n",
              "    <tr>\n",
              "      <th>company_location</th>\n",
              "      <td>France</td>\n",
              "      <td>France</td>\n",
              "      <td>France</td>\n",
              "      <td>France</td>\n",
              "      <td>France</td>\n",
              "    </tr>\n",
              "    <tr>\n",
              "      <th>rating</th>\n",
              "      <td>3.75</td>\n",
              "      <td>2.75</td>\n",
              "      <td>3</td>\n",
              "      <td>3.5</td>\n",
              "      <td>3.5</td>\n",
              "    </tr>\n",
              "    <tr>\n",
              "      <th>bean_type</th>\n",
              "      <td></td>\n",
              "      <td></td>\n",
              "      <td></td>\n",
              "      <td></td>\n",
              "      <td></td>\n",
              "    </tr>\n",
              "    <tr>\n",
              "      <th>broad_origin</th>\n",
              "      <td>Sao Tome</td>\n",
              "      <td>Togo</td>\n",
              "      <td>Togo</td>\n",
              "      <td>Togo</td>\n",
              "      <td>Peru</td>\n",
              "    </tr>\n",
              "  </tbody>\n",
              "</table>\n",
              "</div>"
            ],
            "text/plain": [
              "                            0         1         2         3         4\n",
              "company              A. Morin  A. Morin  A. Morin  A. Morin  A. Morin\n",
              "specific_origin   Agua Grande     Kpime    Atsane     Akata    Quilla\n",
              "REF                      1876      1676      1676      1680      1704\n",
              "review_date              2016      2015      2015      2015      2015\n",
              "cocoa_percent             63%       70%       70%       70%       70%\n",
              "company_location       France    France    France    France    France\n",
              "rating                   3.75      2.75         3       3.5       3.5\n",
              "bean_type                                                            \n",
              "broad_origin         Sao Tome      Togo      Togo      Togo      Peru"
            ]
          },
          "metadata": {
            "tags": []
          },
          "execution_count": 9
        }
      ]
    },
    {
      "cell_type": "code",
      "metadata": {
        "id": "ja7GTikZ4e3V",
        "colab_type": "code",
        "outputId": "249d53c8-8165-4ec0-f205-edfc535691f9",
        "colab": {
          "base_uri": "https://localhost:8080/",
          "height": 255
        }
      },
      "source": [
        "df.info()"
      ],
      "execution_count": 0,
      "outputs": [
        {
          "output_type": "stream",
          "text": [
            "<class 'pandas.core.frame.DataFrame'>\n",
            "RangeIndex: 1795 entries, 0 to 1794\n",
            "Data columns (total 9 columns):\n",
            "company             1795 non-null object\n",
            "specific_origin     1795 non-null object\n",
            "REF                 1795 non-null int64\n",
            "review_date         1795 non-null int64\n",
            "cocoa_percent       1795 non-null object\n",
            "company_location    1795 non-null object\n",
            "rating              1795 non-null float64\n",
            "bean_type           1794 non-null object\n",
            "broad_origin        1794 non-null object\n",
            "dtypes: float64(1), int64(2), object(6)\n",
            "memory usage: 126.3+ KB\n"
          ],
          "name": "stdout"
        }
      ]
    },
    {
      "cell_type": "markdown",
      "metadata": {
        "id": "1ciIjAwk2uY7",
        "colab_type": "text"
      },
      "source": [
        "### Check all values of each feature"
      ]
    },
    {
      "cell_type": "code",
      "metadata": {
        "id": "J5G2x_vm2nFa",
        "colab_type": "code",
        "outputId": "9adf8960-9232-4926-f481-8d7a721ef702",
        "colab": {
          "base_uri": "https://localhost:8080/",
          "height": 221
        }
      },
      "source": [
        "df['company_location'].sort_values().unique()\n",
        "\n",
        "# UK includes Ireland, Scotland, Wales and England, so the values are quite ambiguous --> Perhaps U.K in this context referes to England \n",
        "# Dominican Republic is mispelled\n",
        "# Nicaragua is mispelled\n",
        "# Amsterdam is a city of Netherlands, not a country --> So Amsterdam should be replaced with Netherlands"
      ],
      "execution_count": 0,
      "outputs": [
        {
          "output_type": "execute_result",
          "data": {
            "text/plain": [
              "array(['Amsterdam', 'Argentina', 'Australia', 'Austria', 'Belgium',\n",
              "       'Bolivia', 'Brazil', 'Canada', 'Chile', 'Colombia', 'Costa Rica',\n",
              "       'Czech Republic', 'Denmark', 'Domincan Republic', 'Ecuador',\n",
              "       'Eucador', 'Fiji', 'Finland', 'France', 'Germany', 'Ghana',\n",
              "       'Grenada', 'Guatemala', 'Honduras', 'Hungary', 'Iceland', 'India',\n",
              "       'Ireland', 'Israel', 'Italy', 'Japan', 'Lithuania', 'Madagascar',\n",
              "       'Martinique', 'Mexico', 'Netherlands', 'New Zealand', 'Niacragua',\n",
              "       'Nicaragua', 'Peru', 'Philippines', 'Poland', 'Portugal',\n",
              "       'Puerto Rico', 'Russia', 'Sao Tome', 'Scotland', 'Singapore',\n",
              "       'South Africa', 'South Korea', 'Spain', 'St. Lucia', 'Suriname',\n",
              "       'Sweden', 'Switzerland', 'U.K.', 'U.S.A.', 'Venezuela', 'Vietnam',\n",
              "       'Wales'], dtype=object)"
            ]
          },
          "metadata": {
            "tags": []
          },
          "execution_count": 11
        }
      ]
    },
    {
      "cell_type": "code",
      "metadata": {
        "id": "uyQV_dWoBAU2",
        "colab_type": "code",
        "outputId": "3e49d601-e0bf-4549-eb4b-eba23d11c181",
        "colab": {
          "base_uri": "https://localhost:8080/",
          "height": 119
        }
      },
      "source": [
        "# This column datatype is object, which is quite unreasonable\n",
        "# I'll remove the '%' symbol and convert it to float \n",
        "df['cocoa_percent'].unique()"
      ],
      "execution_count": 0,
      "outputs": [
        {
          "output_type": "execute_result",
          "data": {
            "text/plain": [
              "array(['63%', '70%', '60%', '80%', '88%', '72%', '55%', '75%', '65%',\n",
              "       '85%', '73%', '64%', '66%', '68%', '50%', '100%', '77%', '90%',\n",
              "       '71%', '83%', '78%', '74%', '76%', '86%', '82%', '69%', '91%',\n",
              "       '42%', '61%', '73.5%', '62%', '67%', '58%', '60.5%', '79%', '81%',\n",
              "       '57%', '72.5%', '56%', '46%', '89%', '99%', '84%', '53%', '87%'],\n",
              "      dtype=object)"
            ]
          },
          "metadata": {
            "tags": []
          },
          "execution_count": 12
        }
      ]
    },
    {
      "cell_type": "code",
      "metadata": {
        "id": "95XabzyvSdn6",
        "colab_type": "code",
        "outputId": "9a086701-a8fb-4d3e-f95f-753126651334",
        "colab": {
          "base_uri": "https://localhost:8080/",
          "height": 272
        }
      },
      "source": [
        "# Check if bean_type has mispelled or missing values\n",
        "df['bean_type'].sort_values().unique()"
      ],
      "execution_count": 0,
      "outputs": [
        {
          "output_type": "execute_result",
          "data": {
            "text/plain": [
              "array(['Amazon', 'Amazon mix', 'Amazon, ICS', 'Beniano', 'Blend',\n",
              "       'Blend-Forastero,Criollo', 'CCN51', 'Criollo', 'Criollo (Amarru)',\n",
              "       'Criollo (Ocumare 61)', 'Criollo (Ocumare 67)',\n",
              "       'Criollo (Ocumare 77)', 'Criollo (Ocumare)', 'Criollo (Porcelana)',\n",
              "       'Criollo (Wild)', 'Criollo, +', 'Criollo, Forastero',\n",
              "       'Criollo, Trinitario', 'EET', 'Forastero', 'Forastero (Amelonado)',\n",
              "       'Forastero (Arriba)', 'Forastero (Arriba) ASS',\n",
              "       'Forastero (Arriba) ASSS', 'Forastero (Catongo)',\n",
              "       'Forastero (Nacional)', 'Forastero (Parazinho)',\n",
              "       'Forastero(Arriba, CCN)', 'Forastero, Trinitario', 'Matina',\n",
              "       'Nacional', 'Nacional (Arriba)', 'Trinitario',\n",
              "       'Trinitario (85% Criollo)', 'Trinitario (Amelonado)',\n",
              "       'Trinitario (Scavina)', 'Trinitario, Criollo',\n",
              "       'Trinitario, Forastero', 'Trinitario, Nacional',\n",
              "       'Trinitario, TCGA', '\\xa0', nan], dtype=object)"
            ]
          },
          "metadata": {
            "tags": []
          },
          "execution_count": 13
        }
      ]
    },
    {
      "cell_type": "code",
      "metadata": {
        "id": "DoMg_-aSUoFo",
        "colab_type": "code",
        "outputId": "a3e8973a-f429-48c0-96cc-e3da38595326",
        "colab": {
          "base_uri": "https://localhost:8080/",
          "height": 527
        }
      },
      "source": [
        "# Check if broad_origin has mispelled or missing values\n",
        "df['broad_origin'].sort_values().unique()"
      ],
      "execution_count": 0,
      "outputs": [
        {
          "output_type": "execute_result",
          "data": {
            "text/plain": [
              "array(['Africa, Carribean, C. Am.', 'Australia', 'Belize', 'Bolivia',\n",
              "       'Brazil', 'Burma', 'Cameroon', 'Carribean',\n",
              "       'Carribean(DR/Jam/Tri)', 'Central and S. America', 'Colombia',\n",
              "       'Colombia, Ecuador', 'Congo', 'Cost Rica, Ven', 'Costa Rica',\n",
              "       'Cuba', 'DR, Ecuador, Peru', 'Dom. Rep., Madagascar',\n",
              "       'Domincan Republic', 'Dominican Rep., Bali', 'Dominican Republic',\n",
              "       'Ecuador', 'Ecuador, Costa Rica', 'Ecuador, Mad., PNG',\n",
              "       'El Salvador', 'Fiji', 'Gabon', 'Ghana', 'Ghana & Madagascar',\n",
              "       'Ghana, Domin. Rep', 'Ghana, Panama, Ecuador',\n",
              "       'Gre., PNG, Haw., Haiti, Mad', 'Grenada',\n",
              "       'Guat., D.R., Peru, Mad., PNG', 'Guatemala', 'Haiti', 'Hawaii',\n",
              "       'Honduras', 'India', 'Indonesia', 'Indonesia, Ghana',\n",
              "       'Ivory Coast', 'Jamaica', 'Liberia', 'Mad., Java, PNG',\n",
              "       'Madagascar', 'Madagascar & Ecuador', 'Malaysia', 'Martinique',\n",
              "       'Mexico', 'Nicaragua', 'Nigeria', 'PNG, Vanuatu, Mad', 'Panama',\n",
              "       'Papua New Guinea', 'Peru', 'Peru(SMartin,Pangoa,nacional)',\n",
              "       'Peru, Belize', 'Peru, Dom. Rep', 'Peru, Ecuador',\n",
              "       'Peru, Ecuador, Venezuela', 'Peru, Mad., Dom. Rep.',\n",
              "       'Peru, Madagascar', 'Philippines', 'Principe', 'Puerto Rico',\n",
              "       'Samoa', 'Sao Tome', 'Sao Tome & Principe', 'Solomon Islands',\n",
              "       'South America', 'South America, Africa', 'Sri Lanka', 'St. Lucia',\n",
              "       'Suriname', 'Tanzania', 'Tobago', 'Togo', 'Trinidad',\n",
              "       'Trinidad, Ecuador', 'Trinidad, Tobago', 'Trinidad-Tobago',\n",
              "       'Uganda', 'Vanuatu', 'Ven, Bolivia, D.R.',\n",
              "       'Ven, Trinidad, Ecuador', 'Ven., Indonesia, Ecuad.',\n",
              "       'Ven., Trinidad, Mad.', 'Ven.,Ecu.,Peru,Nic.',\n",
              "       'Venez,Africa,Brasil,Peru,Mex', 'Venezuela',\n",
              "       'Venezuela, Carribean', 'Venezuela, Dom. Rep.', 'Venezuela, Ghana',\n",
              "       'Venezuela, Java', 'Venezuela, Trinidad', 'Venezuela/ Ghana',\n",
              "       'Vietnam', 'West Africa', '\\xa0', nan], dtype=object)"
            ]
          },
          "metadata": {
            "tags": []
          },
          "execution_count": 14
        }
      ]
    },
    {
      "cell_type": "markdown",
      "metadata": {
        "id": "FdaC5CU1CGis",
        "colab_type": "text"
      },
      "source": [
        "## Clean poorly labeled data"
      ]
    },
    {
      "cell_type": "markdown",
      "metadata": {
        "id": "uLGLvqS4aR8P",
        "colab_type": "text"
      },
      "source": [
        "#### Remove unicode space '\\xa0'"
      ]
    },
    {
      "cell_type": "code",
      "metadata": {
        "id": "NOW7AEYxieQi",
        "colab_type": "code",
        "colab": {}
      },
      "source": [
        "df.replace(u'\\xa0',u'', regex=True, inplace=True)"
      ],
      "execution_count": 0,
      "outputs": []
    },
    {
      "cell_type": "markdown",
      "metadata": {
        "id": "psqVlVejyg1Z",
        "colab_type": "text"
      },
      "source": [
        "#### Clean cocoa_percent column"
      ]
    },
    {
      "cell_type": "code",
      "metadata": {
        "id": "4PkrNDmR2_Hk",
        "colab_type": "code",
        "outputId": "4d419004-a096-4e6f-83e1-a6d75f3e2018",
        "colab": {
          "base_uri": "https://localhost:8080/",
          "height": 187
        }
      },
      "source": [
        "df['cocoa_percent'] = [r.replace('%', '') for r in df['cocoa_percent']]\n",
        "df['cocoa_percent'] = df['cocoa_percent'].astype('float64')\n",
        "df.dtypes"
      ],
      "execution_count": 0,
      "outputs": [
        {
          "output_type": "execute_result",
          "data": {
            "text/plain": [
              "company              object\n",
              "specific_origin      object\n",
              "REF                   int64\n",
              "review_date           int64\n",
              "cocoa_percent       float64\n",
              "company_location     object\n",
              "rating              float64\n",
              "bean_type            object\n",
              "broad_origin         object\n",
              "dtype: object"
            ]
          },
          "metadata": {
            "tags": []
          },
          "execution_count": 16
        }
      ]
    },
    {
      "cell_type": "markdown",
      "metadata": {
        "id": "YspQS0rsXfIZ",
        "colab_type": "text"
      },
      "source": [
        "#### Clean company_location column"
      ]
    },
    {
      "cell_type": "code",
      "metadata": {
        "id": "ax9UqK2OXhhs",
        "colab_type": "code",
        "outputId": "d5c63966-0a75-45ce-8ab8-acc34af11f7e",
        "colab": {
          "base_uri": "https://localhost:8080/",
          "height": 221
        }
      },
      "source": [
        "# UK includes Ireland, Scotland, Wales and England, so the values are quite ambiguous --> Perhaps U.K in this context referes to England \n",
        "# Dominican Republic is mispelled\n",
        "# Nicaragua is mispelled\n",
        "# Amsterdam is a city of Netherlands, not a country --> So Amsterdam should be replaced with Netherlands\n",
        "\n",
        "\n",
        "df['company_location'] = df['company_location']\\\n",
        "  .replace('U.K.', 'England')\\\n",
        "  .replace('Domincan Republic', 'Dominican Republic')\\\n",
        "  .replace('Niacragua', 'Nicaragua')\\\n",
        "  .replace('Amsterdam', 'Netherlands')\n",
        "\n",
        "df['company_location'].sort_values().unique()"
      ],
      "execution_count": 0,
      "outputs": [
        {
          "output_type": "execute_result",
          "data": {
            "text/plain": [
              "array(['Argentina', 'Australia', 'Austria', 'Belgium', 'Bolivia',\n",
              "       'Brazil', 'Canada', 'Chile', 'Colombia', 'Costa Rica',\n",
              "       'Czech Republic', 'Denmark', 'Dominican Republic', 'Ecuador',\n",
              "       'England', 'Eucador', 'Fiji', 'Finland', 'France', 'Germany',\n",
              "       'Ghana', 'Grenada', 'Guatemala', 'Honduras', 'Hungary', 'Iceland',\n",
              "       'India', 'Ireland', 'Israel', 'Italy', 'Japan', 'Lithuania',\n",
              "       'Madagascar', 'Martinique', 'Mexico', 'Netherlands', 'New Zealand',\n",
              "       'Nicaragua', 'Peru', 'Philippines', 'Poland', 'Portugal',\n",
              "       'Puerto Rico', 'Russia', 'Sao Tome', 'Scotland', 'Singapore',\n",
              "       'South Africa', 'South Korea', 'Spain', 'St. Lucia', 'Suriname',\n",
              "       'Sweden', 'Switzerland', 'U.S.A.', 'Venezuela', 'Vietnam', 'Wales'],\n",
              "      dtype=object)"
            ]
          },
          "metadata": {
            "tags": []
          },
          "execution_count": 17
        }
      ]
    },
    {
      "cell_type": "markdown",
      "metadata": {
        "id": "CxeZNh6sN0CC",
        "colab_type": "text"
      },
      "source": [
        "#### Clean broad_origin column"
      ]
    },
    {
      "cell_type": "code",
      "metadata": {
        "id": "yb5pB6W1cp6x",
        "colab_type": "code",
        "outputId": "3c0346e4-4392-45f3-9c41-83fe2f1d939c",
        "colab": {
          "base_uri": "https://localhost:8080/",
          "height": 359
        }
      },
      "source": [
        "# nan is numpy datatype --> fillna before applying text_processing\n",
        "# Some specific origins are blend-type --> I'll check if blend-type denote something about the broad origin\n",
        "\n",
        "df[df['specific_origin'].str.contains('Blend')].head(10)"
      ],
      "execution_count": 0,
      "outputs": [
        {
          "output_type": "execute_result",
          "data": {
            "text/html": [
              "<div>\n",
              "<style scoped>\n",
              "    .dataframe tbody tr th:only-of-type {\n",
              "        vertical-align: middle;\n",
              "    }\n",
              "\n",
              "    .dataframe tbody tr th {\n",
              "        vertical-align: top;\n",
              "    }\n",
              "\n",
              "    .dataframe thead th {\n",
              "        text-align: right;\n",
              "    }\n",
              "</style>\n",
              "<table border=\"1\" class=\"dataframe\">\n",
              "  <thead>\n",
              "    <tr style=\"text-align: right;\">\n",
              "      <th></th>\n",
              "      <th>company</th>\n",
              "      <th>specific_origin</th>\n",
              "      <th>REF</th>\n",
              "      <th>review_date</th>\n",
              "      <th>cocoa_percent</th>\n",
              "      <th>company_location</th>\n",
              "      <th>rating</th>\n",
              "      <th>bean_type</th>\n",
              "      <th>broad_origin</th>\n",
              "    </tr>\n",
              "  </thead>\n",
              "  <tbody>\n",
              "    <tr>\n",
              "      <th>277</th>\n",
              "      <td>Burnt Fork Bend</td>\n",
              "      <td>Blend</td>\n",
              "      <td>1303</td>\n",
              "      <td>2014</td>\n",
              "      <td>72.0</td>\n",
              "      <td>U.S.A.</td>\n",
              "      <td>3.25</td>\n",
              "      <td>Blend</td>\n",
              "      <td></td>\n",
              "    </tr>\n",
              "    <tr>\n",
              "      <th>381</th>\n",
              "      <td>Chloe Chocolat</td>\n",
              "      <td>Blend No. 1</td>\n",
              "      <td>672</td>\n",
              "      <td>2011</td>\n",
              "      <td>70.0</td>\n",
              "      <td>France</td>\n",
              "      <td>3.50</td>\n",
              "      <td></td>\n",
              "      <td></td>\n",
              "    </tr>\n",
              "    <tr>\n",
              "      <th>393</th>\n",
              "      <td>Chocolate Alchemist-Philly</td>\n",
              "      <td>Philly Blend, 5 plantations</td>\n",
              "      <td>1772</td>\n",
              "      <td>2016</td>\n",
              "      <td>80.0</td>\n",
              "      <td>U.S.A.</td>\n",
              "      <td>2.50</td>\n",
              "      <td></td>\n",
              "      <td></td>\n",
              "    </tr>\n",
              "    <tr>\n",
              "      <th>564</th>\n",
              "      <td>Domori</td>\n",
              "      <td>Blend No. 1</td>\n",
              "      <td>272</td>\n",
              "      <td>2008</td>\n",
              "      <td>78.0</td>\n",
              "      <td>Italy</td>\n",
              "      <td>3.50</td>\n",
              "      <td>Blend</td>\n",
              "      <td></td>\n",
              "    </tr>\n",
              "    <tr>\n",
              "      <th>725</th>\n",
              "      <td>Fruition</td>\n",
              "      <td>Signature Blend</td>\n",
              "      <td>753</td>\n",
              "      <td>2011</td>\n",
              "      <td>66.0</td>\n",
              "      <td>U.S.A.</td>\n",
              "      <td>3.25</td>\n",
              "      <td>Trinitario</td>\n",
              "      <td>Costa Rica</td>\n",
              "    </tr>\n",
              "    <tr>\n",
              "      <th>747</th>\n",
              "      <td>Guido Castagna</td>\n",
              "      <td>Lacri Blend</td>\n",
              "      <td>355</td>\n",
              "      <td>2009</td>\n",
              "      <td>76.0</td>\n",
              "      <td>Italy</td>\n",
              "      <td>3.00</td>\n",
              "      <td></td>\n",
              "      <td>Venezuela</td>\n",
              "    </tr>\n",
              "    <tr>\n",
              "      <th>748</th>\n",
              "      <td>Guido Castagna</td>\n",
              "      <td>Blend</td>\n",
              "      <td>355</td>\n",
              "      <td>2009</td>\n",
              "      <td>64.0</td>\n",
              "      <td>Italy</td>\n",
              "      <td>3.25</td>\n",
              "      <td></td>\n",
              "      <td>Ven, Trinidad, Ecuador</td>\n",
              "    </tr>\n",
              "    <tr>\n",
              "      <th>749</th>\n",
              "      <td>Guittard</td>\n",
              "      <td>Epique, Blend No. 49</td>\n",
              "      <td>1602</td>\n",
              "      <td>2015</td>\n",
              "      <td>70.0</td>\n",
              "      <td>U.S.A.</td>\n",
              "      <td>3.75</td>\n",
              "      <td></td>\n",
              "      <td></td>\n",
              "    </tr>\n",
              "    <tr>\n",
              "      <th>785</th>\n",
              "      <td>Harper Macaw</td>\n",
              "      <td>Brazil Blend</td>\n",
              "      <td>1696</td>\n",
              "      <td>2015</td>\n",
              "      <td>67.0</td>\n",
              "      <td>U.S.A.</td>\n",
              "      <td>3.00</td>\n",
              "      <td></td>\n",
              "      <td>Brazil</td>\n",
              "    </tr>\n",
              "    <tr>\n",
              "      <th>957</th>\n",
              "      <td>L'Amourette</td>\n",
              "      <td>Blend</td>\n",
              "      <td>853</td>\n",
              "      <td>2012</td>\n",
              "      <td>72.0</td>\n",
              "      <td>U.S.A.</td>\n",
              "      <td>3.00</td>\n",
              "      <td>Criollo</td>\n",
              "      <td>Peru, Ecuador, Venezuela</td>\n",
              "    </tr>\n",
              "  </tbody>\n",
              "</table>\n",
              "</div>"
            ],
            "text/plain": [
              "                        company  ...              broad_origin\n",
              "277             Burnt Fork Bend  ...                          \n",
              "381              Chloe Chocolat  ...                          \n",
              "393  Chocolate Alchemist-Philly  ...                          \n",
              "564                      Domori  ...                          \n",
              "725                    Fruition  ...                Costa Rica\n",
              "747              Guido Castagna  ...                 Venezuela\n",
              "748              Guido Castagna  ...    Ven, Trinidad, Ecuador\n",
              "749                    Guittard  ...                          \n",
              "785                Harper Macaw  ...                    Brazil\n",
              "957                 L'Amourette  ...  Peru, Ecuador, Venezuela\n",
              "\n",
              "[10 rows x 9 columns]"
            ]
          },
          "metadata": {
            "tags": []
          },
          "execution_count": 18
        }
      ]
    },
    {
      "cell_type": "code",
      "metadata": {
        "id": "8xQvhjdvks6g",
        "colab_type": "code",
        "colab": {}
      },
      "source": [
        "# As we can guess, if a kind of chocolate derives from too many countries, its broad origin will be missing\n",
        "# Hence I'll fill missing broad_origin with its specific origin\n",
        "df['broad_origin'].fillna(df['specific_origin'], inplace = True)"
      ],
      "execution_count": 0,
      "outputs": []
    },
    {
      "cell_type": "code",
      "metadata": {
        "id": "BiEtgZO3mcsC",
        "colab_type": "code",
        "outputId": "b21ec999-73f6-4180-ec7c-95a20b001897",
        "colab": {
          "base_uri": "https://localhost:8080/",
          "height": 527
        }
      },
      "source": [
        "df['broad_origin'].sort_values().unique()"
      ],
      "execution_count": 0,
      "outputs": [
        {
          "output_type": "execute_result",
          "data": {
            "text/plain": [
              "array(['', 'Africa, Carribean, C. Am.', 'Australia', 'Belize', 'Bolivia',\n",
              "       'Brazil', 'Burma', 'Cameroon', 'Carribean',\n",
              "       'Carribean(DR/Jam/Tri)', 'Central and S. America', 'Colombia',\n",
              "       'Colombia, Ecuador', 'Congo', 'Cost Rica, Ven', 'Costa Rica',\n",
              "       'Cuba', 'DR, Ecuador, Peru', 'Dom. Rep., Madagascar',\n",
              "       'Domincan Republic', 'Dominican Rep., Bali', 'Dominican Republic',\n",
              "       'Ecuador', 'Ecuador, Costa Rica', 'Ecuador, Mad., PNG',\n",
              "       'El Salvador', 'Fiji', 'Gabon', 'Ghana', 'Ghana & Madagascar',\n",
              "       'Ghana, Domin. Rep', 'Ghana, Panama, Ecuador',\n",
              "       'Gre., PNG, Haw., Haiti, Mad', 'Grenada',\n",
              "       'Guat., D.R., Peru, Mad., PNG', 'Guatemala', 'Haiti', 'Hawaii',\n",
              "       'Honduras', 'India', 'Indonesia', 'Indonesia, Ghana',\n",
              "       'Ivory Coast', 'Jamaica', 'Liberia', 'Mad., Java, PNG',\n",
              "       'Madagascar', 'Madagascar & Ecuador', 'Malaysia', 'Martinique',\n",
              "       'Mexico', 'Nicaragua', 'Nigeria', 'PNG, Vanuatu, Mad', 'Panama',\n",
              "       'Papua New Guinea', 'Peru', 'Peru(SMartin,Pangoa,nacional)',\n",
              "       'Peru, Belize', 'Peru, Dom. Rep', 'Peru, Ecuador',\n",
              "       'Peru, Ecuador, Venezuela', 'Peru, Mad., Dom. Rep.',\n",
              "       'Peru, Madagascar', 'Philippines', 'Principe', 'Puerto Rico',\n",
              "       'Samoa', 'Sao Tome', 'Sao Tome & Principe', 'Solomon Islands',\n",
              "       'South America', 'South America, Africa', 'Sri Lanka', 'St. Lucia',\n",
              "       'Suriname', 'Tanzania', 'Tobago', 'Togo', 'Trinidad',\n",
              "       'Trinidad, Ecuador', 'Trinidad, Tobago', 'Trinidad-Tobago',\n",
              "       'Uganda', 'Vanuatu', 'Ven, Bolivia, D.R.',\n",
              "       'Ven, Trinidad, Ecuador', 'Ven., Indonesia, Ecuad.',\n",
              "       'Ven., Trinidad, Mad.', 'Ven.,Ecu.,Peru,Nic.',\n",
              "       'Venez,Africa,Brasil,Peru,Mex', 'Venezuela',\n",
              "       'Venezuela, Carribean', 'Venezuela, Dom. Rep.', 'Venezuela, Ghana',\n",
              "       'Venezuela, Java', 'Venezuela, Trinidad', 'Venezuela/ Ghana',\n",
              "       'Vietnam', 'West Africa'], dtype=object)"
            ]
          },
          "metadata": {
            "tags": []
          },
          "execution_count": 20
        }
      ]
    },
    {
      "cell_type": "code",
      "metadata": {
        "id": "fZY8ltkdONEn",
        "colab_type": "code",
        "colab": {}
      },
      "source": [
        "# Many countries are refered by different names and abbreviations\n",
        "# Eg: Dominican Republic is Dominican Rep., DR, D.R., Domin. Rep, etc\n",
        "# Modify so that every country will be refered with just 1 name\n",
        "\n",
        "def text_prep(text):\n",
        "    replacements = {\n",
        "        '-':', ', '/ ': ', ', '/': ', ', '\\(': ', ',' and':', ', ' & ': ', ', '\\)': '',\n",
        "        'Dom Rep|DR|Domin Rep|Dominican Rep,|Domincan Republic':'Dominican Republic',\n",
        "        'Mad,|Mad$':'Madagascar, ',\n",
        "        'PNG': 'Papua New Guinea, ',\n",
        "        'Guat,|Guat$': 'Guatemala, ',\n",
        "        'Ven,|Ven$|Venez,|Venez$':'Venezuela, ',\n",
        "        'Ecu,|Ecu$|Ecuad,|Ecuad$': 'Ecuador, ',\n",
        "        'Nic,|Nic$': 'Nicaragua, ',\n",
        "        'Cost Rica':'Costa Rica',\n",
        "        'Mex,|Mex$': 'Mexico, ',\n",
        "        'Jam,|Jam$': 'Jamaica, ',\n",
        "        'Haw,|Haw$': 'Hawaii, ',\n",
        "        'Gre,|Gre$': 'Greneda, ',\n",
        "        'Tri,|Tri$': 'Trinidad, ',\n",
        "        'C Am':'Central America',\n",
        "        'S America':'South America',\n",
        "        ', $':'', ',  ': ', ', ', ,':', ', '\\xa0':' ',',\\s+': ',',\n",
        "        ' Bali': ',Bali',\n",
        "        'nacional': 'Nacional'\n",
        "    }\n",
        "    \n",
        "    for k, v in replacements.items():\n",
        "      text = re.sub(k, v, text)\n",
        "\n",
        "    return text"
      ],
      "execution_count": 0,
      "outputs": []
    },
    {
      "cell_type": "code",
      "metadata": {
        "id": "4tibTtDBapf3",
        "colab_type": "code",
        "outputId": "cc7aa1ec-4c0f-4495-897b-d75df0381fc8",
        "colab": {
          "base_uri": "https://localhost:8080/",
          "height": 578
        }
      },
      "source": [
        "df['broad_origin'].str.replace('.', '').apply(text_prep).sort_values().unique()"
      ],
      "execution_count": 0,
      "outputs": [
        {
          "output_type": "execute_result",
          "data": {
            "text/plain": [
              "array(['', 'Africa,Carribean,Central America', 'Australia', 'Belize',\n",
              "       'Bolivia', 'Brazil', 'Burma', 'Cameroon', 'Carribean',\n",
              "       'Carribean,Dominican Republic,Jamaica,Trinidad',\n",
              "       'Central,South America', 'Colombia', 'Colombia,Ecuador', 'Congo',\n",
              "       'Costa Rica', 'Costa Rica,Venezuela', 'Cuba', 'Dominican Republic',\n",
              "       'Dominican Republic,Bali', 'Dominican Republic,Ecuador,Peru',\n",
              "       'Dominican Republic,Madagascar', 'Ecuador', 'Ecuador,Costa Rica',\n",
              "       'Ecuador,Madagascar,Papua New Guinea', 'El Salvador', 'Fiji',\n",
              "       'Gabon', 'Ghana', 'Ghana,Dominican Republic', 'Ghana,Madagascar',\n",
              "       'Ghana,Panama,Ecuador', 'Grenada',\n",
              "       'Greneda,Papua New Guinea,Hawaii,Haiti,Madagascar', 'Guatemala',\n",
              "       'Guatemala,Dominican Republic,Peru,Madagascar,Papua New Guinea',\n",
              "       'Haiti', 'Hawaii', 'Honduras', 'India', 'Indonesia',\n",
              "       'Indonesia,Ghana', 'Ivory Coast', 'Jamaica', 'Liberia',\n",
              "       'Madagascar', 'Madagascar,Ecuador',\n",
              "       'Madagascar,Java,Papua New Guinea', 'Malaysia', 'Martinique',\n",
              "       'Mexico', 'Nicaragua', 'Nigeria', 'Panama', 'Papua New Guinea',\n",
              "       'Papua New Guinea,Vanuatu,Madagascar', 'Peru', 'Peru,Belize',\n",
              "       'Peru,Dominican Republic', 'Peru,Ecuador',\n",
              "       'Peru,Ecuador,Venezuela', 'Peru,Madagascar',\n",
              "       'Peru,Madagascar,Dominican Republic',\n",
              "       'Peru,SMartin,Pangoa,Nacional', 'Philippines', 'Principe',\n",
              "       'Puerto Rico', 'Samoa', 'Sao Tome', 'Sao Tome,Principe',\n",
              "       'Solomon Islands', 'South America', 'South America,Africa',\n",
              "       'Sri Lanka', 'St Lucia', 'Suriname', 'Tanzania', 'Tobago', 'Togo',\n",
              "       'Trinidad', 'Trinidad,Ecuador', 'Trinidad,Tobago', 'Uganda',\n",
              "       'Vanuatu', 'Venezuela', 'Venezuela,Africa,Brasil,Peru,Mexico',\n",
              "       'Venezuela,Bolivia,Dominican Republic', 'Venezuela,Carribean',\n",
              "       'Venezuela,Dominican Republic', 'Venezuela,Ecuador,Peru,Nicaragua',\n",
              "       'Venezuela,Ghana', 'Venezuela,Indonesia,Ecuador', 'Venezuela,Java',\n",
              "       'Venezuela,Trinidad', 'Venezuela,Trinidad,Ecuador',\n",
              "       'Venezuela,Trinidad,Madagascar', 'Vietnam', 'West Africa'],\n",
              "      dtype=object)"
            ]
          },
          "metadata": {
            "tags": []
          },
          "execution_count": 22
        }
      ]
    },
    {
      "cell_type": "code",
      "metadata": {
        "id": "s349dnD9eNx5",
        "colab_type": "code",
        "colab": {}
      },
      "source": [
        "df['broad_origin'] = df['broad_origin'].str.replace('.', '').apply(text_prep)"
      ],
      "execution_count": 0,
      "outputs": []
    },
    {
      "cell_type": "code",
      "metadata": {
        "id": "9ovTJn5eXY1N",
        "colab_type": "code",
        "outputId": "be63a6cb-4006-47bf-ec8d-b8b0a85e0e05",
        "colab": {
          "base_uri": "https://localhost:8080/",
          "height": 629
        }
      },
      "source": [
        "df.broad_origin.unique()"
      ],
      "execution_count": 0,
      "outputs": [
        {
          "output_type": "execute_result",
          "data": {
            "text/plain": [
              "array(['Sao Tome', 'Togo', 'Peru', 'Venezuela', 'Cuba', 'Panama',\n",
              "       'Madagascar', 'Brazil', 'Ecuador', 'Colombia', 'Burma',\n",
              "       'Papua New Guinea', 'Bolivia', 'Fiji', 'Mexico', 'Indonesia',\n",
              "       'Trinidad', 'Vietnam', 'Nicaragua', 'Tanzania',\n",
              "       'Dominican Republic', 'Ghana', 'Belize', '', 'Jamaica', 'Grenada',\n",
              "       'Guatemala', 'Honduras', 'Costa Rica', 'Haiti', 'Congo',\n",
              "       'Philippines', 'Malaysia', 'Dominican Republic,Bali',\n",
              "       'Venezuela,Africa,Brasil,Peru,Mexico', 'Gabon', 'Ivory Coast',\n",
              "       'Carribean', 'Sri Lanka', 'Puerto Rico', 'Uganda', 'Martinique',\n",
              "       'Sao Tome,Principe', 'Vanuatu', 'Australia', 'Liberia',\n",
              "       'Ecuador,Costa Rica', 'West Africa', 'Hawaii', 'St Lucia',\n",
              "       'Costa Rica,Venezuela', 'Peru,Madagascar', 'Venezuela,Trinidad',\n",
              "       'Trinidad,Tobago', 'Venezuela,Trinidad,Ecuador',\n",
              "       'South America,Africa', 'India',\n",
              "       'Africa,Carribean,Central America', 'Tobago',\n",
              "       'Venezuela,Indonesia,Ecuador', 'Peru,Ecuador,Venezuela',\n",
              "       'Venezuela,Dominican Republic', 'Colombia,Ecuador',\n",
              "       'Solomon Islands', 'Nigeria', 'Peru,Belize',\n",
              "       'Peru,Madagascar,Dominican Republic',\n",
              "       'Papua New Guinea,Vanuatu,Madagascar', 'El Salvador',\n",
              "       'South America', 'Samoa', 'Ghana,Dominican Republic',\n",
              "       'Trinidad,Ecuador', 'Cameroon', 'Venezuela,Java',\n",
              "       'Venezuela,Ghana', 'Indonesia,Ghana',\n",
              "       'Peru,SMartin,Pangoa,Nacional', 'Principe',\n",
              "       'Central,South America', 'Venezuela,Trinidad,Madagascar',\n",
              "       'Carribean,Dominican Republic,Jamaica,Trinidad',\n",
              "       'Ghana,Madagascar', 'Venezuela,Ecuador,Peru,Nicaragua',\n",
              "       'Madagascar,Ecuador',\n",
              "       'Guatemala,Dominican Republic,Peru,Madagascar,Papua New Guinea',\n",
              "       'Peru,Dominican Republic', 'Dominican Republic,Madagascar',\n",
              "       'Greneda,Papua New Guinea,Hawaii,Haiti,Madagascar',\n",
              "       'Madagascar,Java,Papua New Guinea',\n",
              "       'Venezuela,Bolivia,Dominican Republic',\n",
              "       'Dominican Republic,Ecuador,Peru', 'Suriname', 'Peru,Ecuador',\n",
              "       'Ecuador,Madagascar,Papua New Guinea', 'Ghana,Panama,Ecuador',\n",
              "       'Venezuela,Carribean'], dtype=object)"
            ]
          },
          "metadata": {
            "tags": []
          },
          "execution_count": 24
        }
      ]
    },
    {
      "cell_type": "markdown",
      "metadata": {
        "id": "FqLtOR5-2f8u",
        "colab_type": "text"
      },
      "source": [
        "##Save root data after cleaning to csv"
      ]
    },
    {
      "cell_type": "code",
      "metadata": {
        "id": "NzacEEPQ25vf",
        "colab_type": "code",
        "colab": {}
      },
      "source": [
        "# from google.colab import drive\n",
        "# drive.mount('/content/drive')"
      ],
      "execution_count": 0,
      "outputs": []
    },
    {
      "cell_type": "code",
      "metadata": {
        "id": "V8C9OkaI3EF2",
        "colab_type": "code",
        "colab": {}
      },
      "source": [
        "# %cd '/content/drive/My Drive/CoderSchool/Chocolate'"
      ],
      "execution_count": 0,
      "outputs": []
    },
    {
      "cell_type": "code",
      "metadata": {
        "id": "9kt1oj053JZG",
        "colab_type": "code",
        "colab": {}
      },
      "source": [
        "# df.to_csv('chocolate.csv', index=False)"
      ],
      "execution_count": 0,
      "outputs": []
    },
    {
      "cell_type": "code",
      "metadata": {
        "id": "8wY8tKO44Rqy",
        "colab_type": "code",
        "colab": {}
      },
      "source": [
        "# df.review_date.head(2)"
      ],
      "execution_count": 0,
      "outputs": []
    },
    {
      "cell_type": "markdown",
      "metadata": {
        "id": "ATIcZaeag5yD",
        "colab_type": "text"
      },
      "source": [
        "##Convert broad_origins to list"
      ]
    },
    {
      "cell_type": "code",
      "metadata": {
        "id": "RhcEfehBXpNN",
        "colab_type": "code",
        "colab": {}
      },
      "source": [
        "def split_places(origin):\n",
        "  return origin.split(',')\n",
        "\n",
        "broad_origins = df.broad_origin.apply(split_places)"
      ],
      "execution_count": 0,
      "outputs": []
    },
    {
      "cell_type": "code",
      "metadata": {
        "id": "UCK6ZuT_YSsk",
        "colab_type": "code",
        "colab": {}
      },
      "source": [
        "### get list of broad origins:\n",
        "def get_broad_origins_list(origins_series):\n",
        "  origins = {}\n",
        "  for ls in origins_series.values:\n",
        "    for origin in ls:\n",
        "      if origin not in origins:\n",
        "        origins.update({origin : 1})\n",
        "      else:\n",
        "        origins[origin]+=1\n",
        "  return origins\n",
        "\n",
        "unique_broad_origins = get_broad_origins_list(broad_origins)"
      ],
      "execution_count": 0,
      "outputs": []
    },
    {
      "cell_type": "code",
      "metadata": {
        "id": "wnVHoJZihlxW",
        "colab_type": "code",
        "outputId": "6383cdeb-be75-42e8-ad73-615c2b41d364",
        "colab": {
          "base_uri": "https://localhost:8080/",
          "height": 204
        }
      },
      "source": [
        "origin_df = pd.DataFrame.from_dict(unique_broad_origins, orient='index', columns=['count'])\n",
        "origin_df.head()"
      ],
      "execution_count": 0,
      "outputs": [
        {
          "output_type": "execute_result",
          "data": {
            "text/html": [
              "<div>\n",
              "<style scoped>\n",
              "    .dataframe tbody tr th:only-of-type {\n",
              "        vertical-align: middle;\n",
              "    }\n",
              "\n",
              "    .dataframe tbody tr th {\n",
              "        vertical-align: top;\n",
              "    }\n",
              "\n",
              "    .dataframe thead th {\n",
              "        text-align: right;\n",
              "    }\n",
              "</style>\n",
              "<table border=\"1\" class=\"dataframe\">\n",
              "  <thead>\n",
              "    <tr style=\"text-align: right;\">\n",
              "      <th></th>\n",
              "      <th>count</th>\n",
              "    </tr>\n",
              "  </thead>\n",
              "  <tbody>\n",
              "    <tr>\n",
              "      <th>Sao Tome</th>\n",
              "      <td>17</td>\n",
              "    </tr>\n",
              "    <tr>\n",
              "      <th>Togo</th>\n",
              "      <td>3</td>\n",
              "    </tr>\n",
              "    <tr>\n",
              "      <th>Peru</th>\n",
              "      <td>176</td>\n",
              "    </tr>\n",
              "    <tr>\n",
              "      <th>Venezuela</th>\n",
              "      <td>228</td>\n",
              "    </tr>\n",
              "    <tr>\n",
              "      <th>Cuba</th>\n",
              "      <td>11</td>\n",
              "    </tr>\n",
              "  </tbody>\n",
              "</table>\n",
              "</div>"
            ],
            "text/plain": [
              "           count\n",
              "Sao Tome      17\n",
              "Togo           3\n",
              "Peru         176\n",
              "Venezuela    228\n",
              "Cuba          11"
            ]
          },
          "metadata": {
            "tags": []
          },
          "execution_count": 72
        }
      ]
    },
    {
      "cell_type": "code",
      "metadata": {
        "id": "DM7qZqYvlpil",
        "colab_type": "code",
        "outputId": "86305040-f4b7-46ca-e452-5538e748a811",
        "colab": {
          "base_uri": "https://localhost:8080/",
          "height": 204
        }
      },
      "source": [
        "origin_df.reset_index(drop=False, inplace=True);\n",
        "origin_df.rename(columns={'index':'country'}, inplace=True);\n",
        "origin_df.head()\n"
      ],
      "execution_count": 0,
      "outputs": [
        {
          "output_type": "execute_result",
          "data": {
            "text/html": [
              "<div>\n",
              "<style scoped>\n",
              "    .dataframe tbody tr th:only-of-type {\n",
              "        vertical-align: middle;\n",
              "    }\n",
              "\n",
              "    .dataframe tbody tr th {\n",
              "        vertical-align: top;\n",
              "    }\n",
              "\n",
              "    .dataframe thead th {\n",
              "        text-align: right;\n",
              "    }\n",
              "</style>\n",
              "<table border=\"1\" class=\"dataframe\">\n",
              "  <thead>\n",
              "    <tr style=\"text-align: right;\">\n",
              "      <th></th>\n",
              "      <th>country</th>\n",
              "      <th>count</th>\n",
              "    </tr>\n",
              "  </thead>\n",
              "  <tbody>\n",
              "    <tr>\n",
              "      <th>0</th>\n",
              "      <td>Sao Tome</td>\n",
              "      <td>17</td>\n",
              "    </tr>\n",
              "    <tr>\n",
              "      <th>1</th>\n",
              "      <td>Togo</td>\n",
              "      <td>3</td>\n",
              "    </tr>\n",
              "    <tr>\n",
              "      <th>2</th>\n",
              "      <td>Peru</td>\n",
              "      <td>176</td>\n",
              "    </tr>\n",
              "    <tr>\n",
              "      <th>3</th>\n",
              "      <td>Venezuela</td>\n",
              "      <td>228</td>\n",
              "    </tr>\n",
              "    <tr>\n",
              "      <th>4</th>\n",
              "      <td>Cuba</td>\n",
              "      <td>11</td>\n",
              "    </tr>\n",
              "  </tbody>\n",
              "</table>\n",
              "</div>"
            ],
            "text/plain": [
              "     country  count\n",
              "0   Sao Tome     17\n",
              "1       Togo      3\n",
              "2       Peru    176\n",
              "3  Venezuela    228\n",
              "4       Cuba     11"
            ]
          },
          "metadata": {
            "tags": []
          },
          "execution_count": 73
        }
      ]
    },
    {
      "cell_type": "markdown",
      "metadata": {
        "id": "EiWhe8HZpq6n",
        "colab_type": "text"
      },
      "source": [
        "number of bean types in each broad_origin\n"
      ]
    },
    {
      "cell_type": "code",
      "metadata": {
        "id": "1RTCARIRmG8g",
        "colab_type": "code",
        "outputId": "ce739d47-cb44-4964-d643-87bc558bc297",
        "colab": {
          "base_uri": "https://localhost:8080/",
          "height": 297
        }
      },
      "source": [
        "origin_df.dropna(axis=0, inplace=True)\n",
        "origin_df.describe()"
      ],
      "execution_count": 0,
      "outputs": [
        {
          "output_type": "execute_result",
          "data": {
            "text/html": [
              "<div>\n",
              "<style scoped>\n",
              "    .dataframe tbody tr th:only-of-type {\n",
              "        vertical-align: middle;\n",
              "    }\n",
              "\n",
              "    .dataframe tbody tr th {\n",
              "        vertical-align: top;\n",
              "    }\n",
              "\n",
              "    .dataframe thead th {\n",
              "        text-align: right;\n",
              "    }\n",
              "</style>\n",
              "<table border=\"1\" class=\"dataframe\">\n",
              "  <thead>\n",
              "    <tr style=\"text-align: right;\">\n",
              "      <th></th>\n",
              "      <th>count</th>\n",
              "    </tr>\n",
              "  </thead>\n",
              "  <tbody>\n",
              "    <tr>\n",
              "      <th>count</th>\n",
              "      <td>66.000000</td>\n",
              "    </tr>\n",
              "    <tr>\n",
              "      <th>mean</th>\n",
              "      <td>28.454545</td>\n",
              "    </tr>\n",
              "    <tr>\n",
              "      <th>std</th>\n",
              "      <td>50.167161</td>\n",
              "    </tr>\n",
              "    <tr>\n",
              "      <th>min</th>\n",
              "      <td>1.000000</td>\n",
              "    </tr>\n",
              "    <tr>\n",
              "      <th>25%</th>\n",
              "      <td>2.250000</td>\n",
              "    </tr>\n",
              "    <tr>\n",
              "      <th>50%</th>\n",
              "      <td>8.000000</td>\n",
              "    </tr>\n",
              "    <tr>\n",
              "      <th>75%</th>\n",
              "      <td>33.250000</td>\n",
              "    </tr>\n",
              "    <tr>\n",
              "      <th>max</th>\n",
              "      <td>228.000000</td>\n",
              "    </tr>\n",
              "  </tbody>\n",
              "</table>\n",
              "</div>"
            ],
            "text/plain": [
              "            count\n",
              "count   66.000000\n",
              "mean    28.454545\n",
              "std     50.167161\n",
              "min      1.000000\n",
              "25%      2.250000\n",
              "50%      8.000000\n",
              "75%     33.250000\n",
              "max    228.000000"
            ]
          },
          "metadata": {
            "tags": []
          },
          "execution_count": 33
        }
      ]
    },
    {
      "cell_type": "code",
      "metadata": {
        "id": "WICP8CfK644K",
        "colab_type": "code",
        "colab": {}
      },
      "source": [
        "#origin_df.to_csv('broad_origins.csv', index=False)"
      ],
      "execution_count": 0,
      "outputs": []
    },
    {
      "cell_type": "markdown",
      "metadata": {
        "id": "hV-eDxoCUNAa",
        "colab_type": "text"
      },
      "source": [
        "# 3. Data Analysis "
      ]
    },
    {
      "cell_type": "markdown",
      "metadata": {
        "id": "90kNhZb3OHj1",
        "colab_type": "text"
      },
      "source": [
        "##Correlation"
      ]
    },
    {
      "cell_type": "code",
      "metadata": {
        "id": "_GOKS1hbOM8G",
        "colab_type": "code",
        "outputId": "871b1d1b-9e98-4324-ae33-c519e80057cf",
        "colab": {
          "base_uri": "https://localhost:8080/",
          "height": 630
        }
      },
      "source": [
        "# see correlation between variables through a correlation heatmap\n",
        "corr = df.corr()\n",
        "plt.figure(figsize=(10,10))\n",
        "sns.heatmap(corr, annot=True, cmap=\"Reds\")\n",
        "plt.title('Correlation Heatmap', fontsize=20)"
      ],
      "execution_count": 0,
      "outputs": [
        {
          "output_type": "execute_result",
          "data": {
            "text/plain": [
              "Text(0.5, 1.0, 'Correlation Heatmap')"
            ]
          },
          "metadata": {
            "tags": []
          },
          "execution_count": 37
        },
        {
          "output_type": "display_data",
          "data": {
            "image/png": "[encoded data removed]",
            "text/plain": [
              "<Figure size 720x720 with 2 Axes>"
            ]
          },
          "metadata": {
            "tags": []
          }
        }
      ]
    },
    {
      "cell_type": "markdown",
      "metadata": {
        "id": "4d7ALyRYeRZv",
        "colab_type": "text"
      },
      "source": [
        "## Rating"
      ]
    },
    {
      "cell_type": "markdown",
      "metadata": {
        "id": "4XiJif2OWauD",
        "colab_type": "text"
      },
      "source": [
        "### In General"
      ]
    },
    {
      "cell_type": "code",
      "metadata": {
        "id": "lMORgE76lCBe",
        "colab_type": "code",
        "outputId": "0780f05b-418c-4ed3-96db-0e626cc2d647",
        "colab": {
          "base_uri": "https://localhost:8080/",
          "height": 300
        }
      },
      "source": [
        "# rating_count = df.rating.value_counts().to_frame('count');\n",
        "# rating_count.reset_index(drop=False, inplace=True);\n",
        "# rating_count.rename(columns={'index':'rating'}, inplace=True);\n",
        "# rating_count.head(2)\n",
        "sns.countplot(x='rating', data=df)"
      ],
      "execution_count": 0,
      "outputs": [
        {
          "output_type": "execute_result",
          "data": {
            "text/plain": [
              "<matplotlib.axes._subplots.AxesSubplot at 0x7f31488c3a90>"
            ]
          },
          "metadata": {
            "tags": []
          },
          "execution_count": 38
        },
        {
          "output_type": "display_data",
          "data": {
            "image/png": "[encoded data removed]",
            "text/plain": [
              "<Figure size 432x288 with 1 Axes>"
            ]
          },
          "metadata": {
            "tags": []
          }
        }
      ]
    },
    {
      "cell_type": "code",
      "metadata": {
        "id": "EYxzM3MCLXWT",
        "colab_type": "code",
        "outputId": "b739adb9-f7ee-4df3-ca70-ee7359e226f4",
        "colab": {
          "base_uri": "https://localhost:8080/",
          "height": 283
        }
      },
      "source": [
        "sns.distplot(df['rating']);"
      ],
      "execution_count": 0,
      "outputs": [
        {
          "output_type": "display_data",
          "data": {
            "image/png": "[encoded data removed]",
            "text/plain": [
              "<Figure size 432x288 with 1 Axes>"
            ]
          },
          "metadata": {
            "tags": []
          }
        }
      ]
    },
    {
      "cell_type": "code",
      "metadata": {
        "id": "2eAYTYV_WYe4",
        "colab_type": "code",
        "outputId": "14b96ec8-48fa-433d-f7c0-df228821e4fa",
        "colab": {
          "base_uri": "https://localhost:8080/",
          "height": 354
        }
      },
      "source": [
        "\n",
        "plt.figure(figsize=(8, 5))\n",
        "sns.lineplot(x='REF', y='rating', data=df[df.review_date==2017].sort_values(by='REF', ascending=True))"
      ],
      "execution_count": 0,
      "outputs": [
        {
          "output_type": "execute_result",
          "data": {
            "text/plain": [
              "<matplotlib.axes._subplots.AxesSubplot at 0x7f3145e820b8>"
            ]
          },
          "metadata": {
            "tags": []
          },
          "execution_count": 40
        },
        {
          "output_type": "display_data",
          "data": {
            "image/png": "[encoded data removed]",
            "text/plain": [
              "<Figure size 576x360 with 1 Axes>"
            ]
          },
          "metadata": {
            "tags": []
          }
        }
      ]
    },
    {
      "cell_type": "markdown",
      "metadata": {
        "id": "5sBbJUPDef1d",
        "colab_type": "text"
      },
      "source": [
        "### Classify rating marks"
      ]
    },
    {
      "cell_type": "code",
      "metadata": {
        "id": "baqpfgYrgyOD",
        "colab_type": "code",
        "colab": {}
      },
      "source": [
        "def rating_classify(rating):\n",
        "  if rating >= 5:\n",
        "    return 'elite'\n",
        "  if rating >= 4 and rating < 5:\n",
        "    return 'premium'\n",
        "  if rating >= 3 and rating < 4:\n",
        "    return 'satisfactory'\n",
        "  if rating >= 2 and rating < 3:\n",
        "    return 'disapointing'\n",
        "  return 'unpleasant'"
      ],
      "execution_count": 0,
      "outputs": []
    },
    {
      "cell_type": "code",
      "metadata": {
        "id": "4iyb3wqoeTu8",
        "colab_type": "code",
        "outputId": "b67c2be5-3fb5-4360-ba70-0e39519efb2b",
        "colab": {
          "base_uri": "https://localhost:8080/",
          "height": 111
        }
      },
      "source": [
        "df['rating_class'] = df.rating\n",
        "df.rating_class = df.rating_class.apply(rating_classify);\n",
        "df.head(2)"
      ],
      "execution_count": 0,
      "outputs": [
        {
          "output_type": "execute_result",
          "data": {
            "text/html": [
              "<div>\n",
              "<style scoped>\n",
              "    .dataframe tbody tr th:only-of-type {\n",
              "        vertical-align: middle;\n",
              "    }\n",
              "\n",
              "    .dataframe tbody tr th {\n",
              "        vertical-align: top;\n",
              "    }\n",
              "\n",
              "    .dataframe thead th {\n",
              "        text-align: right;\n",
              "    }\n",
              "</style>\n",
              "<table border=\"1\" class=\"dataframe\">\n",
              "  <thead>\n",
              "    <tr style=\"text-align: right;\">\n",
              "      <th></th>\n",
              "      <th>company</th>\n",
              "      <th>specific_origin</th>\n",
              "      <th>REF</th>\n",
              "      <th>review_date</th>\n",
              "      <th>cocoa_percent</th>\n",
              "      <th>company_location</th>\n",
              "      <th>rating</th>\n",
              "      <th>bean_type</th>\n",
              "      <th>broad_origin</th>\n",
              "      <th>rating_class</th>\n",
              "    </tr>\n",
              "  </thead>\n",
              "  <tbody>\n",
              "    <tr>\n",
              "      <th>0</th>\n",
              "      <td>A. Morin</td>\n",
              "      <td>Agua Grande</td>\n",
              "      <td>1876</td>\n",
              "      <td>2016</td>\n",
              "      <td>63.0</td>\n",
              "      <td>France</td>\n",
              "      <td>3.75</td>\n",
              "      <td></td>\n",
              "      <td>Sao Tome</td>\n",
              "      <td>satisfactory</td>\n",
              "    </tr>\n",
              "    <tr>\n",
              "      <th>1</th>\n",
              "      <td>A. Morin</td>\n",
              "      <td>Kpime</td>\n",
              "      <td>1676</td>\n",
              "      <td>2015</td>\n",
              "      <td>70.0</td>\n",
              "      <td>France</td>\n",
              "      <td>2.75</td>\n",
              "      <td></td>\n",
              "      <td>Togo</td>\n",
              "      <td>disapointing</td>\n",
              "    </tr>\n",
              "  </tbody>\n",
              "</table>\n",
              "</div>"
            ],
            "text/plain": [
              "    company specific_origin   REF  ...  bean_type  broad_origin  rating_class\n",
              "0  A. Morin     Agua Grande  1876  ...                 Sao Tome  satisfactory\n",
              "1  A. Morin           Kpime  1676  ...                     Togo  disapointing\n",
              "\n",
              "[2 rows x 10 columns]"
            ]
          },
          "metadata": {
            "tags": []
          },
          "execution_count": 35
        }
      ]
    },
    {
      "cell_type": "markdown",
      "metadata": {
        "id": "iRLTmfgmkyFI",
        "colab_type": "text"
      },
      "source": [
        "###Rare chocolate: Premium and Elite"
      ]
    },
    {
      "cell_type": "code",
      "metadata": {
        "id": "Pzwe9gswh1jW",
        "colab_type": "code",
        "outputId": "f8a3a0a2-a72b-478c-a8b6-97bad2242ecd",
        "colab": {
          "base_uri": "https://localhost:8080/",
          "height": 272
        }
      },
      "source": [
        "classes = df.rating_class.value_counts().index.tolist()\n",
        "sizes = df.rating_class.value_counts().values.tolist()\n",
        "print(classes)\n",
        "explode=(0, 0, 0, 1, 2.5)\n",
        "plt.pie(sizes, labels=classes, explode=explode, autopct='%1.1f%%')\n",
        "plt.show()\n",
        "\n"
      ],
      "execution_count": 0,
      "outputs": [
        {
          "output_type": "stream",
          "text": [
            "['satisfactory', 'disapointing', 'premium', 'unpleasant', 'elite']\n"
          ],
          "name": "stdout"
        },
        {
          "output_type": "display_data",
          "data": {
            "image/png": "[encoded data removed]",
            "text/plain": [
              "<Figure size 432x288 with 1 Axes>"
            ]
          },
          "metadata": {
            "tags": []
          }
        }
      ]
    },
    {
      "cell_type": "code",
      "metadata": {
        "id": "BRDwvuGHiL8o",
        "colab_type": "code",
        "outputId": "a2fbf36b-e7e4-46ab-c77a-bc8d7a69bec8",
        "colab": {
          "base_uri": "https://localhost:8080/",
          "height": 119
        }
      },
      "source": [
        "df.rating_class.value_counts()"
      ],
      "execution_count": 0,
      "outputs": [
        {
          "output_type": "execute_result",
          "data": {
            "text/plain": [
              "satisfactory    1246\n",
              "disapointing     432\n",
              "premium           98\n",
              "unpleasant        17\n",
              "elite              2\n",
              "Name: rating_class, dtype: int64"
            ]
          },
          "metadata": {
            "tags": []
          },
          "execution_count": 37
        }
      ]
    },
    {
      "cell_type": "markdown",
      "metadata": {
        "id": "9UpI2lpqQaUh",
        "colab_type": "text"
      },
      "source": [
        "### Correlation between rating with cocoa percent"
      ]
    },
    {
      "cell_type": "code",
      "metadata": {
        "id": "j0asWeg8Lqxv",
        "colab_type": "code",
        "outputId": "5b7d21cb-f015-4025-ffed-c13c11946050",
        "colab": {
          "base_uri": "https://localhost:8080/",
          "height": 441
        }
      },
      "source": [
        "sns.jointplot(x=\"rating\", y=\"cocoa_percent\", kind='kde', data=df);"
      ],
      "execution_count": 0,
      "outputs": [
        {
          "output_type": "display_data",
          "data": {
            "image/png": "[encoded data removed]",
            "text/plain": [
              "<Figure size 432x432 with 3 Axes>"
            ]
          },
          "metadata": {
            "tags": []
          }
        }
      ]
    },
    {
      "cell_type": "code",
      "metadata": {
        "id": "eHJOWm_STxvs",
        "colab_type": "code",
        "colab": {}
      },
      "source": [
        "!pip install --upgrade -q gspread"
      ],
      "execution_count": 0,
      "outputs": []
    },
    {
      "cell_type": "markdown",
      "metadata": {
        "id": "gYls6myxbrsO",
        "colab_type": "text"
      },
      "source": [
        "#### Top 10 companies with highest avg rating score"
      ]
    },
    {
      "cell_type": "code",
      "metadata": {
        "id": "TOOZfBVqbc2e",
        "colab_type": "code",
        "outputId": "ff57588e-6ae1-4857-a729-fb5666223b40",
        "colab": {
          "base_uri": "https://localhost:8080/",
          "height": 359
        }
      },
      "source": [
        "top_10_rating_companies = df[['company','company_location', 'cocoa_percent', 'rating']].groupby(['company','company_location']).mean()\n",
        "top_10_rating_companies.reset_index(drop=False, inplace=True);\n",
        "top_10_rating_companies.sort_values(by = ['rating'],ascending =False).head(10)"
      ],
      "execution_count": 0,
      "outputs": [
        {
          "output_type": "execute_result",
          "data": {
            "text/html": [
              "<div>\n",
              "<style scoped>\n",
              "    .dataframe tbody tr th:only-of-type {\n",
              "        vertical-align: middle;\n",
              "    }\n",
              "\n",
              "    .dataframe tbody tr th {\n",
              "        vertical-align: top;\n",
              "    }\n",
              "\n",
              "    .dataframe thead th {\n",
              "        text-align: right;\n",
              "    }\n",
              "</style>\n",
              "<table border=\"1\" class=\"dataframe\">\n",
              "  <thead>\n",
              "    <tr style=\"text-align: right;\">\n",
              "      <th></th>\n",
              "      <th>company</th>\n",
              "      <th>company_location</th>\n",
              "      <th>cocoa_percent</th>\n",
              "      <th>rating</th>\n",
              "    </tr>\n",
              "  </thead>\n",
              "  <tbody>\n",
              "    <tr>\n",
              "      <th>381</th>\n",
              "      <td>Tobago Estate (Pralus)</td>\n",
              "      <td>France</td>\n",
              "      <td>70.000000</td>\n",
              "      <td>4.000000</td>\n",
              "    </tr>\n",
              "    <tr>\n",
              "      <th>287</th>\n",
              "      <td>Ocelot</td>\n",
              "      <td>Scotland</td>\n",
              "      <td>72.500000</td>\n",
              "      <td>3.875000</td>\n",
              "    </tr>\n",
              "    <tr>\n",
              "      <th>183</th>\n",
              "      <td>Heirloom Cacao Preservation (Zokoko)</td>\n",
              "      <td>U.S.A.</td>\n",
              "      <td>70.000000</td>\n",
              "      <td>3.875000</td>\n",
              "    </tr>\n",
              "    <tr>\n",
              "      <th>14</th>\n",
              "      <td>Amedei</td>\n",
              "      <td>Italy</td>\n",
              "      <td>69.538462</td>\n",
              "      <td>3.846154</td>\n",
              "    </tr>\n",
              "    <tr>\n",
              "      <th>249</th>\n",
              "      <td>Matale</td>\n",
              "      <td>Australia</td>\n",
              "      <td>71.000000</td>\n",
              "      <td>3.812500</td>\n",
              "    </tr>\n",
              "    <tr>\n",
              "      <th>304</th>\n",
              "      <td>Patric</td>\n",
              "      <td>U.S.A.</td>\n",
              "      <td>69.833333</td>\n",
              "      <td>3.791667</td>\n",
              "    </tr>\n",
              "    <tr>\n",
              "      <th>191</th>\n",
              "      <td>Idilio (Felchlin)</td>\n",
              "      <td>Switzerland</td>\n",
              "      <td>72.000000</td>\n",
              "      <td>3.775000</td>\n",
              "    </tr>\n",
              "    <tr>\n",
              "      <th>96</th>\n",
              "      <td>Christopher Morel (Felchlin)</td>\n",
              "      <td>Canada</td>\n",
              "      <td>68.000000</td>\n",
              "      <td>3.750000</td>\n",
              "    </tr>\n",
              "    <tr>\n",
              "      <th>125</th>\n",
              "      <td>Dole (Guittard)</td>\n",
              "      <td>U.S.A.</td>\n",
              "      <td>70.000000</td>\n",
              "      <td>3.750000</td>\n",
              "    </tr>\n",
              "    <tr>\n",
              "      <th>2</th>\n",
              "      <td>Acalli</td>\n",
              "      <td>U.S.A.</td>\n",
              "      <td>70.000000</td>\n",
              "      <td>3.750000</td>\n",
              "    </tr>\n",
              "  </tbody>\n",
              "</table>\n",
              "</div>"
            ],
            "text/plain": [
              "                                  company  ...    rating\n",
              "381                Tobago Estate (Pralus)  ...  4.000000\n",
              "287                                Ocelot  ...  3.875000\n",
              "183  Heirloom Cacao Preservation (Zokoko)  ...  3.875000\n",
              "14                                 Amedei  ...  3.846154\n",
              "249                                Matale  ...  3.812500\n",
              "304                                Patric  ...  3.791667\n",
              "191                     Idilio (Felchlin)  ...  3.775000\n",
              "96           Christopher Morel (Felchlin)  ...  3.750000\n",
              "125                       Dole (Guittard)  ...  3.750000\n",
              "2                                  Acalli  ...  3.750000\n",
              "\n",
              "[10 rows x 4 columns]"
            ]
          },
          "metadata": {
            "tags": []
          },
          "execution_count": 39
        }
      ]
    },
    {
      "cell_type": "markdown",
      "metadata": {
        "id": "Hx1OHK9sb9-r",
        "colab_type": "text"
      },
      "source": [
        "#### Top 10 rating company location"
      ]
    },
    {
      "cell_type": "code",
      "metadata": {
        "id": "FbJAN4uwagQG",
        "colab_type": "code",
        "outputId": "c75e71d5-b7bd-4e1d-b816-214db7ff6c9b",
        "colab": {
          "base_uri": "https://localhost:8080/",
          "height": 359
        }
      },
      "source": [
        "top_10_rating_company_locations = df[['company_location', 'cocoa_percent', 'rating']].groupby('company_location').mean()\n",
        "top_10_rating_company_locations.reset_index(drop=False, inplace=True);\n",
        "top_10_rating_company_locations.sort_values(by = ['rating'],ascending =False).head(10)"
      ],
      "execution_count": 0,
      "outputs": [
        {
          "output_type": "execute_result",
          "data": {
            "text/html": [
              "<div>\n",
              "<style scoped>\n",
              "    .dataframe tbody tr th:only-of-type {\n",
              "        vertical-align: middle;\n",
              "    }\n",
              "\n",
              "    .dataframe tbody tr th {\n",
              "        vertical-align: top;\n",
              "    }\n",
              "\n",
              "    .dataframe thead th {\n",
              "        text-align: right;\n",
              "    }\n",
              "</style>\n",
              "<table border=\"1\" class=\"dataframe\">\n",
              "  <thead>\n",
              "    <tr style=\"text-align: right;\">\n",
              "      <th></th>\n",
              "      <th>company_location</th>\n",
              "      <th>cocoa_percent</th>\n",
              "      <th>rating</th>\n",
              "    </tr>\n",
              "  </thead>\n",
              "  <tbody>\n",
              "    <tr>\n",
              "      <th>7</th>\n",
              "      <td>Chile</td>\n",
              "      <td>70.000000</td>\n",
              "      <td>3.750000</td>\n",
              "    </tr>\n",
              "    <tr>\n",
              "      <th>39</th>\n",
              "      <td>Philippines</td>\n",
              "      <td>65.000000</td>\n",
              "      <td>3.500000</td>\n",
              "    </tr>\n",
              "    <tr>\n",
              "      <th>35</th>\n",
              "      <td>Netherlands</td>\n",
              "      <td>71.625000</td>\n",
              "      <td>3.500000</td>\n",
              "    </tr>\n",
              "    <tr>\n",
              "      <th>25</th>\n",
              "      <td>Iceland</td>\n",
              "      <td>68.666667</td>\n",
              "      <td>3.416667</td>\n",
              "    </tr>\n",
              "    <tr>\n",
              "      <th>56</th>\n",
              "      <td>Vietnam</td>\n",
              "      <td>74.545455</td>\n",
              "      <td>3.409091</td>\n",
              "    </tr>\n",
              "    <tr>\n",
              "      <th>5</th>\n",
              "      <td>Brazil</td>\n",
              "      <td>69.823529</td>\n",
              "      <td>3.397059</td>\n",
              "    </tr>\n",
              "    <tr>\n",
              "      <th>40</th>\n",
              "      <td>Poland</td>\n",
              "      <td>71.875000</td>\n",
              "      <td>3.375000</td>\n",
              "    </tr>\n",
              "    <tr>\n",
              "      <th>1</th>\n",
              "      <td>Australia</td>\n",
              "      <td>70.224490</td>\n",
              "      <td>3.357143</td>\n",
              "    </tr>\n",
              "    <tr>\n",
              "      <th>22</th>\n",
              "      <td>Guatemala</td>\n",
              "      <td>70.200000</td>\n",
              "      <td>3.350000</td>\n",
              "    </tr>\n",
              "    <tr>\n",
              "      <th>53</th>\n",
              "      <td>Switzerland</td>\n",
              "      <td>71.210526</td>\n",
              "      <td>3.342105</td>\n",
              "    </tr>\n",
              "  </tbody>\n",
              "</table>\n",
              "</div>"
            ],
            "text/plain": [
              "   company_location  cocoa_percent    rating\n",
              "7             Chile      70.000000  3.750000\n",
              "39      Philippines      65.000000  3.500000\n",
              "35      Netherlands      71.625000  3.500000\n",
              "25          Iceland      68.666667  3.416667\n",
              "56          Vietnam      74.545455  3.409091\n",
              "5            Brazil      69.823529  3.397059\n",
              "40           Poland      71.875000  3.375000\n",
              "1         Australia      70.224490  3.357143\n",
              "22        Guatemala      70.200000  3.350000\n",
              "53      Switzerland      71.210526  3.342105"
            ]
          },
          "metadata": {
            "tags": []
          },
          "execution_count": 40
        }
      ]
    },
    {
      "cell_type": "markdown",
      "metadata": {
        "id": "Q9RdXe9DcfaL",
        "colab_type": "text"
      },
      "source": [
        "### Popular"
      ]
    },
    {
      "cell_type": "markdown",
      "metadata": {
        "id": "VtHITtc9QGMf",
        "colab_type": "text"
      },
      "source": [
        "#### Top 10 most popular companies"
      ]
    },
    {
      "cell_type": "code",
      "metadata": {
        "id": "vKXBnWGyMLIs",
        "colab_type": "code",
        "outputId": "b3968456-f76b-442c-8074-06e40b3a05e7",
        "colab": {
          "base_uri": "https://localhost:8080/",
          "height": 68
        }
      },
      "source": [
        "def n_most_company(n):\n",
        "  length = df.shape[0]\n",
        "  df['count'] = np.ones(length)\n",
        "  most_company = df.groupby('company').sum().sort_values(by = 'count', ascending=False)\n",
        "  return most_company.head(n).index\n",
        "\n",
        "ten_most_company = n_most_company(10)\n",
        "def is_top_10_company(x):\n",
        "  if x in ten_most_company:\n",
        "    return True\n",
        "  else:\n",
        "    return False\n",
        "  \n",
        "top_10_popular_company = df[df['company'].apply(is_top_10_company)]\n",
        "top_10_popular_company.company.unique()\n"
      ],
      "execution_count": 0,
      "outputs": [
        {
          "output_type": "execute_result",
          "data": {
            "text/plain": [
              "array(['A. Morin', 'Arete', 'Bonnat', 'Domori', 'Fresco', 'Guittard',\n",
              "       'Hotel Chocolat (Coppeneur)', 'Pralus', 'Soma', 'Valrhona'],\n",
              "      dtype=object)"
            ]
          },
          "metadata": {
            "tags": []
          },
          "execution_count": 41
        }
      ]
    },
    {
      "cell_type": "code",
      "metadata": {
        "id": "gc1hOZ-h8f48",
        "colab_type": "code",
        "outputId": "0e9fbd3d-5fe1-4cf7-ebd7-e54a42c3ad56",
        "colab": {
          "base_uri": "https://localhost:8080/",
          "height": 729
        }
      },
      "source": [
        "ax = sns.catplot(x=\"company\", y=\"rating\", kind=\"box\", data=top_10_popular_company,aspect =1.2, height=10)"
      ],
      "execution_count": 0,
      "outputs": [
        {
          "output_type": "display_data",
          "data": {
            "image/png": "[encoded data removed]",
            "text/plain": [
              "<Figure size 864x720 with 1 Axes>"
            ]
          },
          "metadata": {
            "tags": []
          }
        }
      ]
    },
    {
      "cell_type": "markdown",
      "metadata": {
        "id": "GhfbPwYLbI_G",
        "colab_type": "text"
      },
      "source": [
        "#### Top 10 most popular Company Locations"
      ]
    },
    {
      "cell_type": "code",
      "metadata": {
        "id": "kHp6LIfINh2e",
        "colab_type": "code",
        "colab": {}
      },
      "source": [
        "def n_most_company_location(n):\n",
        "  length = df.shape[0]\n",
        "  df['count'] = np.ones(length)\n",
        "  most_company = df.groupby('company_location').sum().sort_values(by = 'count', ascending=False)\n",
        "  return most_company.head(n).index\n",
        "\n",
        "ten_most_company_location = n_most_company_location(10)\n",
        "\n",
        "def is_top_10_company_location(x):\n",
        "  if x in ten_most_company_location:\n",
        "    return True\n",
        "  else:\n",
        "    return False\n",
        "  \n",
        "top_10_company_location = df[df['company_location'].apply(is_top_10_company_location)]\n",
        "ax = sns.catplot(x=\"company_location\", y=\"rating\", kind=\"box\", data=top_10_company_location,height =10, aspect =1.2)"
      ],
      "execution_count": 0,
      "outputs": []
    },
    {
      "cell_type": "code",
      "metadata": {
        "id": "1Oy1K76y_U-I",
        "colab_type": "code",
        "colab": {}
      },
      "source": [
        ""
      ],
      "execution_count": 0,
      "outputs": []
    },
    {
      "cell_type": "markdown",
      "metadata": {
        "id": "sIPXAYRVQZ7-",
        "colab_type": "text"
      },
      "source": [
        "##Review_date (year)"
      ]
    },
    {
      "cell_type": "markdown",
      "metadata": {
        "id": "vTPvqOb4SrGj",
        "colab_type": "text"
      },
      "source": [
        "### In General"
      ]
    },
    {
      "cell_type": "code",
      "metadata": {
        "id": "crIY0JuePJ0W",
        "colab_type": "code",
        "colab": {}
      },
      "source": [
        "sns.distplot(df['review_date'],kde=False);\n",
        "plt.title('Distribution of review date')\n",
        "# Perfect period is 2012-2016\n",
        "# Worst period is 2006-2009"
      ],
      "execution_count": 0,
      "outputs": []
    },
    {
      "cell_type": "code",
      "metadata": {
        "id": "qozckppYSbvu",
        "colab_type": "code",
        "colab": {}
      },
      "source": [
        "#average cocoa_percent by year\n",
        "avg_cocoa_year = df.groupby('review_date').mean()\n",
        "avg_cocoa_year\n"
      ],
      "execution_count": 0,
      "outputs": []
    },
    {
      "cell_type": "markdown",
      "metadata": {
        "id": "bP4mo609PPge",
        "colab_type": "text"
      },
      "source": [
        "### Correlation between review date and rating"
      ]
    },
    {
      "cell_type": "code",
      "metadata": {
        "id": "s-_pQSh0Pb7L",
        "colab_type": "code",
        "colab": {}
      },
      "source": [
        "sns.jointplot(x=\"review_date\", y=\"rating\", kind='kde', data=df);\n",
        "## We realize that 2013-2016 period has high rating"
      ],
      "execution_count": 0,
      "outputs": []
    },
    {
      "cell_type": "markdown",
      "metadata": {
        "id": "bPdrX4GhPfB4",
        "colab_type": "text"
      },
      "source": [
        "###Perfect period"
      ]
    },
    {
      "cell_type": "code",
      "metadata": {
        "id": "auK2P6FhPena",
        "colab_type": "code",
        "colab": {}
      },
      "source": [
        "perfect_period = df[(2013<= df['review_date']) & (df['review_date'] <= 2016)]"
      ],
      "execution_count": 0,
      "outputs": []
    },
    {
      "cell_type": "code",
      "metadata": {
        "id": "vOwI8F7wPm2I",
        "colab_type": "code",
        "colab": {}
      },
      "source": [
        "worst_period = df[(2010 > df['review_date']) | (2016 < df['review_date']) ]"
      ],
      "execution_count": 0,
      "outputs": []
    },
    {
      "cell_type": "code",
      "metadata": {
        "id": "7cdH0YA0Ppsg",
        "colab_type": "code",
        "outputId": "82396cc1-a1cf-4393-9b65-d3366d7563dc",
        "colab": {
          "base_uri": "https://localhost:8080/",
          "height": 856
        }
      },
      "source": [
        "fig = plt.figure(figsize = (10,14))\n",
        "fig.add_subplot(211)   #top left\n",
        "ax = sns.distplot(perfect_period['cocoa_percent'])\n",
        "plt.title('Cocoa percent in perfect period')\n",
        "fig.add_subplot(212)   #\n",
        "ax = sns.distplot(worst_period['cocoa_percent'])\n",
        "plt.title('Cocoa percent in worst period')"
      ],
      "execution_count": 0,
      "outputs": [
        {
          "output_type": "execute_result",
          "data": {
            "text/plain": [
              "Text(0.5, 1.0, 'Cocoa percent in worst period')"
            ]
          },
          "metadata": {
            "tags": []
          },
          "execution_count": 53
        },
        {
          "output_type": "display_data",
          "data": {
            "image/png": "[encoded data removed]",
            "text/plain": [
              "<Figure size 720x1008 with 2 Axes>"
            ]
          },
          "metadata": {
            "tags": []
          }
        }
      ]
    },
    {
      "cell_type": "markdown",
      "metadata": {
        "id": "KawwaVWDc8Il",
        "colab_type": "text"
      },
      "source": [
        "#### Top 10 rating company"
      ]
    },
    {
      "cell_type": "code",
      "metadata": {
        "id": "HCvLMSomcW_V",
        "colab_type": "code",
        "outputId": "4c130fd3-5265-418d-896c-233fcc6f1f26",
        "colab": {
          "base_uri": "https://localhost:8080/",
          "height": 359
        }
      },
      "source": [
        "com_loca_cocoa_percent = perfect_period[['company','company_location', 'cocoa_percent', 'rating']].groupby(['company','company_location']).mean()\n",
        "com_loca_cocoa_percent.reset_index(drop=False, inplace=True);\n",
        "com_loca_cocoa_percent.sort_values(by = ['rating'],ascending =False).head(10)"
      ],
      "execution_count": 0,
      "outputs": [
        {
          "output_type": "execute_result",
          "data": {
            "text/html": [
              "<div>\n",
              "<style scoped>\n",
              "    .dataframe tbody tr th:only-of-type {\n",
              "        vertical-align: middle;\n",
              "    }\n",
              "\n",
              "    .dataframe tbody tr th {\n",
              "        vertical-align: top;\n",
              "    }\n",
              "\n",
              "    .dataframe thead th {\n",
              "        text-align: right;\n",
              "    }\n",
              "</style>\n",
              "<table border=\"1\" class=\"dataframe\">\n",
              "  <thead>\n",
              "    <tr style=\"text-align: right;\">\n",
              "      <th></th>\n",
              "      <th>company</th>\n",
              "      <th>company_location</th>\n",
              "      <th>cocoa_percent</th>\n",
              "      <th>rating</th>\n",
              "    </tr>\n",
              "  </thead>\n",
              "  <tbody>\n",
              "    <tr>\n",
              "      <th>214</th>\n",
              "      <td>Patric</td>\n",
              "      <td>U.S.A.</td>\n",
              "      <td>67.0</td>\n",
              "      <td>4.0000</td>\n",
              "    </tr>\n",
              "    <tr>\n",
              "      <th>203</th>\n",
              "      <td>Ocelot</td>\n",
              "      <td>Scotland</td>\n",
              "      <td>72.5</td>\n",
              "      <td>3.8750</td>\n",
              "    </tr>\n",
              "    <tr>\n",
              "      <th>130</th>\n",
              "      <td>Heirloom Cacao Preservation (Zokoko)</td>\n",
              "      <td>U.S.A.</td>\n",
              "      <td>70.0</td>\n",
              "      <td>3.8750</td>\n",
              "    </tr>\n",
              "    <tr>\n",
              "      <th>174</th>\n",
              "      <td>Matale</td>\n",
              "      <td>Australia</td>\n",
              "      <td>71.0</td>\n",
              "      <td>3.8125</td>\n",
              "    </tr>\n",
              "    <tr>\n",
              "      <th>64</th>\n",
              "      <td>Chocolate Tree, The</td>\n",
              "      <td>Scotland</td>\n",
              "      <td>73.0</td>\n",
              "      <td>3.7500</td>\n",
              "    </tr>\n",
              "    <tr>\n",
              "      <th>13</th>\n",
              "      <td>Askinosie</td>\n",
              "      <td>U.S.A.</td>\n",
              "      <td>68.0</td>\n",
              "      <td>3.7500</td>\n",
              "    </tr>\n",
              "    <tr>\n",
              "      <th>263</th>\n",
              "      <td>Timo A. Meyer</td>\n",
              "      <td>Germany</td>\n",
              "      <td>72.0</td>\n",
              "      <td>3.7500</td>\n",
              "    </tr>\n",
              "    <tr>\n",
              "      <th>146</th>\n",
              "      <td>Kerchner</td>\n",
              "      <td>U.S.A.</td>\n",
              "      <td>70.0</td>\n",
              "      <td>3.7500</td>\n",
              "    </tr>\n",
              "    <tr>\n",
              "      <th>90</th>\n",
              "      <td>Duffy's</td>\n",
              "      <td>England</td>\n",
              "      <td>72.0</td>\n",
              "      <td>3.7500</td>\n",
              "    </tr>\n",
              "    <tr>\n",
              "      <th>16</th>\n",
              "      <td>Bar Au Chocolat</td>\n",
              "      <td>U.S.A.</td>\n",
              "      <td>70.0</td>\n",
              "      <td>3.7500</td>\n",
              "    </tr>\n",
              "  </tbody>\n",
              "</table>\n",
              "</div>"
            ],
            "text/plain": [
              "                                  company  ...  rating\n",
              "214                                Patric  ...  4.0000\n",
              "203                                Ocelot  ...  3.8750\n",
              "130  Heirloom Cacao Preservation (Zokoko)  ...  3.8750\n",
              "174                                Matale  ...  3.8125\n",
              "64                    Chocolate Tree, The  ...  3.7500\n",
              "13                              Askinosie  ...  3.7500\n",
              "263                         Timo A. Meyer  ...  3.7500\n",
              "146                              Kerchner  ...  3.7500\n",
              "90                                Duffy's  ...  3.7500\n",
              "16                        Bar Au Chocolat  ...  3.7500\n",
              "\n",
              "[10 rows x 4 columns]"
            ]
          },
          "metadata": {
            "tags": []
          },
          "execution_count": 54
        }
      ]
    },
    {
      "cell_type": "code",
      "metadata": {
        "id": "YTHWp6bCdVq9",
        "colab_type": "code",
        "outputId": "5b68ac10-7c2f-4136-cd38-bb2bc5dc92da",
        "colab": {
          "base_uri": "https://localhost:8080/",
          "height": 359
        }
      },
      "source": [
        "com_loca_cocoa_percent = worst_period[['company','company_location', 'cocoa_percent', 'rating']].groupby(['company','company_location']).mean()\n",
        "com_loca_cocoa_percent.reset_index(drop=False, inplace=True);\n",
        "com_loca_cocoa_percent.sort_values(by = ['rating'],ascending =False).head(10)"
      ],
      "execution_count": 0,
      "outputs": [
        {
          "output_type": "execute_result",
          "data": {
            "text/html": [
              "<div>\n",
              "<style scoped>\n",
              "    .dataframe tbody tr th:only-of-type {\n",
              "        vertical-align: middle;\n",
              "    }\n",
              "\n",
              "    .dataframe tbody tr th {\n",
              "        vertical-align: top;\n",
              "    }\n",
              "\n",
              "    .dataframe thead th {\n",
              "        text-align: right;\n",
              "    }\n",
              "</style>\n",
              "<table border=\"1\" class=\"dataframe\">\n",
              "  <thead>\n",
              "    <tr style=\"text-align: right;\">\n",
              "      <th></th>\n",
              "      <th>company</th>\n",
              "      <th>company_location</th>\n",
              "      <th>cocoa_percent</th>\n",
              "      <th>rating</th>\n",
              "    </tr>\n",
              "  </thead>\n",
              "  <tbody>\n",
              "    <tr>\n",
              "      <th>15</th>\n",
              "      <td>Cacao Sampaka</td>\n",
              "      <td>Spain</td>\n",
              "      <td>70.000000</td>\n",
              "      <td>4.000000</td>\n",
              "    </tr>\n",
              "    <tr>\n",
              "      <th>5</th>\n",
              "      <td>Amedei</td>\n",
              "      <td>Italy</td>\n",
              "      <td>69.500000</td>\n",
              "      <td>3.854167</td>\n",
              "    </tr>\n",
              "    <tr>\n",
              "      <th>72</th>\n",
              "      <td>Patric</td>\n",
              "      <td>U.S.A.</td>\n",
              "      <td>70.500000</td>\n",
              "      <td>3.750000</td>\n",
              "    </tr>\n",
              "    <tr>\n",
              "      <th>33</th>\n",
              "      <td>Dick Taylor</td>\n",
              "      <td>U.S.A.</td>\n",
              "      <td>70.000000</td>\n",
              "      <td>3.750000</td>\n",
              "    </tr>\n",
              "    <tr>\n",
              "      <th>52</th>\n",
              "      <td>Kakao</td>\n",
              "      <td>Germany</td>\n",
              "      <td>65.000000</td>\n",
              "      <td>3.750000</td>\n",
              "    </tr>\n",
              "    <tr>\n",
              "      <th>34</th>\n",
              "      <td>Dole (Guittard)</td>\n",
              "      <td>U.S.A.</td>\n",
              "      <td>70.000000</td>\n",
              "      <td>3.750000</td>\n",
              "    </tr>\n",
              "    <tr>\n",
              "      <th>61</th>\n",
              "      <td>Madecasse (Cinagra)</td>\n",
              "      <td>Madagascar</td>\n",
              "      <td>68.750000</td>\n",
              "      <td>3.687500</td>\n",
              "    </tr>\n",
              "    <tr>\n",
              "      <th>73</th>\n",
              "      <td>Pierre Marcolini</td>\n",
              "      <td>Belgium</td>\n",
              "      <td>73.222222</td>\n",
              "      <td>3.583333</td>\n",
              "    </tr>\n",
              "    <tr>\n",
              "      <th>2</th>\n",
              "      <td>Alexandre</td>\n",
              "      <td>Netherlands</td>\n",
              "      <td>70.000000</td>\n",
              "      <td>3.500000</td>\n",
              "    </tr>\n",
              "    <tr>\n",
              "      <th>62</th>\n",
              "      <td>Madre</td>\n",
              "      <td>U.S.A.</td>\n",
              "      <td>73.000000</td>\n",
              "      <td>3.500000</td>\n",
              "    </tr>\n",
              "  </tbody>\n",
              "</table>\n",
              "</div>"
            ],
            "text/plain": [
              "                company company_location  cocoa_percent    rating\n",
              "15        Cacao Sampaka            Spain      70.000000  4.000000\n",
              "5                Amedei            Italy      69.500000  3.854167\n",
              "72               Patric           U.S.A.      70.500000  3.750000\n",
              "33          Dick Taylor           U.S.A.      70.000000  3.750000\n",
              "52                Kakao          Germany      65.000000  3.750000\n",
              "34      Dole (Guittard)           U.S.A.      70.000000  3.750000\n",
              "61  Madecasse (Cinagra)       Madagascar      68.750000  3.687500\n",
              "73     Pierre Marcolini          Belgium      73.222222  3.583333\n",
              "2             Alexandre      Netherlands      70.000000  3.500000\n",
              "62                Madre           U.S.A.      73.000000  3.500000"
            ]
          },
          "metadata": {
            "tags": []
          },
          "execution_count": 55
        }
      ]
    },
    {
      "cell_type": "markdown",
      "metadata": {
        "id": "4pTddbvbdcW9",
        "colab_type": "text"
      },
      "source": [
        "#### Top 10 rating company location"
      ]
    },
    {
      "cell_type": "code",
      "metadata": {
        "id": "Jev7j5J1dqPC",
        "colab_type": "code",
        "outputId": "85b6bfc3-2794-442a-ead8-df677e74d712",
        "colab": {
          "base_uri": "https://localhost:8080/",
          "height": 359
        }
      },
      "source": [
        "com_loca_cocoa_percent = perfect_period[['company_location', 'cocoa_percent', 'rating']].groupby('company_location').mean()\n",
        "com_loca_cocoa_percent.reset_index(drop=False, inplace=True);\n",
        "com_loca_cocoa_percent.sort_values(by = ['rating'],ascending =False).head(10)"
      ],
      "execution_count": 0,
      "outputs": [
        {
          "output_type": "execute_result",
          "data": {
            "text/html": [
              "<div>\n",
              "<style scoped>\n",
              "    .dataframe tbody tr th:only-of-type {\n",
              "        vertical-align: middle;\n",
              "    }\n",
              "\n",
              "    .dataframe tbody tr th {\n",
              "        vertical-align: top;\n",
              "    }\n",
              "\n",
              "    .dataframe thead th {\n",
              "        text-align: right;\n",
              "    }\n",
              "</style>\n",
              "<table border=\"1\" class=\"dataframe\">\n",
              "  <thead>\n",
              "    <tr style=\"text-align: right;\">\n",
              "      <th></th>\n",
              "      <th>company_location</th>\n",
              "      <th>cocoa_percent</th>\n",
              "      <th>rating</th>\n",
              "    </tr>\n",
              "  </thead>\n",
              "  <tbody>\n",
              "    <tr>\n",
              "      <th>37</th>\n",
              "      <td>Scotland</td>\n",
              "      <td>72.800000</td>\n",
              "      <td>3.800000</td>\n",
              "    </tr>\n",
              "    <tr>\n",
              "      <th>5</th>\n",
              "      <td>Chile</td>\n",
              "      <td>70.000000</td>\n",
              "      <td>3.750000</td>\n",
              "    </tr>\n",
              "    <tr>\n",
              "      <th>33</th>\n",
              "      <td>Poland</td>\n",
              "      <td>73.750000</td>\n",
              "      <td>3.625000</td>\n",
              "    </tr>\n",
              "    <tr>\n",
              "      <th>48</th>\n",
              "      <td>Vietnam</td>\n",
              "      <td>74.500000</td>\n",
              "      <td>3.500000</td>\n",
              "    </tr>\n",
              "    <tr>\n",
              "      <th>32</th>\n",
              "      <td>Philippines</td>\n",
              "      <td>65.000000</td>\n",
              "      <td>3.500000</td>\n",
              "    </tr>\n",
              "    <tr>\n",
              "      <th>29</th>\n",
              "      <td>Netherlands</td>\n",
              "      <td>73.250000</td>\n",
              "      <td>3.500000</td>\n",
              "    </tr>\n",
              "    <tr>\n",
              "      <th>2</th>\n",
              "      <td>Belgium</td>\n",
              "      <td>71.500000</td>\n",
              "      <td>3.475000</td>\n",
              "    </tr>\n",
              "    <tr>\n",
              "      <th>11</th>\n",
              "      <td>Ecuador</td>\n",
              "      <td>70.363636</td>\n",
              "      <td>3.431818</td>\n",
              "    </tr>\n",
              "    <tr>\n",
              "      <th>18</th>\n",
              "      <td>Hungary</td>\n",
              "      <td>71.636364</td>\n",
              "      <td>3.431818</td>\n",
              "    </tr>\n",
              "    <tr>\n",
              "      <th>19</th>\n",
              "      <td>Iceland</td>\n",
              "      <td>68.666667</td>\n",
              "      <td>3.416667</td>\n",
              "    </tr>\n",
              "  </tbody>\n",
              "</table>\n",
              "</div>"
            ],
            "text/plain": [
              "   company_location  cocoa_percent    rating\n",
              "37         Scotland      72.800000  3.800000\n",
              "5             Chile      70.000000  3.750000\n",
              "33           Poland      73.750000  3.625000\n",
              "48          Vietnam      74.500000  3.500000\n",
              "32      Philippines      65.000000  3.500000\n",
              "29      Netherlands      73.250000  3.500000\n",
              "2           Belgium      71.500000  3.475000\n",
              "11          Ecuador      70.363636  3.431818\n",
              "18          Hungary      71.636364  3.431818\n",
              "19          Iceland      68.666667  3.416667"
            ]
          },
          "metadata": {
            "tags": []
          },
          "execution_count": 56
        }
      ]
    },
    {
      "cell_type": "code",
      "metadata": {
        "id": "UZxzq9hjcbCp",
        "colab_type": "code",
        "outputId": "97c0f4a0-6e10-4721-a45c-556af413c716",
        "colab": {
          "base_uri": "https://localhost:8080/",
          "height": 359
        }
      },
      "source": [
        "com_loca_cocoa_percent = worst_period[['company_location', 'cocoa_percent', 'rating']].groupby('company_location').mean()\n",
        "com_loca_cocoa_percent.reset_index(drop=False, inplace=True);\n",
        "com_loca_cocoa_percent.sort_values(by = ['rating'],ascending =False).head(10)"
      ],
      "execution_count": 0,
      "outputs": [
        {
          "output_type": "execute_result",
          "data": {
            "text/html": [
              "<div>\n",
              "<style scoped>\n",
              "    .dataframe tbody tr th:only-of-type {\n",
              "        vertical-align: middle;\n",
              "    }\n",
              "\n",
              "    .dataframe tbody tr th {\n",
              "        vertical-align: top;\n",
              "    }\n",
              "\n",
              "    .dataframe thead th {\n",
              "        text-align: right;\n",
              "    }\n",
              "</style>\n",
              "<table border=\"1\" class=\"dataframe\">\n",
              "  <thead>\n",
              "    <tr style=\"text-align: right;\">\n",
              "      <th></th>\n",
              "      <th>company_location</th>\n",
              "      <th>cocoa_percent</th>\n",
              "      <th>rating</th>\n",
              "    </tr>\n",
              "  </thead>\n",
              "  <tbody>\n",
              "    <tr>\n",
              "      <th>16</th>\n",
              "      <td>Netherlands</td>\n",
              "      <td>70.000000</td>\n",
              "      <td>3.500000</td>\n",
              "    </tr>\n",
              "    <tr>\n",
              "      <th>1</th>\n",
              "      <td>Australia</td>\n",
              "      <td>70.000000</td>\n",
              "      <td>3.500000</td>\n",
              "    </tr>\n",
              "    <tr>\n",
              "      <th>13</th>\n",
              "      <td>Italy</td>\n",
              "      <td>69.555556</td>\n",
              "      <td>3.493056</td>\n",
              "    </tr>\n",
              "    <tr>\n",
              "      <th>0</th>\n",
              "      <td>Argentina</td>\n",
              "      <td>73.750000</td>\n",
              "      <td>3.312500</td>\n",
              "    </tr>\n",
              "    <tr>\n",
              "      <th>4</th>\n",
              "      <td>Canada</td>\n",
              "      <td>72.764706</td>\n",
              "      <td>3.235294</td>\n",
              "    </tr>\n",
              "    <tr>\n",
              "      <th>14</th>\n",
              "      <td>Madagascar</td>\n",
              "      <td>71.083333</td>\n",
              "      <td>3.208333</td>\n",
              "    </tr>\n",
              "    <tr>\n",
              "      <th>9</th>\n",
              "      <td>Germany</td>\n",
              "      <td>70.222222</td>\n",
              "      <td>3.194444</td>\n",
              "    </tr>\n",
              "    <tr>\n",
              "      <th>8</th>\n",
              "      <td>France</td>\n",
              "      <td>72.930556</td>\n",
              "      <td>3.184028</td>\n",
              "    </tr>\n",
              "    <tr>\n",
              "      <th>12</th>\n",
              "      <td>Israel</td>\n",
              "      <td>71.250000</td>\n",
              "      <td>3.125000</td>\n",
              "    </tr>\n",
              "    <tr>\n",
              "      <th>11</th>\n",
              "      <td>Guatemala</td>\n",
              "      <td>67.500000</td>\n",
              "      <td>3.125000</td>\n",
              "    </tr>\n",
              "  </tbody>\n",
              "</table>\n",
              "</div>"
            ],
            "text/plain": [
              "   company_location  cocoa_percent    rating\n",
              "16      Netherlands      70.000000  3.500000\n",
              "1         Australia      70.000000  3.500000\n",
              "13            Italy      69.555556  3.493056\n",
              "0         Argentina      73.750000  3.312500\n",
              "4            Canada      72.764706  3.235294\n",
              "14       Madagascar      71.083333  3.208333\n",
              "9           Germany      70.222222  3.194444\n",
              "8            France      72.930556  3.184028\n",
              "12           Israel      71.250000  3.125000\n",
              "11        Guatemala      67.500000  3.125000"
            ]
          },
          "metadata": {
            "tags": []
          },
          "execution_count": 57
        }
      ]
    },
    {
      "cell_type": "markdown",
      "metadata": {
        "id": "B304aT5rPtNB",
        "colab_type": "text"
      },
      "source": [
        "#### Top 10 most popular Companies in perfect and worst period"
      ]
    },
    {
      "cell_type": "code",
      "metadata": {
        "id": "LkGg4j_YPxPQ",
        "colab_type": "code",
        "colab": {}
      },
      "source": [
        "def n_most_company(n, df):\n",
        "  length = df.shape[0]\n",
        "  df['count'] = np.ones(length)\n",
        "  most_company = df.groupby('company').sum().sort_values(by = 'count', ascending=False)\n",
        "  return most_company.head(n).index\n",
        "\n",
        "def is_top_10_company(x):\n",
        "  if x in ten_most_company:\n",
        "    return True\n",
        "  else:\n",
        "    return False\n"
      ],
      "execution_count": 0,
      "outputs": []
    },
    {
      "cell_type": "code",
      "metadata": {
        "id": "JiQjov_SP0uo",
        "colab_type": "code",
        "outputId": "e9bc2e74-c49c-4b14-a76f-d04461753314",
        "colab": {
          "base_uri": "https://localhost:8080/",
          "height": 119
        }
      },
      "source": [
        "ten_most_company = n_most_company(10, perfect_period)\n",
        "top_10_company = perfect_period[perfect_period['company'].apply(is_top_10_company)]\n"
      ],
      "execution_count": 0,
      "outputs": [
        {
          "output_type": "stream",
          "text": [
            "/usr/local/lib/python3.6/dist-packages/ipykernel_launcher.py:3: SettingWithCopyWarning: \n",
            "A value is trying to be set on a copy of a slice from a DataFrame.\n",
            "Try using .loc[row_indexer,col_indexer] = value instead\n",
            "\n",
            "See the caveats in the documentation: http://pandas.pydata.org/pandas-docs/stable/indexing.html#indexing-view-versus-copy\n",
            "  This is separate from the ipykernel package so we can avoid doing imports until\n"
          ],
          "name": "stderr"
        }
      ]
    },
    {
      "cell_type": "code",
      "metadata": {
        "id": "2EIbq92bP6sV",
        "colab_type": "code",
        "outputId": "8b3e1aa6-c581-4b7b-8684-2689a82dbf1a",
        "colab": {
          "base_uri": "https://localhost:8080/",
          "height": 119
        }
      },
      "source": [
        "ten_most_company_1 = n_most_company(10, worst_period)"
      ],
      "execution_count": 0,
      "outputs": [
        {
          "output_type": "stream",
          "text": [
            "/usr/local/lib/python3.6/dist-packages/ipykernel_launcher.py:3: SettingWithCopyWarning: \n",
            "A value is trying to be set on a copy of a slice from a DataFrame.\n",
            "Try using .loc[row_indexer,col_indexer] = value instead\n",
            "\n",
            "See the caveats in the documentation: http://pandas.pydata.org/pandas-docs/stable/indexing.html#indexing-view-versus-copy\n",
            "  This is separate from the ipykernel package so we can avoid doing imports until\n"
          ],
          "name": "stderr"
        }
      ]
    },
    {
      "cell_type": "code",
      "metadata": {
        "id": "V8lmoDJFP9D-",
        "colab_type": "code",
        "colab": {}
      },
      "source": [
        "def is_top_10_company_1(x):\n",
        "  if x in ten_most_company_1:\n",
        "    return True\n",
        "  else:\n",
        "    return False"
      ],
      "execution_count": 0,
      "outputs": []
    },
    {
      "cell_type": "code",
      "metadata": {
        "id": "PRr0gzloP-5U",
        "colab_type": "code",
        "outputId": "72c5f295-32e6-474b-8a7f-82e5efafb5a9",
        "colab": {
          "base_uri": "https://localhost:8080/",
          "height": 34
        }
      },
      "source": [
        "top_10_company_1 = worst_period[worst_period['company'].apply(is_top_10_company_1)]\n",
        "top_10_company_1['review_date'].unique()"
      ],
      "execution_count": 0,
      "outputs": [
        {
          "output_type": "execute_result",
          "data": {
            "text/plain": [
              "array([2007, 2006, 2009, 2008])"
            ]
          },
          "metadata": {
            "tags": []
          },
          "execution_count": 62
        }
      ]
    },
    {
      "cell_type": "code",
      "metadata": {
        "id": "gB6rArLtQBpa",
        "colab_type": "code",
        "outputId": "f2724545-3180-4d61-d3cf-7febf03a9b0a",
        "colab": {
          "base_uri": "https://localhost:8080/",
          "height": 839
        }
      },
      "source": [
        "fig = plt.figure(figsize=(15,14))\n",
        "fig.add_subplot(211)   #top left\n",
        "ax = sns.countplot(x=\"company\", data = top_10_company)\n",
        "plt.title('Top 10 most popular companies in perfect period')\n",
        "\n",
        "title = fig.add_subplot(212)   #top left\n",
        "ax = sns.countplot(x=\"company\", data = top_10_company_1)\n",
        "title = plt.title('Top 10 most popular companies in worst period')\n",
        "## We easily realize that the last company in perfect period is better than the first company in worst period\n",
        "## Soma is the best company to produce chocolate bar\n",
        "## Top 10 in two period is completely different"
      ],
      "execution_count": 0,
      "outputs": [
        {
          "output_type": "display_data",
          "data": {
            "image/png": "[encoded data removed]",
            "text/plain": [
              "<Figure size 1080x1008 with 2 Axes>"
            ]
          },
          "metadata": {
            "tags": []
          }
        }
      ]
    },
    {
      "cell_type": "markdown",
      "metadata": {
        "id": "YGy7JmpOQG0M",
        "colab_type": "text"
      },
      "source": [
        "#### Top 10 most popular company locations in perfect period "
      ]
    },
    {
      "cell_type": "code",
      "metadata": {
        "id": "6Z_2BP2LQEkU",
        "colab_type": "code",
        "colab": {}
      },
      "source": [
        "def n_most_company_location(n, df):\n",
        "  length = df.shape[0]\n",
        "  df['count'] = np.ones(length)\n",
        "  most_company = df.groupby('company_location').sum().sort_values(by = 'count', ascending=False)\n",
        "  return most_company.head(n).index"
      ],
      "execution_count": 0,
      "outputs": []
    },
    {
      "cell_type": "code",
      "metadata": {
        "id": "rrjHYTeuQL3s",
        "colab_type": "code",
        "colab": {}
      },
      "source": [
        "ten_most_company_location = n_most_company_location(10, perfect_period)"
      ],
      "execution_count": 0,
      "outputs": []
    },
    {
      "cell_type": "code",
      "metadata": {
        "id": "wByutakFQN4A",
        "colab_type": "code",
        "colab": {}
      },
      "source": [
        "def is_top_10_company_location(x):\n",
        "  if x in ten_most_company_location:\n",
        "    return True\n",
        "  else:\n",
        "    return False"
      ],
      "execution_count": 0,
      "outputs": []
    },
    {
      "cell_type": "code",
      "metadata": {
        "id": "zMQW7cUGQPuj",
        "colab_type": "code",
        "colab": {}
      },
      "source": [
        "top_10_company_location = perfect_period[perfect_period['company_location'].apply(is_top_10_company_location)]"
      ],
      "execution_count": 0,
      "outputs": []
    },
    {
      "cell_type": "code",
      "metadata": {
        "id": "cmWstpWEQRcn",
        "colab_type": "code",
        "colab": {}
      },
      "source": [
        "ten_most_company_location_1 = n_most_company_location(10, worst_period)"
      ],
      "execution_count": 0,
      "outputs": []
    },
    {
      "cell_type": "code",
      "metadata": {
        "id": "RL8uj5KzQTG-",
        "colab_type": "code",
        "outputId": "012311bd-dc2e-4b64-b726-52ab7b06b7a1",
        "colab": {
          "base_uri": "https://localhost:8080/",
          "height": 68
        }
      },
      "source": [
        "ten_most_company_location_1"
      ],
      "execution_count": 0,
      "outputs": [
        {
          "output_type": "execute_result",
          "data": {
            "text/plain": [
              "Index(['U.S.A.', 'France', 'Ecuador', 'Italy', 'Belgium', 'Canada', 'England',\n",
              "       'Spain', 'Madagascar', 'Switzerland'],\n",
              "      dtype='object', name='company_location')"
            ]
          },
          "metadata": {
            "tags": []
          },
          "execution_count": 69
        }
      ]
    },
    {
      "cell_type": "code",
      "metadata": {
        "id": "L55yHL4uQU26",
        "colab_type": "code",
        "colab": {}
      },
      "source": [
        "def is_top_10_company_location_1(x):\n",
        "  if x in ten_most_company_location_1:\n",
        "    return True\n",
        "  else:\n",
        "    return False"
      ],
      "execution_count": 0,
      "outputs": []
    },
    {
      "cell_type": "code",
      "metadata": {
        "id": "PHB7fwZ4QXf2",
        "colab_type": "code",
        "colab": {}
      },
      "source": [
        "top_10_company_location_1 = worst_period[worst_period['company_location'].apply(is_top_10_company_location_1)]"
      ],
      "execution_count": 0,
      "outputs": []
    },
    {
      "cell_type": "code",
      "metadata": {
        "id": "JAcYJTrMQZvh",
        "colab_type": "code",
        "outputId": "9f06e9e9-3a8e-484e-c330-ea4fd43bddd7",
        "colab": {
          "base_uri": "https://localhost:8080/",
          "height": 840
        }
      },
      "source": [
        "fig = plt.figure(figsize=(15,14))\n",
        "fig.add_subplot(211)   #top left\n",
        "ax = sns.countplot(x=\"company_location\", data = top_10_company_location)\n",
        "plt.title('Top 10 most popular company locations in perfect period')\n",
        "\n",
        "title = fig.add_subplot(212)   #top left\n",
        "ax = sns.countplot(x=\"company_location\", data = top_10_company_location_1)\n",
        "title = plt.hist('Top 10 most popular company locations in worst period')\n",
        "\n",
        "# No matter time, U.S.A is the best location company "
      ],
      "execution_count": 0,
      "outputs": [
        {
          "output_type": "display_data",
          "data": {
            "image/png": "[encoded data removed]",
            "text/plain": [
              "<Figure size 1080x1008 with 2 Axes>"
            ]
          },
          "metadata": {
            "tags": []
          }
        }
      ]
    },
    {
      "cell_type": "code",
      "metadata": {
        "id": "Ok_ZNdIqXW2M",
        "colab_type": "code",
        "colab": {}
      },
      "source": [
        "def is_top_10_company_location_3(x):\n",
        "  if x in ten_most_company_location and x !='U.S.A.':\n",
        "    return True\n",
        "  else:\n",
        "    return False"
      ],
      "execution_count": 0,
      "outputs": []
    },
    {
      "cell_type": "code",
      "metadata": {
        "id": "7eRiC3mb92ZG",
        "colab_type": "code",
        "colab": {}
      },
      "source": [
        "def is_top_10_company_location_4(x):\n",
        "  if x in ten_most_company_location_1 and x !='U.S.A.':\n",
        "    return True\n",
        "  else:\n",
        "    return False"
      ],
      "execution_count": 0,
      "outputs": []
    },
    {
      "cell_type": "code",
      "metadata": {
        "id": "2lslmcDJX-Ll",
        "colab_type": "code",
        "colab": {}
      },
      "source": [
        "ten_most_company_location_3 = n_most_company_location(10, perfect_period)"
      ],
      "execution_count": 0,
      "outputs": []
    },
    {
      "cell_type": "code",
      "metadata": {
        "id": "ulHk3SE1YINF",
        "colab_type": "code",
        "colab": {}
      },
      "source": [
        "top_10_company_location_3 = perfect_period[perfect_period['company_location'].apply(is_top_10_company_location_3)]"
      ],
      "execution_count": 0,
      "outputs": []
    },
    {
      "cell_type": "code",
      "metadata": {
        "id": "vgkl7tcHYUun",
        "colab_type": "code",
        "colab": {}
      },
      "source": [
        "ten_most_company_location_4 = n_most_company_location(10, worst_period)"
      ],
      "execution_count": 0,
      "outputs": []
    },
    {
      "cell_type": "code",
      "metadata": {
        "id": "sbmbUamNYVG2",
        "colab_type": "code",
        "colab": {}
      },
      "source": [
        "top_10_company_location_4 = perfect_period[perfect_period['company_location'].apply(is_top_10_company_location_4)]"
      ],
      "execution_count": 0,
      "outputs": []
    },
    {
      "cell_type": "code",
      "metadata": {
        "id": "c4XN1D1aYmd-",
        "colab_type": "code",
        "outputId": "a7f4f22f-a1f8-4788-f93e-c9c975517bb3",
        "colab": {
          "base_uri": "https://localhost:8080/",
          "height": 840
        }
      },
      "source": [
        "fig = plt.figure(figsize=(15,14))\n",
        "fig.add_subplot(211)   #top left\n",
        "ax = sns.countplot(x=\"company_location\", data = top_10_company_location_3)\n",
        "plt.title('Top 10 company in perfect period witdout U.S.A')\n",
        "\n",
        "title = fig.add_subplot(212)   #top left\n",
        "ax = sns.countplot(x=\"company_location\", data = top_10_company_location_4)\n",
        "title = plt.title('Top 10 company in worst period without U.S.A')\n",
        "\n",
        "# No matter time, U.S.A is the best location company "
      ],
      "execution_count": 0,
      "outputs": [
        {
          "output_type": "display_data",
          "data": {
            "image/png": "[encoded data removed]",
            "text/plain": [
              "<Figure size 1080x1008 with 2 Axes>"
            ]
          },
          "metadata": {
            "tags": []
          }
        }
      ]
    },
    {
      "cell_type": "markdown",
      "metadata": {
        "id": "8ShhflZDv_SF",
        "colab_type": "text"
      },
      "source": [
        "### Rating score rank by years\n"
      ]
    },
    {
      "cell_type": "code",
      "metadata": {
        "id": "s7Q0lh67wGiP",
        "colab_type": "code",
        "colab": {}
      },
      "source": [
        "by_year = df[['company', 'rating', 'review_date']].groupby('review_date').mean().sort_values(by = 'rating', ascending=False);\n",
        "year_ranks = []\n",
        "review_date_years = df.review_date.unique()\n",
        "for year in review_date_years:\n",
        "  rank_board = df[df.review_date==year][['company', 'rating', 'company_location']].groupby(['company', 'company_location']).mean().sort_values(by='rating', ascending=False).reset_index(drop=False)\n",
        "  rank_board.rename(columns={'index':'company'})\n",
        "  rank = range(rank_board.company.nunique())\n",
        "  rank_board['rank'] = rank\n",
        "  year_ranks.append(rank_board)\n"
      ],
      "execution_count": 0,
      "outputs": []
    },
    {
      "cell_type": "code",
      "metadata": {
        "id": "KZioeqP80g8Y",
        "colab_type": "code",
        "outputId": "30b4b4b8-a5c5-4642-9c21-6b75f125b1e9",
        "colab": {
          "base_uri": "https://localhost:8080/",
          "height": 204
        }
      },
      "source": [
        "year_ranks[0].head()"
      ],
      "execution_count": 0,
      "outputs": [
        {
          "output_type": "execute_result",
          "data": {
            "text/html": [
              "<div>\n",
              "<style scoped>\n",
              "    .dataframe tbody tr th:only-of-type {\n",
              "        vertical-align: middle;\n",
              "    }\n",
              "\n",
              "    .dataframe tbody tr th {\n",
              "        vertical-align: top;\n",
              "    }\n",
              "\n",
              "    .dataframe thead th {\n",
              "        text-align: right;\n",
              "    }\n",
              "</style>\n",
              "<table border=\"1\" class=\"dataframe\">\n",
              "  <thead>\n",
              "    <tr style=\"text-align: right;\">\n",
              "      <th></th>\n",
              "      <th>company</th>\n",
              "      <th>company_location</th>\n",
              "      <th>rating</th>\n",
              "      <th>rank</th>\n",
              "    </tr>\n",
              "  </thead>\n",
              "  <tbody>\n",
              "    <tr>\n",
              "      <th>0</th>\n",
              "      <td>Castronovo</td>\n",
              "      <td>U.S.A.</td>\n",
              "      <td>4.000</td>\n",
              "      <td>0</td>\n",
              "    </tr>\n",
              "    <tr>\n",
              "      <th>1</th>\n",
              "      <td>Pacari</td>\n",
              "      <td>Ecuador</td>\n",
              "      <td>4.000</td>\n",
              "      <td>1</td>\n",
              "    </tr>\n",
              "    <tr>\n",
              "      <th>2</th>\n",
              "      <td>Willie's Cacao</td>\n",
              "      <td>England</td>\n",
              "      <td>4.000</td>\n",
              "      <td>2</td>\n",
              "    </tr>\n",
              "    <tr>\n",
              "      <th>3</th>\n",
              "      <td>Heirloom Cacao Preservation (Zokoko)</td>\n",
              "      <td>U.S.A.</td>\n",
              "      <td>3.875</td>\n",
              "      <td>3</td>\n",
              "    </tr>\n",
              "    <tr>\n",
              "      <th>4</th>\n",
              "      <td>Fruition</td>\n",
              "      <td>U.S.A.</td>\n",
              "      <td>3.875</td>\n",
              "      <td>4</td>\n",
              "    </tr>\n",
              "  </tbody>\n",
              "</table>\n",
              "</div>"
            ],
            "text/plain": [
              "                                company company_location  rating  rank\n",
              "0                            Castronovo           U.S.A.   4.000     0\n",
              "1                                Pacari          Ecuador   4.000     1\n",
              "2                        Willie's Cacao          England   4.000     2\n",
              "3  Heirloom Cacao Preservation (Zokoko)           U.S.A.   3.875     3\n",
              "4                              Fruition           U.S.A.   3.875     4"
            ]
          },
          "metadata": {
            "tags": []
          },
          "execution_count": 117
        }
      ]
    },
    {
      "cell_type": "code",
      "metadata": {
        "id": "ZjsDT4NeAdqA",
        "colab_type": "code",
        "colab": {}
      },
      "source": [
        ""
      ],
      "execution_count": 0,
      "outputs": []
    },
    {
      "cell_type": "code",
      "metadata": {
        "id": "yHL_AdHZ_kLW",
        "colab_type": "code",
        "colab": {}
      },
      "source": [
        "# rating rank\n",
        "best_company_by_year = df[['review_date','rating']].groupby(['review_date']).max()\n",
        "best_company_by_year.reset_index(drop=False, inplace=True);\n",
        "best_company_by_year.rename(columns={'index':'year'}, inplace=True);\n",
        "#best_company_by_year.to_csv('best_company_rating_rank_year.csv', index=False)"
      ],
      "execution_count": 0,
      "outputs": []
    },
    {
      "cell_type": "code",
      "metadata": {
        "id": "DLWMciPABFnB",
        "colab_type": "code",
        "colab": {}
      },
      "source": [
        "best_company_by_year = pd.merge(best_company_by_year, df[['review_date', 'rating', 'company', 'company_location', 'cocoa_percent']], on=['review_date', 'rating']);\n",
        "#best_company_by_year.to_csv('best_company_by_year.csv', index=False)"
      ],
      "execution_count": 0,
      "outputs": []
    },
    {
      "cell_type": "markdown",
      "metadata": {
        "id": "abbZf7O9hSdd",
        "colab_type": "text"
      },
      "source": [
        "#Bonus"
      ]
    },
    {
      "cell_type": "markdown",
      "metadata": {
        "id": "eRk7prEGiJE-",
        "colab_type": "text"
      },
      "source": [
        "##What about Vietnam ?\n"
      ]
    },
    {
      "cell_type": "markdown",
      "metadata": {
        "id": "3yGhheWJiPX1",
        "colab_type": "text"
      },
      "source": [
        "How many kind of beans in the data that come from *broad_origin = vietnam*\n"
      ]
    },
    {
      "cell_type": "code",
      "metadata": {
        "id": "yqwwDYhzi0Or",
        "colab_type": "code",
        "colab": {}
      },
      "source": [
        "#link = 'https://raw.githubusercontent.com/truongtop14/Codeshool-DataScientist/master/broad_origins.csv'\n",
        "#broad_origin = pd.read_csv(link)\n",
        "broad_origin = pd.read_csv('broad_origins.csv')"
      ],
      "execution_count": 0,
      "outputs": []
    },
    {
      "cell_type": "code",
      "metadata": {
        "id": "mSvjYGyZCdFO",
        "colab_type": "code",
        "outputId": "48758d7d-3bb1-4a4d-90ac-52c858853fa6",
        "colab": {
          "base_uri": "https://localhost:8080/",
          "height": 204
        }
      },
      "source": [
        "broad_origin.head()"
      ],
      "execution_count": 0,
      "outputs": [
        {
          "output_type": "execute_result",
          "data": {
            "text/html": [
              "<div>\n",
              "<style scoped>\n",
              "    .dataframe tbody tr th:only-of-type {\n",
              "        vertical-align: middle;\n",
              "    }\n",
              "\n",
              "    .dataframe tbody tr th {\n",
              "        vertical-align: top;\n",
              "    }\n",
              "\n",
              "    .dataframe thead th {\n",
              "        text-align: right;\n",
              "    }\n",
              "</style>\n",
              "<table border=\"1\" class=\"dataframe\">\n",
              "  <thead>\n",
              "    <tr style=\"text-align: right;\">\n",
              "      <th></th>\n",
              "      <th>country</th>\n",
              "      <th>count</th>\n",
              "    </tr>\n",
              "  </thead>\n",
              "  <tbody>\n",
              "    <tr>\n",
              "      <th>0</th>\n",
              "      <td>Sao Tome</td>\n",
              "      <td>17</td>\n",
              "    </tr>\n",
              "    <tr>\n",
              "      <th>1</th>\n",
              "      <td>Togo</td>\n",
              "      <td>3</td>\n",
              "    </tr>\n",
              "    <tr>\n",
              "      <th>2</th>\n",
              "      <td>Peru</td>\n",
              "      <td>176</td>\n",
              "    </tr>\n",
              "    <tr>\n",
              "      <th>3</th>\n",
              "      <td>Venezuela</td>\n",
              "      <td>228</td>\n",
              "    </tr>\n",
              "    <tr>\n",
              "      <th>4</th>\n",
              "      <td>Cuba</td>\n",
              "      <td>11</td>\n",
              "    </tr>\n",
              "  </tbody>\n",
              "</table>\n",
              "</div>"
            ],
            "text/plain": [
              "     country  count\n",
              "0   Sao Tome     17\n",
              "1       Togo      3\n",
              "2       Peru    176\n",
              "3  Venezuela    228\n",
              "4       Cuba     11"
            ]
          },
          "metadata": {
            "tags": []
          },
          "execution_count": 67
        }
      ]
    },
    {
      "cell_type": "code",
      "metadata": {
        "id": "FkmJ7mHZi9N0",
        "colab_type": "code",
        "outputId": "643cbbc5-3d0a-4993-97bf-ebf6ebe0f669",
        "colab": {
          "base_uri": "https://localhost:8080/",
          "height": 80
        }
      },
      "source": [
        "broad_origin[broad_origin.country=='Vietnam']"
      ],
      "execution_count": 0,
      "outputs": [
        {
          "output_type": "execute_result",
          "data": {
            "text/html": [
              "<div>\n",
              "<style scoped>\n",
              "    .dataframe tbody tr th:only-of-type {\n",
              "        vertical-align: middle;\n",
              "    }\n",
              "\n",
              "    .dataframe tbody tr th {\n",
              "        vertical-align: top;\n",
              "    }\n",
              "\n",
              "    .dataframe thead th {\n",
              "        text-align: right;\n",
              "    }\n",
              "</style>\n",
              "<table border=\"1\" class=\"dataframe\">\n",
              "  <thead>\n",
              "    <tr style=\"text-align: right;\">\n",
              "      <th></th>\n",
              "      <th>country</th>\n",
              "      <th>count</th>\n",
              "    </tr>\n",
              "  </thead>\n",
              "  <tbody>\n",
              "    <tr>\n",
              "      <th>17</th>\n",
              "      <td>Vietnam</td>\n",
              "      <td>38</td>\n",
              "    </tr>\n",
              "  </tbody>\n",
              "</table>\n",
              "</div>"
            ],
            "text/plain": [
              "    country  count\n",
              "17  Vietnam     38"
            ]
          },
          "metadata": {
            "tags": []
          },
          "execution_count": 68
        }
      ]
    },
    {
      "cell_type": "code",
      "metadata": {
        "id": "2SwsW9UjjAWD",
        "colab_type": "code",
        "colab": {}
      },
      "source": [
        "plt.figure(figsize=(20, 12))\n",
        "sns.countplot(x='count', data=broad_origin)"
      ],
      "execution_count": 0,
      "outputs": []
    },
    {
      "cell_type": "code",
      "metadata": {
        "id": "EY2tCZBqn3Xk",
        "colab_type": "code",
        "colab": {}
      },
      "source": [
        "df_list_origin = df.copy();\n",
        "#df_list_origin.broad_origin = broad_origins;"
      ],
      "execution_count": 0,
      "outputs": []
    },
    {
      "cell_type": "code",
      "metadata": {
        "id": "8tbXTNcLn4B0",
        "colab_type": "code",
        "colab": {}
      },
      "source": [
        "def find_vietnam(list_broad_origin):\n",
        "  if 'Vietnam' in list_broad_origin:\n",
        "    return True\n",
        "  return False\n",
        "df_vn = df_list_origin[df_list_origin.broad_origin.apply(find_vietnam)];\n"
      ],
      "execution_count": 0,
      "outputs": []
    },
    {
      "cell_type": "code",
      "metadata": {
        "id": "R-YDHUm7Bc5A",
        "colab_type": "code",
        "outputId": "e00f962a-fe23-43ff-ab63-cf72a2dd2eb2",
        "colab": {
          "base_uri": "https://localhost:8080/",
          "height": 1000
        }
      },
      "source": [
        "df_vn"
      ],
      "execution_count": 0,
      "outputs": [
        {
          "output_type": "execute_result",
          "data": {
            "text/html": [
              "<div>\n",
              "<style scoped>\n",
              "    .dataframe tbody tr th:only-of-type {\n",
              "        vertical-align: middle;\n",
              "    }\n",
              "\n",
              "    .dataframe tbody tr th {\n",
              "        vertical-align: top;\n",
              "    }\n",
              "\n",
              "    .dataframe thead th {\n",
              "        text-align: right;\n",
              "    }\n",
              "</style>\n",
              "<table border=\"1\" class=\"dataframe\">\n",
              "  <thead>\n",
              "    <tr style=\"text-align: right;\">\n",
              "      <th></th>\n",
              "      <th>company</th>\n",
              "      <th>specific_origin</th>\n",
              "      <th>REF</th>\n",
              "      <th>review_date</th>\n",
              "      <th>cocoa_percent</th>\n",
              "      <th>company_location</th>\n",
              "      <th>rating</th>\n",
              "      <th>bean_type</th>\n",
              "      <th>broad_origin</th>\n",
              "      <th>rating_class</th>\n",
              "      <th>count</th>\n",
              "    </tr>\n",
              "  </thead>\n",
              "  <tbody>\n",
              "    <tr>\n",
              "      <th>36</th>\n",
              "      <td>Alain Ducasse</td>\n",
              "      <td>Vietnam</td>\n",
              "      <td>1215</td>\n",
              "      <td>2014</td>\n",
              "      <td>75.0</td>\n",
              "      <td>France</td>\n",
              "      <td>2.75</td>\n",
              "      <td>Trinitario</td>\n",
              "      <td>Vietnam</td>\n",
              "      <td>disapointing</td>\n",
              "      <td>1.0</td>\n",
              "    </tr>\n",
              "    <tr>\n",
              "      <th>42</th>\n",
              "      <td>Alexandre</td>\n",
              "      <td>Tien Giang</td>\n",
              "      <td>1944</td>\n",
              "      <td>2017</td>\n",
              "      <td>70.0</td>\n",
              "      <td>Netherlands</td>\n",
              "      <td>3.50</td>\n",
              "      <td>Trinitario</td>\n",
              "      <td>Vietnam</td>\n",
              "      <td>satisfactory</td>\n",
              "      <td>1.0</td>\n",
              "    </tr>\n",
              "    <tr>\n",
              "      <th>101</th>\n",
              "      <td>Arete</td>\n",
              "      <td>Tien Giang</td>\n",
              "      <td>1900</td>\n",
              "      <td>2016</td>\n",
              "      <td>73.0</td>\n",
              "      <td>U.S.A.</td>\n",
              "      <td>3.50</td>\n",
              "      <td>Trinitario</td>\n",
              "      <td>Vietnam</td>\n",
              "      <td>satisfactory</td>\n",
              "      <td>1.0</td>\n",
              "    </tr>\n",
              "    <tr>\n",
              "      <th>111</th>\n",
              "      <td>Arete</td>\n",
              "      <td>Lam Dong</td>\n",
              "      <td>1928</td>\n",
              "      <td>2016</td>\n",
              "      <td>73.0</td>\n",
              "      <td>U.S.A.</td>\n",
              "      <td>3.25</td>\n",
              "      <td></td>\n",
              "      <td>Vietnam</td>\n",
              "      <td>satisfactory</td>\n",
              "      <td>1.0</td>\n",
              "    </tr>\n",
              "    <tr>\n",
              "      <th>128</th>\n",
              "      <td>Artisan du Chocolat</td>\n",
              "      <td>Ba Ria Vung Tau Province</td>\n",
              "      <td>600</td>\n",
              "      <td>2010</td>\n",
              "      <td>72.0</td>\n",
              "      <td>England</td>\n",
              "      <td>3.25</td>\n",
              "      <td>Trinitario</td>\n",
              "      <td>Vietnam</td>\n",
              "      <td>satisfactory</td>\n",
              "      <td>1.0</td>\n",
              "    </tr>\n",
              "    <tr>\n",
              "      <th>319</th>\n",
              "      <td>Cacao Store</td>\n",
              "      <td>Vietnam</td>\n",
              "      <td>1684</td>\n",
              "      <td>2015</td>\n",
              "      <td>70.0</td>\n",
              "      <td>Japan</td>\n",
              "      <td>3.50</td>\n",
              "      <td>Trinitario</td>\n",
              "      <td>Vietnam</td>\n",
              "      <td>satisfactory</td>\n",
              "      <td>1.0</td>\n",
              "    </tr>\n",
              "    <tr>\n",
              "      <th>385</th>\n",
              "      <td>Choco Dong</td>\n",
              "      <td>Mekong Delta, early 2014 Harvest</td>\n",
              "      <td>1696</td>\n",
              "      <td>2015</td>\n",
              "      <td>70.0</td>\n",
              "      <td>South Korea</td>\n",
              "      <td>2.75</td>\n",
              "      <td>Trinitario</td>\n",
              "      <td>Vietnam</td>\n",
              "      <td>disapointing</td>\n",
              "      <td>1.0</td>\n",
              "    </tr>\n",
              "    <tr>\n",
              "      <th>446</th>\n",
              "      <td>Confluence</td>\n",
              "      <td>Tien Giang, 2015, batch 10-2-16</td>\n",
              "      <td>1916</td>\n",
              "      <td>2016</td>\n",
              "      <td>78.0</td>\n",
              "      <td>U.S.A.</td>\n",
              "      <td>2.75</td>\n",
              "      <td>Trinitario</td>\n",
              "      <td>Vietnam</td>\n",
              "      <td>disapointing</td>\n",
              "      <td>1.0</td>\n",
              "    </tr>\n",
              "    <tr>\n",
              "      <th>508</th>\n",
              "      <td>DAR</td>\n",
              "      <td>Vietnam</td>\n",
              "      <td>1920</td>\n",
              "      <td>2016</td>\n",
              "      <td>72.0</td>\n",
              "      <td>U.S.A.</td>\n",
              "      <td>3.00</td>\n",
              "      <td>Trinitario</td>\n",
              "      <td>Vietnam</td>\n",
              "      <td>satisfactory</td>\n",
              "      <td>1.0</td>\n",
              "    </tr>\n",
              "    <tr>\n",
              "      <th>536</th>\n",
              "      <td>Dick Taylor</td>\n",
              "      <td>Tien Giang</td>\n",
              "      <td>1864</td>\n",
              "      <td>2016</td>\n",
              "      <td>78.0</td>\n",
              "      <td>U.S.A.</td>\n",
              "      <td>3.50</td>\n",
              "      <td>Trinitario</td>\n",
              "      <td>Vietnam</td>\n",
              "      <td>satisfactory</td>\n",
              "      <td>1.0</td>\n",
              "    </tr>\n",
              "    <tr>\n",
              "      <th>623</th>\n",
              "      <td>Erithaj (A. Morin)</td>\n",
              "      <td>Ben Tre</td>\n",
              "      <td>1205</td>\n",
              "      <td>2014</td>\n",
              "      <td>70.0</td>\n",
              "      <td>France</td>\n",
              "      <td>3.25</td>\n",
              "      <td>Trinitario</td>\n",
              "      <td>Vietnam</td>\n",
              "      <td>satisfactory</td>\n",
              "      <td>1.0</td>\n",
              "    </tr>\n",
              "    <tr>\n",
              "      <th>624</th>\n",
              "      <td>Erithaj (A. Morin)</td>\n",
              "      <td>Ham Luong</td>\n",
              "      <td>1209</td>\n",
              "      <td>2014</td>\n",
              "      <td>80.0</td>\n",
              "      <td>France</td>\n",
              "      <td>3.00</td>\n",
              "      <td>Trinitario</td>\n",
              "      <td>Vietnam</td>\n",
              "      <td>satisfactory</td>\n",
              "      <td>1.0</td>\n",
              "    </tr>\n",
              "    <tr>\n",
              "      <th>625</th>\n",
              "      <td>Erithaj (A. Morin)</td>\n",
              "      <td>Ba Lai</td>\n",
              "      <td>1209</td>\n",
              "      <td>2014</td>\n",
              "      <td>74.0</td>\n",
              "      <td>France</td>\n",
              "      <td>3.25</td>\n",
              "      <td>Trinitario</td>\n",
              "      <td>Vietnam</td>\n",
              "      <td>satisfactory</td>\n",
              "      <td>1.0</td>\n",
              "    </tr>\n",
              "    <tr>\n",
              "      <th>666</th>\n",
              "      <td>Frederic Blondeel</td>\n",
              "      <td>Vietnam</td>\n",
              "      <td>1542</td>\n",
              "      <td>2015</td>\n",
              "      <td>80.0</td>\n",
              "      <td>Belgium</td>\n",
              "      <td>3.00</td>\n",
              "      <td>Trinitario</td>\n",
              "      <td>Vietnam</td>\n",
              "      <td>satisfactory</td>\n",
              "      <td>1.0</td>\n",
              "    </tr>\n",
              "    <tr>\n",
              "      <th>738</th>\n",
              "      <td>Grand Place</td>\n",
              "      <td>Ben Tre, Dong Nai</td>\n",
              "      <td>741</td>\n",
              "      <td>2011</td>\n",
              "      <td>72.0</td>\n",
              "      <td>Vietnam</td>\n",
              "      <td>3.00</td>\n",
              "      <td>Trinitario</td>\n",
              "      <td>Vietnam</td>\n",
              "      <td>satisfactory</td>\n",
              "      <td>1.0</td>\n",
              "    </tr>\n",
              "    <tr>\n",
              "      <th>830</th>\n",
              "      <td>Hotel Chocolat (Coppeneur)</td>\n",
              "      <td>Mekong Delta &amp; Dong Nai</td>\n",
              "      <td>1038</td>\n",
              "      <td>2013</td>\n",
              "      <td>80.0</td>\n",
              "      <td>England</td>\n",
              "      <td>3.50</td>\n",
              "      <td>Trinitario</td>\n",
              "      <td>Vietnam</td>\n",
              "      <td>satisfactory</td>\n",
              "      <td>1.0</td>\n",
              "    </tr>\n",
              "    <tr>\n",
              "      <th>848</th>\n",
              "      <td>Hummingbird</td>\n",
              "      <td>Lam Dong</td>\n",
              "      <td>1542</td>\n",
              "      <td>2015</td>\n",
              "      <td>70.0</td>\n",
              "      <td>Canada</td>\n",
              "      <td>3.50</td>\n",
              "      <td>Trinitario</td>\n",
              "      <td>Vietnam</td>\n",
              "      <td>satisfactory</td>\n",
              "      <td>1.0</td>\n",
              "    </tr>\n",
              "    <tr>\n",
              "      <th>943</th>\n",
              "      <td>Laia aka Chat-Noir</td>\n",
              "      <td>Vietnam, Batch 50/100</td>\n",
              "      <td>1590</td>\n",
              "      <td>2015</td>\n",
              "      <td>75.0</td>\n",
              "      <td>France</td>\n",
              "      <td>2.75</td>\n",
              "      <td>Trinitario</td>\n",
              "      <td>Vietnam</td>\n",
              "      <td>disapointing</td>\n",
              "      <td>1.0</td>\n",
              "    </tr>\n",
              "    <tr>\n",
              "      <th>949</th>\n",
              "      <td>Laia aka Chat-Noir</td>\n",
              "      <td>Lam Dong, Batch 153</td>\n",
              "      <td>1642</td>\n",
              "      <td>2015</td>\n",
              "      <td>75.0</td>\n",
              "      <td>France</td>\n",
              "      <td>3.75</td>\n",
              "      <td>Trinitario</td>\n",
              "      <td>Vietnam</td>\n",
              "      <td>satisfactory</td>\n",
              "      <td>1.0</td>\n",
              "    </tr>\n",
              "    <tr>\n",
              "      <th>1035</th>\n",
              "      <td>Map Chocolate</td>\n",
              "      <td>Ben Tre, Surprise Valley</td>\n",
              "      <td>1896</td>\n",
              "      <td>2016</td>\n",
              "      <td>75.0</td>\n",
              "      <td>U.S.A.</td>\n",
              "      <td>3.25</td>\n",
              "      <td>Trinitario</td>\n",
              "      <td>Vietnam</td>\n",
              "      <td>satisfactory</td>\n",
              "      <td>1.0</td>\n",
              "    </tr>\n",
              "    <tr>\n",
              "      <th>1049</th>\n",
              "      <td>Marou</td>\n",
              "      <td>Tan Phu Dong Island, Heart of Darkness</td>\n",
              "      <td>1650</td>\n",
              "      <td>2015</td>\n",
              "      <td>85.0</td>\n",
              "      <td>Vietnam</td>\n",
              "      <td>3.25</td>\n",
              "      <td>Trinitario</td>\n",
              "      <td>Vietnam</td>\n",
              "      <td>satisfactory</td>\n",
              "      <td>1.0</td>\n",
              "    </tr>\n",
              "    <tr>\n",
              "      <th>1050</th>\n",
              "      <td>Marou</td>\n",
              "      <td>Ben Tre</td>\n",
              "      <td>1650</td>\n",
              "      <td>2015</td>\n",
              "      <td>68.0</td>\n",
              "      <td>Vietnam</td>\n",
              "      <td>3.50</td>\n",
              "      <td>Trinitario</td>\n",
              "      <td>Vietnam</td>\n",
              "      <td>satisfactory</td>\n",
              "      <td>1.0</td>\n",
              "    </tr>\n",
              "    <tr>\n",
              "      <th>1051</th>\n",
              "      <td>Marou</td>\n",
              "      <td>Dak Lak, Batch 2451</td>\n",
              "      <td>1650</td>\n",
              "      <td>2015</td>\n",
              "      <td>70.0</td>\n",
              "      <td>Vietnam</td>\n",
              "      <td>3.75</td>\n",
              "      <td>Trinitario</td>\n",
              "      <td>Vietnam</td>\n",
              "      <td>satisfactory</td>\n",
              "      <td>1.0</td>\n",
              "    </tr>\n",
              "    <tr>\n",
              "      <th>1052</th>\n",
              "      <td>Marou</td>\n",
              "      <td>Tan Phu Dong, Treasure Island</td>\n",
              "      <td>1149</td>\n",
              "      <td>2013</td>\n",
              "      <td>75.0</td>\n",
              "      <td>Vietnam</td>\n",
              "      <td>3.50</td>\n",
              "      <td>Trinitario</td>\n",
              "      <td>Vietnam</td>\n",
              "      <td>satisfactory</td>\n",
              "      <td>1.0</td>\n",
              "    </tr>\n",
              "    <tr>\n",
              "      <th>1053</th>\n",
              "      <td>Marou</td>\n",
              "      <td>Ba Ria</td>\n",
              "      <td>845</td>\n",
              "      <td>2012</td>\n",
              "      <td>76.0</td>\n",
              "      <td>Vietnam</td>\n",
              "      <td>3.50</td>\n",
              "      <td>Trinitario</td>\n",
              "      <td>Vietnam</td>\n",
              "      <td>satisfactory</td>\n",
              "      <td>1.0</td>\n",
              "    </tr>\n",
              "    <tr>\n",
              "      <th>1054</th>\n",
              "      <td>Marou</td>\n",
              "      <td>Dong Nai</td>\n",
              "      <td>845</td>\n",
              "      <td>2012</td>\n",
              "      <td>72.0</td>\n",
              "      <td>Vietnam</td>\n",
              "      <td>3.50</td>\n",
              "      <td>Trinitario</td>\n",
              "      <td>Vietnam</td>\n",
              "      <td>satisfactory</td>\n",
              "      <td>1.0</td>\n",
              "    </tr>\n",
              "    <tr>\n",
              "      <th>1055</th>\n",
              "      <td>Marou</td>\n",
              "      <td>Tien Giang, Gao Co-op</td>\n",
              "      <td>845</td>\n",
              "      <td>2012</td>\n",
              "      <td>70.0</td>\n",
              "      <td>Vietnam</td>\n",
              "      <td>3.50</td>\n",
              "      <td>Trinitario</td>\n",
              "      <td>Vietnam</td>\n",
              "      <td>satisfactory</td>\n",
              "      <td>1.0</td>\n",
              "    </tr>\n",
              "    <tr>\n",
              "      <th>1056</th>\n",
              "      <td>Marou</td>\n",
              "      <td>Ben Tre</td>\n",
              "      <td>849</td>\n",
              "      <td>2012</td>\n",
              "      <td>78.0</td>\n",
              "      <td>Vietnam</td>\n",
              "      <td>3.50</td>\n",
              "      <td>Trinitario</td>\n",
              "      <td>Vietnam</td>\n",
              "      <td>satisfactory</td>\n",
              "      <td>1.0</td>\n",
              "    </tr>\n",
              "    <tr>\n",
              "      <th>1057</th>\n",
              "      <td>Marou</td>\n",
              "      <td>Tien Giang</td>\n",
              "      <td>895</td>\n",
              "      <td>2012</td>\n",
              "      <td>80.0</td>\n",
              "      <td>Vietnam</td>\n",
              "      <td>3.00</td>\n",
              "      <td>Trinitario</td>\n",
              "      <td>Vietnam</td>\n",
              "      <td>satisfactory</td>\n",
              "      <td>1.0</td>\n",
              "    </tr>\n",
              "    <tr>\n",
              "      <th>1058</th>\n",
              "      <td>Marou</td>\n",
              "      <td>Lam Dong</td>\n",
              "      <td>955</td>\n",
              "      <td>2012</td>\n",
              "      <td>74.0</td>\n",
              "      <td>Vietnam</td>\n",
              "      <td>3.50</td>\n",
              "      <td>Trinitario</td>\n",
              "      <td>Vietnam</td>\n",
              "      <td>satisfactory</td>\n",
              "      <td>1.0</td>\n",
              "    </tr>\n",
              "    <tr>\n",
              "      <th>1159</th>\n",
              "      <td>Mutari</td>\n",
              "      <td>Tien Giang, batch 1 SRB</td>\n",
              "      <td>1900</td>\n",
              "      <td>2016</td>\n",
              "      <td>80.0</td>\n",
              "      <td>U.S.A.</td>\n",
              "      <td>3.00</td>\n",
              "      <td>Trinitario</td>\n",
              "      <td>Vietnam</td>\n",
              "      <td>satisfactory</td>\n",
              "      <td>1.0</td>\n",
              "    </tr>\n",
              "    <tr>\n",
              "      <th>1258</th>\n",
              "      <td>Palette de Bine</td>\n",
              "      <td>Lam Dong</td>\n",
              "      <td>1574</td>\n",
              "      <td>2015</td>\n",
              "      <td>72.0</td>\n",
              "      <td>Canada</td>\n",
              "      <td>3.75</td>\n",
              "      <td>Trinitario</td>\n",
              "      <td>Vietnam</td>\n",
              "      <td>satisfactory</td>\n",
              "      <td>1.0</td>\n",
              "    </tr>\n",
              "    <tr>\n",
              "      <th>1433</th>\n",
              "      <td>Scharffen Berger</td>\n",
              "      <td>Ben Tre</td>\n",
              "      <td>445</td>\n",
              "      <td>2009</td>\n",
              "      <td>72.0</td>\n",
              "      <td>U.S.A.</td>\n",
              "      <td>3.75</td>\n",
              "      <td>Trinitario</td>\n",
              "      <td>Vietnam</td>\n",
              "      <td>satisfactory</td>\n",
              "      <td>1.0</td>\n",
              "    </tr>\n",
              "    <tr>\n",
              "      <th>1480</th>\n",
              "      <td>Smooth Chocolator, The</td>\n",
              "      <td>Tien Giang</td>\n",
              "      <td>1864</td>\n",
              "      <td>2016</td>\n",
              "      <td>70.0</td>\n",
              "      <td>Australia</td>\n",
              "      <td>3.00</td>\n",
              "      <td>Trinitario</td>\n",
              "      <td>Vietnam</td>\n",
              "      <td>satisfactory</td>\n",
              "      <td>1.0</td>\n",
              "    </tr>\n",
              "    <tr>\n",
              "      <th>1512</th>\n",
              "      <td>Soma</td>\n",
              "      <td>Tien Giang, Black S., batch VIT60420.0</td>\n",
              "      <td>1828</td>\n",
              "      <td>2016</td>\n",
              "      <td>70.0</td>\n",
              "      <td>Canada</td>\n",
              "      <td>4.00</td>\n",
              "      <td>Trinitario</td>\n",
              "      <td>Vietnam</td>\n",
              "      <td>premium</td>\n",
              "      <td>1.0</td>\n",
              "    </tr>\n",
              "    <tr>\n",
              "      <th>1598</th>\n",
              "      <td>Szanto Tibor</td>\n",
              "      <td>Ben Tre, Mekong Delta</td>\n",
              "      <td>1708</td>\n",
              "      <td>2015</td>\n",
              "      <td>70.0</td>\n",
              "      <td>Hungary</td>\n",
              "      <td>3.25</td>\n",
              "      <td>Trinitario</td>\n",
              "      <td>Vietnam</td>\n",
              "      <td>satisfactory</td>\n",
              "      <td>1.0</td>\n",
              "    </tr>\n",
              "    <tr>\n",
              "      <th>1615</th>\n",
              "      <td>Tablette (aka Vanillabeans)</td>\n",
              "      <td>Vietnam</td>\n",
              "      <td>1450</td>\n",
              "      <td>2015</td>\n",
              "      <td>60.0</td>\n",
              "      <td>Japan</td>\n",
              "      <td>3.25</td>\n",
              "      <td>Trinitario</td>\n",
              "      <td>Vietnam</td>\n",
              "      <td>satisfactory</td>\n",
              "      <td>1.0</td>\n",
              "    </tr>\n",
              "    <tr>\n",
              "      <th>1718</th>\n",
              "      <td>Vietcacao (A. Morin)</td>\n",
              "      <td>Ben Tre, Mekong Delta, MoCay</td>\n",
              "      <td>951</td>\n",
              "      <td>2012</td>\n",
              "      <td>70.0</td>\n",
              "      <td>France</td>\n",
              "      <td>3.50</td>\n",
              "      <td>Trinitario</td>\n",
              "      <td>Vietnam</td>\n",
              "      <td>satisfactory</td>\n",
              "      <td>1.0</td>\n",
              "    </tr>\n",
              "  </tbody>\n",
              "</table>\n",
              "</div>"
            ],
            "text/plain": [
              "                          company  ... count\n",
              "36                  Alain Ducasse  ...   1.0\n",
              "42                      Alexandre  ...   1.0\n",
              "101                         Arete  ...   1.0\n",
              "111                         Arete  ...   1.0\n",
              "128           Artisan du Chocolat  ...   1.0\n",
              "319                   Cacao Store  ...   1.0\n",
              "385                    Choco Dong  ...   1.0\n",
              "446                    Confluence  ...   1.0\n",
              "508                           DAR  ...   1.0\n",
              "536                   Dick Taylor  ...   1.0\n",
              "623            Erithaj (A. Morin)  ...   1.0\n",
              "624            Erithaj (A. Morin)  ...   1.0\n",
              "625            Erithaj (A. Morin)  ...   1.0\n",
              "666             Frederic Blondeel  ...   1.0\n",
              "738                   Grand Place  ...   1.0\n",
              "830    Hotel Chocolat (Coppeneur)  ...   1.0\n",
              "848                   Hummingbird  ...   1.0\n",
              "943            Laia aka Chat-Noir  ...   1.0\n",
              "949            Laia aka Chat-Noir  ...   1.0\n",
              "1035                Map Chocolate  ...   1.0\n",
              "1049                        Marou  ...   1.0\n",
              "1050                        Marou  ...   1.0\n",
              "1051                        Marou  ...   1.0\n",
              "1052                        Marou  ...   1.0\n",
              "1053                        Marou  ...   1.0\n",
              "1054                        Marou  ...   1.0\n",
              "1055                        Marou  ...   1.0\n",
              "1056                        Marou  ...   1.0\n",
              "1057                        Marou  ...   1.0\n",
              "1058                        Marou  ...   1.0\n",
              "1159                       Mutari  ...   1.0\n",
              "1258              Palette de Bine  ...   1.0\n",
              "1433             Scharffen Berger  ...   1.0\n",
              "1480       Smooth Chocolator, The  ...   1.0\n",
              "1512                         Soma  ...   1.0\n",
              "1598                 Szanto Tibor  ...   1.0\n",
              "1615  Tablette (aka Vanillabeans)  ...   1.0\n",
              "1718         Vietcacao (A. Morin)  ...   1.0\n",
              "\n",
              "[38 rows x 11 columns]"
            ]
          },
          "metadata": {
            "tags": []
          },
          "execution_count": 76
        }
      ]
    },
    {
      "cell_type": "code",
      "metadata": {
        "id": "iBFdNpLkE9e1",
        "colab_type": "code",
        "colab": {}
      },
      "source": [
        ""
      ],
      "execution_count": 0,
      "outputs": []
    },
    {
      "cell_type": "code",
      "metadata": {
        "id": "cBZ7xopjjfzE",
        "colab_type": "code",
        "outputId": "c9f60b60-0c32-45ac-bc50-e0c6d4bf1acd",
        "colab": {
          "base_uri": "https://localhost:8080/",
          "height": 221
        }
      },
      "source": [
        "df_vn.isnull().sum()"
      ],
      "execution_count": 0,
      "outputs": [
        {
          "output_type": "execute_result",
          "data": {
            "text/plain": [
              "company             0\n",
              "specific_origin     0\n",
              "REF                 0\n",
              "review_date         0\n",
              "cocoa_percent       0\n",
              "company_location    0\n",
              "rating              0\n",
              "bean_type           0\n",
              "broad_origin        0\n",
              "rating_class        0\n",
              "count               0\n",
              "dtype: int64"
            ]
          },
          "metadata": {
            "tags": []
          },
          "execution_count": 85
        }
      ]
    },
    {
      "cell_type": "markdown",
      "metadata": {
        "id": "N9WuzFGZKcsn",
        "colab_type": "text"
      },
      "source": [
        "### Specific origins"
      ]
    },
    {
      "cell_type": "code",
      "metadata": {
        "id": "3p7Xk9hYjbAO",
        "colab_type": "code",
        "outputId": "13eb210a-9071-4436-b756-8d781bae3796",
        "colab": {
          "base_uri": "https://localhost:8080/",
          "height": 841
        }
      },
      "source": [
        "df_vn.groupby('specific_origin').count()"
      ],
      "execution_count": 0,
      "outputs": [
        {
          "output_type": "execute_result",
          "data": {
            "text/html": [
              "<div>\n",
              "<style scoped>\n",
              "    .dataframe tbody tr th:only-of-type {\n",
              "        vertical-align: middle;\n",
              "    }\n",
              "\n",
              "    .dataframe tbody tr th {\n",
              "        vertical-align: top;\n",
              "    }\n",
              "\n",
              "    .dataframe thead th {\n",
              "        text-align: right;\n",
              "    }\n",
              "</style>\n",
              "<table border=\"1\" class=\"dataframe\">\n",
              "  <thead>\n",
              "    <tr style=\"text-align: right;\">\n",
              "      <th></th>\n",
              "      <th>company</th>\n",
              "      <th>REF</th>\n",
              "      <th>review_date</th>\n",
              "      <th>cocoa_percent</th>\n",
              "      <th>company_location</th>\n",
              "      <th>rating</th>\n",
              "      <th>bean_type</th>\n",
              "      <th>broad_origin</th>\n",
              "      <th>rating_class</th>\n",
              "      <th>count</th>\n",
              "    </tr>\n",
              "    <tr>\n",
              "      <th>specific_origin</th>\n",
              "      <th></th>\n",
              "      <th></th>\n",
              "      <th></th>\n",
              "      <th></th>\n",
              "      <th></th>\n",
              "      <th></th>\n",
              "      <th></th>\n",
              "      <th></th>\n",
              "      <th></th>\n",
              "      <th></th>\n",
              "    </tr>\n",
              "  </thead>\n",
              "  <tbody>\n",
              "    <tr>\n",
              "      <th>Ba Lai</th>\n",
              "      <td>1</td>\n",
              "      <td>1</td>\n",
              "      <td>1</td>\n",
              "      <td>1</td>\n",
              "      <td>1</td>\n",
              "      <td>1</td>\n",
              "      <td>1</td>\n",
              "      <td>1</td>\n",
              "      <td>1</td>\n",
              "      <td>1</td>\n",
              "    </tr>\n",
              "    <tr>\n",
              "      <th>Ba Ria</th>\n",
              "      <td>1</td>\n",
              "      <td>1</td>\n",
              "      <td>1</td>\n",
              "      <td>1</td>\n",
              "      <td>1</td>\n",
              "      <td>1</td>\n",
              "      <td>1</td>\n",
              "      <td>1</td>\n",
              "      <td>1</td>\n",
              "      <td>1</td>\n",
              "    </tr>\n",
              "    <tr>\n",
              "      <th>Ba Ria Vung Tau Province</th>\n",
              "      <td>1</td>\n",
              "      <td>1</td>\n",
              "      <td>1</td>\n",
              "      <td>1</td>\n",
              "      <td>1</td>\n",
              "      <td>1</td>\n",
              "      <td>1</td>\n",
              "      <td>1</td>\n",
              "      <td>1</td>\n",
              "      <td>1</td>\n",
              "    </tr>\n",
              "    <tr>\n",
              "      <th>Ben Tre</th>\n",
              "      <td>4</td>\n",
              "      <td>4</td>\n",
              "      <td>4</td>\n",
              "      <td>4</td>\n",
              "      <td>4</td>\n",
              "      <td>4</td>\n",
              "      <td>4</td>\n",
              "      <td>4</td>\n",
              "      <td>4</td>\n",
              "      <td>4</td>\n",
              "    </tr>\n",
              "    <tr>\n",
              "      <th>Ben Tre, Dong Nai</th>\n",
              "      <td>1</td>\n",
              "      <td>1</td>\n",
              "      <td>1</td>\n",
              "      <td>1</td>\n",
              "      <td>1</td>\n",
              "      <td>1</td>\n",
              "      <td>1</td>\n",
              "      <td>1</td>\n",
              "      <td>1</td>\n",
              "      <td>1</td>\n",
              "    </tr>\n",
              "    <tr>\n",
              "      <th>Ben Tre, Mekong Delta</th>\n",
              "      <td>1</td>\n",
              "      <td>1</td>\n",
              "      <td>1</td>\n",
              "      <td>1</td>\n",
              "      <td>1</td>\n",
              "      <td>1</td>\n",
              "      <td>1</td>\n",
              "      <td>1</td>\n",
              "      <td>1</td>\n",
              "      <td>1</td>\n",
              "    </tr>\n",
              "    <tr>\n",
              "      <th>Ben Tre, Mekong Delta, MoCay</th>\n",
              "      <td>1</td>\n",
              "      <td>1</td>\n",
              "      <td>1</td>\n",
              "      <td>1</td>\n",
              "      <td>1</td>\n",
              "      <td>1</td>\n",
              "      <td>1</td>\n",
              "      <td>1</td>\n",
              "      <td>1</td>\n",
              "      <td>1</td>\n",
              "    </tr>\n",
              "    <tr>\n",
              "      <th>Ben Tre, Surprise Valley</th>\n",
              "      <td>1</td>\n",
              "      <td>1</td>\n",
              "      <td>1</td>\n",
              "      <td>1</td>\n",
              "      <td>1</td>\n",
              "      <td>1</td>\n",
              "      <td>1</td>\n",
              "      <td>1</td>\n",
              "      <td>1</td>\n",
              "      <td>1</td>\n",
              "    </tr>\n",
              "    <tr>\n",
              "      <th>Dak Lak, Batch 2451</th>\n",
              "      <td>1</td>\n",
              "      <td>1</td>\n",
              "      <td>1</td>\n",
              "      <td>1</td>\n",
              "      <td>1</td>\n",
              "      <td>1</td>\n",
              "      <td>1</td>\n",
              "      <td>1</td>\n",
              "      <td>1</td>\n",
              "      <td>1</td>\n",
              "    </tr>\n",
              "    <tr>\n",
              "      <th>Dong Nai</th>\n",
              "      <td>1</td>\n",
              "      <td>1</td>\n",
              "      <td>1</td>\n",
              "      <td>1</td>\n",
              "      <td>1</td>\n",
              "      <td>1</td>\n",
              "      <td>1</td>\n",
              "      <td>1</td>\n",
              "      <td>1</td>\n",
              "      <td>1</td>\n",
              "    </tr>\n",
              "    <tr>\n",
              "      <th>Ham Luong</th>\n",
              "      <td>1</td>\n",
              "      <td>1</td>\n",
              "      <td>1</td>\n",
              "      <td>1</td>\n",
              "      <td>1</td>\n",
              "      <td>1</td>\n",
              "      <td>1</td>\n",
              "      <td>1</td>\n",
              "      <td>1</td>\n",
              "      <td>1</td>\n",
              "    </tr>\n",
              "    <tr>\n",
              "      <th>Lam Dong</th>\n",
              "      <td>4</td>\n",
              "      <td>4</td>\n",
              "      <td>4</td>\n",
              "      <td>4</td>\n",
              "      <td>4</td>\n",
              "      <td>4</td>\n",
              "      <td>4</td>\n",
              "      <td>4</td>\n",
              "      <td>4</td>\n",
              "      <td>4</td>\n",
              "    </tr>\n",
              "    <tr>\n",
              "      <th>Lam Dong, Batch 153</th>\n",
              "      <td>1</td>\n",
              "      <td>1</td>\n",
              "      <td>1</td>\n",
              "      <td>1</td>\n",
              "      <td>1</td>\n",
              "      <td>1</td>\n",
              "      <td>1</td>\n",
              "      <td>1</td>\n",
              "      <td>1</td>\n",
              "      <td>1</td>\n",
              "    </tr>\n",
              "    <tr>\n",
              "      <th>Mekong Delta &amp; Dong Nai</th>\n",
              "      <td>1</td>\n",
              "      <td>1</td>\n",
              "      <td>1</td>\n",
              "      <td>1</td>\n",
              "      <td>1</td>\n",
              "      <td>1</td>\n",
              "      <td>1</td>\n",
              "      <td>1</td>\n",
              "      <td>1</td>\n",
              "      <td>1</td>\n",
              "    </tr>\n",
              "    <tr>\n",
              "      <th>Mekong Delta, early 2014 Harvest</th>\n",
              "      <td>1</td>\n",
              "      <td>1</td>\n",
              "      <td>1</td>\n",
              "      <td>1</td>\n",
              "      <td>1</td>\n",
              "      <td>1</td>\n",
              "      <td>1</td>\n",
              "      <td>1</td>\n",
              "      <td>1</td>\n",
              "      <td>1</td>\n",
              "    </tr>\n",
              "    <tr>\n",
              "      <th>Tan Phu Dong Island, Heart of Darkness</th>\n",
              "      <td>1</td>\n",
              "      <td>1</td>\n",
              "      <td>1</td>\n",
              "      <td>1</td>\n",
              "      <td>1</td>\n",
              "      <td>1</td>\n",
              "      <td>1</td>\n",
              "      <td>1</td>\n",
              "      <td>1</td>\n",
              "      <td>1</td>\n",
              "    </tr>\n",
              "    <tr>\n",
              "      <th>Tan Phu Dong, Treasure Island</th>\n",
              "      <td>1</td>\n",
              "      <td>1</td>\n",
              "      <td>1</td>\n",
              "      <td>1</td>\n",
              "      <td>1</td>\n",
              "      <td>1</td>\n",
              "      <td>1</td>\n",
              "      <td>1</td>\n",
              "      <td>1</td>\n",
              "      <td>1</td>\n",
              "    </tr>\n",
              "    <tr>\n",
              "      <th>Tien Giang</th>\n",
              "      <td>5</td>\n",
              "      <td>5</td>\n",
              "      <td>5</td>\n",
              "      <td>5</td>\n",
              "      <td>5</td>\n",
              "      <td>5</td>\n",
              "      <td>5</td>\n",
              "      <td>5</td>\n",
              "      <td>5</td>\n",
              "      <td>5</td>\n",
              "    </tr>\n",
              "    <tr>\n",
              "      <th>Tien Giang, 2015, batch 10-2-16</th>\n",
              "      <td>1</td>\n",
              "      <td>1</td>\n",
              "      <td>1</td>\n",
              "      <td>1</td>\n",
              "      <td>1</td>\n",
              "      <td>1</td>\n",
              "      <td>1</td>\n",
              "      <td>1</td>\n",
              "      <td>1</td>\n",
              "      <td>1</td>\n",
              "    </tr>\n",
              "    <tr>\n",
              "      <th>Tien Giang, Black S., batch VIT60420.0</th>\n",
              "      <td>1</td>\n",
              "      <td>1</td>\n",
              "      <td>1</td>\n",
              "      <td>1</td>\n",
              "      <td>1</td>\n",
              "      <td>1</td>\n",
              "      <td>1</td>\n",
              "      <td>1</td>\n",
              "      <td>1</td>\n",
              "      <td>1</td>\n",
              "    </tr>\n",
              "    <tr>\n",
              "      <th>Tien Giang, Gao Co-op</th>\n",
              "      <td>1</td>\n",
              "      <td>1</td>\n",
              "      <td>1</td>\n",
              "      <td>1</td>\n",
              "      <td>1</td>\n",
              "      <td>1</td>\n",
              "      <td>1</td>\n",
              "      <td>1</td>\n",
              "      <td>1</td>\n",
              "      <td>1</td>\n",
              "    </tr>\n",
              "    <tr>\n",
              "      <th>Tien Giang, batch 1 SRB</th>\n",
              "      <td>1</td>\n",
              "      <td>1</td>\n",
              "      <td>1</td>\n",
              "      <td>1</td>\n",
              "      <td>1</td>\n",
              "      <td>1</td>\n",
              "      <td>1</td>\n",
              "      <td>1</td>\n",
              "      <td>1</td>\n",
              "      <td>1</td>\n",
              "    </tr>\n",
              "    <tr>\n",
              "      <th>Vietnam</th>\n",
              "      <td>5</td>\n",
              "      <td>5</td>\n",
              "      <td>5</td>\n",
              "      <td>5</td>\n",
              "      <td>5</td>\n",
              "      <td>5</td>\n",
              "      <td>5</td>\n",
              "      <td>5</td>\n",
              "      <td>5</td>\n",
              "      <td>5</td>\n",
              "    </tr>\n",
              "    <tr>\n",
              "      <th>Vietnam, Batch 50/100</th>\n",
              "      <td>1</td>\n",
              "      <td>1</td>\n",
              "      <td>1</td>\n",
              "      <td>1</td>\n",
              "      <td>1</td>\n",
              "      <td>1</td>\n",
              "      <td>1</td>\n",
              "      <td>1</td>\n",
              "      <td>1</td>\n",
              "      <td>1</td>\n",
              "    </tr>\n",
              "  </tbody>\n",
              "</table>\n",
              "</div>"
            ],
            "text/plain": [
              "                                        company  REF  ...  rating_class  count\n",
              "specific_origin                                       ...                     \n",
              "Ba Lai                                        1    1  ...             1      1\n",
              "Ba Ria                                        1    1  ...             1      1\n",
              "Ba Ria Vung Tau Province                      1    1  ...             1      1\n",
              "Ben Tre                                       4    4  ...             4      4\n",
              "Ben Tre, Dong Nai                             1    1  ...             1      1\n",
              "Ben Tre, Mekong Delta                         1    1  ...             1      1\n",
              "Ben Tre, Mekong Delta, MoCay                  1    1  ...             1      1\n",
              "Ben Tre, Surprise Valley                      1    1  ...             1      1\n",
              "Dak Lak, Batch 2451                           1    1  ...             1      1\n",
              "Dong Nai                                      1    1  ...             1      1\n",
              "Ham Luong                                     1    1  ...             1      1\n",
              "Lam Dong                                      4    4  ...             4      4\n",
              "Lam Dong, Batch 153                           1    1  ...             1      1\n",
              "Mekong Delta & Dong Nai                       1    1  ...             1      1\n",
              "Mekong Delta, early 2014 Harvest              1    1  ...             1      1\n",
              "Tan Phu Dong Island, Heart of Darkness        1    1  ...             1      1\n",
              "Tan Phu Dong, Treasure Island                 1    1  ...             1      1\n",
              "Tien Giang                                    5    5  ...             5      5\n",
              "Tien Giang, 2015, batch 10-2-16               1    1  ...             1      1\n",
              "Tien Giang, Black S., batch VIT60420.0        1    1  ...             1      1\n",
              "Tien Giang, Gao Co-op                         1    1  ...             1      1\n",
              "Tien Giang, batch 1 SRB                       1    1  ...             1      1\n",
              "Vietnam                                       5    5  ...             5      5\n",
              "Vietnam, Batch 50/100                         1    1  ...             1      1\n",
              "\n",
              "[24 rows x 10 columns]"
            ]
          },
          "metadata": {
            "tags": []
          },
          "execution_count": 86
        }
      ]
    },
    {
      "cell_type": "code",
      "metadata": {
        "id": "Z7vQSPrDjwBR",
        "colab_type": "code",
        "colab": {}
      },
      "source": [
        "import re\n",
        "vn_spec_origin = []\n",
        "skip_list = ['Vietnam', 'early 2014 Harvest', '2015', '^((B|b)atch)']\n",
        "re_split = r\"(\\,\\s|\\s\\&\\s)\"\n",
        "for list_place in df_vn.specific_origin.apply(lambda x: re.split(re_split, x)).values:\n",
        "  #print(list_place)\n",
        "  for place in list_place:\n",
        "    flag = True\n",
        "    #print(place)\n",
        "    for sl in skip_list:\n",
        "      if re.match(sl, place):\n",
        "        #print('skip_list: ' + place + ' ==> ' + sl)\n",
        "        flag = False\n",
        "        break\n",
        "    if flag:  \n",
        "      vn_spec_origin.append(place)"
      ],
      "execution_count": 0,
      "outputs": []
    },
    {
      "cell_type": "code",
      "metadata": {
        "id": "e6i90Ssmj1r0",
        "colab_type": "code",
        "colab": {}
      },
      "source": [
        "for s in vn_spec_origin:\n",
        "  if s == ', ':\n",
        "    vn_spec_origin.remove(s)\n",
        "vn_spec_origin.remove(' & ')\n",
        "vn_spec_origin.remove(', ')\n"
      ],
      "execution_count": 0,
      "outputs": []
    },
    {
      "cell_type": "code",
      "metadata": {
        "id": "odEByIByLmNw",
        "colab_type": "code",
        "outputId": "8f0de996-6491-4ac3-c477-802316ff2fcc",
        "colab": {
          "base_uri": "https://localhost:8080/",
          "height": 102
        }
      },
      "source": [
        "vn_spec_origin = pd.Series(vn_spec_origin, dtype=str);\n",
        "vn_spec_origin[vn_spec_origin.values=='Tan Phu Dong'] = 'Tan Phu Dong Island'\n",
        "print(vn_spec_origin.nunique())\n",
        "print(vn_spec_origin.unique())"
      ],
      "execution_count": 0,
      "outputs": [
        {
          "output_type": "stream",
          "text": [
            "17\n",
            "['Tien Giang' 'Lam Dong' 'Ba Ria Vung Tau Province' 'Mekong Delta'\n",
            " 'Ben Tre' 'Ham Luong' 'Ba Lai' 'Dong Nai' 'Surprise Valley'\n",
            " 'Tan Phu Dong Island' 'Heart of Darkness' 'Dak Lak' 'Treasure Island'\n",
            " 'Ba Ria' 'Gao Co-op' 'Black S.' 'MoCay']\n"
          ],
          "name": "stdout"
        }
      ]
    },
    {
      "cell_type": "code",
      "metadata": {
        "id": "8HTnqLbxiLKt",
        "colab_type": "code",
        "colab": {}
      },
      "source": [
        "vn_spec_origin[vn_spec_origin.isin(['MoCay', 'Ham Luong', 'Ba Lai'])]='Ben Tre';"
      ],
      "execution_count": 0,
      "outputs": []
    },
    {
      "cell_type": "code",
      "metadata": {
        "id": "Hl9MQoT7ilJy",
        "colab_type": "code",
        "colab": {}
      },
      "source": [
        "vn_spec_origin[vn_spec_origin=='Gao Co-op']='Cho gao coop'"
      ],
      "execution_count": 0,
      "outputs": []
    },
    {
      "cell_type": "markdown",
      "metadata": {
        "id": "-YLaL3U9MzlI",
        "colab_type": "text"
      },
      "source": [
        "### most popular specific origins in VN"
      ]
    },
    {
      "cell_type": "code",
      "metadata": {
        "id": "wILw92xSNAj4",
        "colab_type": "code",
        "colab": {}
      },
      "source": [
        "vn_unique_spec_origin = vn_spec_origin.value_counts().to_frame('count').reset_index(drop=False);\n",
        "vn_unique_spec_origin.rename(columns={'index':'specific_origin'}, inplace=True);\n",
        "#vn_unique_spec_origin.to_csv('vn_spec_origin.csv', index=False)"
      ],
      "execution_count": 0,
      "outputs": []
    },
    {
      "cell_type": "code",
      "metadata": {
        "id": "JgdcmiOxq3GH",
        "colab_type": "code",
        "outputId": "61d50d39-ad3b-4203-e6e8-0430598e774d",
        "colab": {
          "base_uri": "https://localhost:8080/",
          "height": 483
        }
      },
      "source": [
        "vn_unique_spec_origin"
      ],
      "execution_count": 0,
      "outputs": [
        {
          "output_type": "execute_result",
          "data": {
            "text/html": [
              "<div>\n",
              "<style scoped>\n",
              "    .dataframe tbody tr th:only-of-type {\n",
              "        vertical-align: middle;\n",
              "    }\n",
              "\n",
              "    .dataframe tbody tr th {\n",
              "        vertical-align: top;\n",
              "    }\n",
              "\n",
              "    .dataframe thead th {\n",
              "        text-align: right;\n",
              "    }\n",
              "</style>\n",
              "<table border=\"1\" class=\"dataframe\">\n",
              "  <thead>\n",
              "    <tr style=\"text-align: right;\">\n",
              "      <th></th>\n",
              "      <th>specific_origin</th>\n",
              "      <th>count</th>\n",
              "    </tr>\n",
              "  </thead>\n",
              "  <tbody>\n",
              "    <tr>\n",
              "      <th>0</th>\n",
              "      <td>Ben Tre</td>\n",
              "      <td>11</td>\n",
              "    </tr>\n",
              "    <tr>\n",
              "      <th>1</th>\n",
              "      <td>Tien Giang</td>\n",
              "      <td>9</td>\n",
              "    </tr>\n",
              "    <tr>\n",
              "      <th>2</th>\n",
              "      <td>Lam Dong</td>\n",
              "      <td>5</td>\n",
              "    </tr>\n",
              "    <tr>\n",
              "      <th>3</th>\n",
              "      <td>Mekong Delta</td>\n",
              "      <td>4</td>\n",
              "    </tr>\n",
              "    <tr>\n",
              "      <th>4</th>\n",
              "      <td>Dong Nai</td>\n",
              "      <td>3</td>\n",
              "    </tr>\n",
              "    <tr>\n",
              "      <th>5</th>\n",
              "      <td>Tan Phu Dong Island</td>\n",
              "      <td>2</td>\n",
              "    </tr>\n",
              "    <tr>\n",
              "      <th>6</th>\n",
              "      <td>Ba Ria Vung Tau Province</td>\n",
              "      <td>1</td>\n",
              "    </tr>\n",
              "    <tr>\n",
              "      <th>7</th>\n",
              "      <td>Treasure Island</td>\n",
              "      <td>1</td>\n",
              "    </tr>\n",
              "    <tr>\n",
              "      <th>8</th>\n",
              "      <td>Black S.</td>\n",
              "      <td>1</td>\n",
              "    </tr>\n",
              "    <tr>\n",
              "      <th>9</th>\n",
              "      <td>Gao Co-op</td>\n",
              "      <td>1</td>\n",
              "    </tr>\n",
              "    <tr>\n",
              "      <th>10</th>\n",
              "      <td>Heart of Darkness</td>\n",
              "      <td>1</td>\n",
              "    </tr>\n",
              "    <tr>\n",
              "      <th>11</th>\n",
              "      <td>Dak Lak</td>\n",
              "      <td>1</td>\n",
              "    </tr>\n",
              "    <tr>\n",
              "      <th>12</th>\n",
              "      <td>Ba Ria</td>\n",
              "      <td>1</td>\n",
              "    </tr>\n",
              "    <tr>\n",
              "      <th>13</th>\n",
              "      <td>Surprise Valley</td>\n",
              "      <td>1</td>\n",
              "    </tr>\n",
              "  </tbody>\n",
              "</table>\n",
              "</div>"
            ],
            "text/plain": [
              "             specific_origin  count\n",
              "0                    Ben Tre     11\n",
              "1                 Tien Giang      9\n",
              "2                   Lam Dong      5\n",
              "3               Mekong Delta      4\n",
              "4                   Dong Nai      3\n",
              "5        Tan Phu Dong Island      2\n",
              "6   Ba Ria Vung Tau Province      1\n",
              "7            Treasure Island      1\n",
              "8                   Black S.      1\n",
              "9                  Gao Co-op      1\n",
              "10         Heart of Darkness      1\n",
              "11                   Dak Lak      1\n",
              "12                    Ba Ria      1\n",
              "13           Surprise Valley      1"
            ]
          },
          "metadata": {
            "tags": []
          },
          "execution_count": 108
        }
      ]
    },
    {
      "cell_type": "markdown",
      "metadata": {
        "id": "7o50msK-OdcQ",
        "colab_type": "text"
      },
      "source": [
        "### most popular companies use VNese bean"
      ]
    },
    {
      "cell_type": "code",
      "metadata": {
        "id": "IiL4DIriOo9D",
        "colab_type": "code",
        "outputId": "8aad56cb-16b9-4089-9e73-45adaeab8880",
        "colab": {
          "base_uri": "https://localhost:8080/",
          "height": 476
        }
      },
      "source": [
        "df_vn.groupby(['company', 'company_location']).size().sort_values(ascending=False)"
      ],
      "execution_count": 0,
      "outputs": [
        {
          "output_type": "execute_result",
          "data": {
            "text/plain": [
              "company                      company_location\n",
              "Marou                        Vietnam             10\n",
              "Erithaj (A. Morin)           France               3\n",
              "Arete                        U.S.A.               2\n",
              "Laia aka Chat-Noir           France               2\n",
              "Vietcacao (A. Morin)         France               1\n",
              "Frederic Blondeel            Belgium              1\n",
              "Alexandre                    Netherlands          1\n",
              "Artisan du Chocolat          England              1\n",
              "Cacao Store                  Japan                1\n",
              "Choco Dong                   South Korea          1\n",
              "Confluence                   U.S.A.               1\n",
              "DAR                          U.S.A.               1\n",
              "Dick Taylor                  U.S.A.               1\n",
              "Hotel Chocolat (Coppeneur)   England              1\n",
              "Grand Place                  Vietnam              1\n",
              "Tablette (aka Vanillabeans)  Japan                1\n",
              "Hummingbird                  Canada               1\n",
              "Map Chocolate                U.S.A.               1\n",
              "Mutari                       U.S.A.               1\n",
              "Palette de Bine              Canada               1\n",
              "Scharffen Berger             U.S.A.               1\n",
              "Smooth Chocolator, The       Australia            1\n",
              "Soma                         Canada               1\n",
              "Szanto Tibor                 Hungary              1\n",
              "Alain Ducasse                France               1\n",
              "dtype: int64"
            ]
          },
          "metadata": {
            "tags": []
          },
          "execution_count": 91
        }
      ]
    },
    {
      "cell_type": "code",
      "metadata": {
        "id": "1v7m2HoRVoX6",
        "colab_type": "code",
        "outputId": "337cdb74-c424-4635-cff8-9da79bb0cc61",
        "colab": {
          "base_uri": "https://localhost:8080/",
          "height": 376
        }
      },
      "source": [
        "df[df['company'] == 'Marou']"
      ],
      "execution_count": 0,
      "outputs": [
        {
          "output_type": "execute_result",
          "data": {
            "text/html": [
              "<div>\n",
              "<style scoped>\n",
              "    .dataframe tbody tr th:only-of-type {\n",
              "        vertical-align: middle;\n",
              "    }\n",
              "\n",
              "    .dataframe tbody tr th {\n",
              "        vertical-align: top;\n",
              "    }\n",
              "\n",
              "    .dataframe thead th {\n",
              "        text-align: right;\n",
              "    }\n",
              "</style>\n",
              "<table border=\"1\" class=\"dataframe\">\n",
              "  <thead>\n",
              "    <tr style=\"text-align: right;\">\n",
              "      <th></th>\n",
              "      <th>company</th>\n",
              "      <th>specific_origin</th>\n",
              "      <th>REF</th>\n",
              "      <th>review_date</th>\n",
              "      <th>cocoa_percent</th>\n",
              "      <th>company_location</th>\n",
              "      <th>rating</th>\n",
              "      <th>bean_type</th>\n",
              "      <th>broad_origin</th>\n",
              "      <th>rating_class</th>\n",
              "      <th>count</th>\n",
              "    </tr>\n",
              "  </thead>\n",
              "  <tbody>\n",
              "    <tr>\n",
              "      <th>1049</th>\n",
              "      <td>Marou</td>\n",
              "      <td>Tan Phu Dong Island, Heart of Darkness</td>\n",
              "      <td>1650</td>\n",
              "      <td>2015</td>\n",
              "      <td>85.0</td>\n",
              "      <td>Vietnam</td>\n",
              "      <td>3.25</td>\n",
              "      <td>Trinitario</td>\n",
              "      <td>Vietnam</td>\n",
              "      <td>satisfactory</td>\n",
              "      <td>1.0</td>\n",
              "    </tr>\n",
              "    <tr>\n",
              "      <th>1050</th>\n",
              "      <td>Marou</td>\n",
              "      <td>Ben Tre</td>\n",
              "      <td>1650</td>\n",
              "      <td>2015</td>\n",
              "      <td>68.0</td>\n",
              "      <td>Vietnam</td>\n",
              "      <td>3.50</td>\n",
              "      <td>Trinitario</td>\n",
              "      <td>Vietnam</td>\n",
              "      <td>satisfactory</td>\n",
              "      <td>1.0</td>\n",
              "    </tr>\n",
              "    <tr>\n",
              "      <th>1051</th>\n",
              "      <td>Marou</td>\n",
              "      <td>Dak Lak, Batch 2451</td>\n",
              "      <td>1650</td>\n",
              "      <td>2015</td>\n",
              "      <td>70.0</td>\n",
              "      <td>Vietnam</td>\n",
              "      <td>3.75</td>\n",
              "      <td>Trinitario</td>\n",
              "      <td>Vietnam</td>\n",
              "      <td>satisfactory</td>\n",
              "      <td>1.0</td>\n",
              "    </tr>\n",
              "    <tr>\n",
              "      <th>1052</th>\n",
              "      <td>Marou</td>\n",
              "      <td>Tan Phu Dong, Treasure Island</td>\n",
              "      <td>1149</td>\n",
              "      <td>2013</td>\n",
              "      <td>75.0</td>\n",
              "      <td>Vietnam</td>\n",
              "      <td>3.50</td>\n",
              "      <td>Trinitario</td>\n",
              "      <td>Vietnam</td>\n",
              "      <td>satisfactory</td>\n",
              "      <td>1.0</td>\n",
              "    </tr>\n",
              "    <tr>\n",
              "      <th>1053</th>\n",
              "      <td>Marou</td>\n",
              "      <td>Ba Ria</td>\n",
              "      <td>845</td>\n",
              "      <td>2012</td>\n",
              "      <td>76.0</td>\n",
              "      <td>Vietnam</td>\n",
              "      <td>3.50</td>\n",
              "      <td>Trinitario</td>\n",
              "      <td>Vietnam</td>\n",
              "      <td>satisfactory</td>\n",
              "      <td>1.0</td>\n",
              "    </tr>\n",
              "    <tr>\n",
              "      <th>1054</th>\n",
              "      <td>Marou</td>\n",
              "      <td>Dong Nai</td>\n",
              "      <td>845</td>\n",
              "      <td>2012</td>\n",
              "      <td>72.0</td>\n",
              "      <td>Vietnam</td>\n",
              "      <td>3.50</td>\n",
              "      <td>Trinitario</td>\n",
              "      <td>Vietnam</td>\n",
              "      <td>satisfactory</td>\n",
              "      <td>1.0</td>\n",
              "    </tr>\n",
              "    <tr>\n",
              "      <th>1055</th>\n",
              "      <td>Marou</td>\n",
              "      <td>Tien Giang, Gao Co-op</td>\n",
              "      <td>845</td>\n",
              "      <td>2012</td>\n",
              "      <td>70.0</td>\n",
              "      <td>Vietnam</td>\n",
              "      <td>3.50</td>\n",
              "      <td>Trinitario</td>\n",
              "      <td>Vietnam</td>\n",
              "      <td>satisfactory</td>\n",
              "      <td>1.0</td>\n",
              "    </tr>\n",
              "    <tr>\n",
              "      <th>1056</th>\n",
              "      <td>Marou</td>\n",
              "      <td>Ben Tre</td>\n",
              "      <td>849</td>\n",
              "      <td>2012</td>\n",
              "      <td>78.0</td>\n",
              "      <td>Vietnam</td>\n",
              "      <td>3.50</td>\n",
              "      <td>Trinitario</td>\n",
              "      <td>Vietnam</td>\n",
              "      <td>satisfactory</td>\n",
              "      <td>1.0</td>\n",
              "    </tr>\n",
              "    <tr>\n",
              "      <th>1057</th>\n",
              "      <td>Marou</td>\n",
              "      <td>Tien Giang</td>\n",
              "      <td>895</td>\n",
              "      <td>2012</td>\n",
              "      <td>80.0</td>\n",
              "      <td>Vietnam</td>\n",
              "      <td>3.00</td>\n",
              "      <td>Trinitario</td>\n",
              "      <td>Vietnam</td>\n",
              "      <td>satisfactory</td>\n",
              "      <td>1.0</td>\n",
              "    </tr>\n",
              "    <tr>\n",
              "      <th>1058</th>\n",
              "      <td>Marou</td>\n",
              "      <td>Lam Dong</td>\n",
              "      <td>955</td>\n",
              "      <td>2012</td>\n",
              "      <td>74.0</td>\n",
              "      <td>Vietnam</td>\n",
              "      <td>3.50</td>\n",
              "      <td>Trinitario</td>\n",
              "      <td>Vietnam</td>\n",
              "      <td>satisfactory</td>\n",
              "      <td>1.0</td>\n",
              "    </tr>\n",
              "  </tbody>\n",
              "</table>\n",
              "</div>"
            ],
            "text/plain": [
              "     company                         specific_origin  ...  rating_class  count\n",
              "1049   Marou  Tan Phu Dong Island, Heart of Darkness  ...  satisfactory    1.0\n",
              "1050   Marou                                 Ben Tre  ...  satisfactory    1.0\n",
              "1051   Marou                     Dak Lak, Batch 2451  ...  satisfactory    1.0\n",
              "1052   Marou           Tan Phu Dong, Treasure Island  ...  satisfactory    1.0\n",
              "1053   Marou                                  Ba Ria  ...  satisfactory    1.0\n",
              "1054   Marou                                Dong Nai  ...  satisfactory    1.0\n",
              "1055   Marou                   Tien Giang, Gao Co-op  ...  satisfactory    1.0\n",
              "1056   Marou                                 Ben Tre  ...  satisfactory    1.0\n",
              "1057   Marou                              Tien Giang  ...  satisfactory    1.0\n",
              "1058   Marou                                Lam Dong  ...  satisfactory    1.0\n",
              "\n",
              "[10 rows x 11 columns]"
            ]
          },
          "metadata": {
            "tags": []
          },
          "execution_count": 92
        }
      ]
    },
    {
      "cell_type": "markdown",
      "metadata": {
        "id": "YMffOG_CPi02",
        "colab_type": "text"
      },
      "source": [
        "### How many country import VNese bean"
      ]
    },
    {
      "cell_type": "code",
      "metadata": {
        "id": "65iPzENCQcsM",
        "colab_type": "code",
        "outputId": "5e0c221f-2818-47dd-d06f-0196d245a2a3",
        "colab": {
          "base_uri": "https://localhost:8080/",
          "height": 442
        }
      },
      "source": [
        "df_vn[df_vn.company_location!='Vietnam'].groupby(['company', 'company_location']).size().sort_values(ascending=False)"
      ],
      "execution_count": 0,
      "outputs": [
        {
          "output_type": "execute_result",
          "data": {
            "text/plain": [
              "company                      company_location\n",
              "Erithaj (A. Morin)           France              3\n",
              "Arete                        U.S.A.              2\n",
              "Laia aka Chat-Noir           France              2\n",
              "Vietcacao (A. Morin)         France              1\n",
              "Frederic Blondeel            Belgium             1\n",
              "Alexandre                    Netherlands         1\n",
              "Artisan du Chocolat          England             1\n",
              "Cacao Store                  Japan               1\n",
              "Choco Dong                   South Korea         1\n",
              "Confluence                   U.S.A.              1\n",
              "DAR                          U.S.A.              1\n",
              "Dick Taylor                  U.S.A.              1\n",
              "Hotel Chocolat (Coppeneur)   England             1\n",
              "Tablette (aka Vanillabeans)  Japan               1\n",
              "Hummingbird                  Canada              1\n",
              "Map Chocolate                U.S.A.              1\n",
              "Mutari                       U.S.A.              1\n",
              "Palette de Bine              Canada              1\n",
              "Scharffen Berger             U.S.A.              1\n",
              "Smooth Chocolator, The       Australia           1\n",
              "Soma                         Canada              1\n",
              "Szanto Tibor                 Hungary             1\n",
              "Alain Ducasse                France              1\n",
              "dtype: int64"
            ]
          },
          "metadata": {
            "tags": []
          },
          "execution_count": 93
        }
      ]
    },
    {
      "cell_type": "markdown",
      "metadata": {
        "id": "TzSbJMJtSipP",
        "colab_type": "text"
      },
      "source": [
        "### Companies locate in VN "
      ]
    },
    {
      "cell_type": "code",
      "metadata": {
        "id": "wB0YGHhUStAn",
        "colab_type": "code",
        "outputId": "ed69ac10-2a7a-41b9-8874-7eb292a37899",
        "colab": {
          "base_uri": "https://localhost:8080/",
          "height": 424
        }
      },
      "source": [
        "df_vn[df_vn.company_location=='Vietnam'].sort_values(by='rating', ascending=False)"
      ],
      "execution_count": 0,
      "outputs": [
        {
          "output_type": "execute_result",
          "data": {
            "text/html": [
              "<div>\n",
              "<style scoped>\n",
              "    .dataframe tbody tr th:only-of-type {\n",
              "        vertical-align: middle;\n",
              "    }\n",
              "\n",
              "    .dataframe tbody tr th {\n",
              "        vertical-align: top;\n",
              "    }\n",
              "\n",
              "    .dataframe thead th {\n",
              "        text-align: right;\n",
              "    }\n",
              "</style>\n",
              "<table border=\"1\" class=\"dataframe\">\n",
              "  <thead>\n",
              "    <tr style=\"text-align: right;\">\n",
              "      <th></th>\n",
              "      <th>company</th>\n",
              "      <th>specific_origin</th>\n",
              "      <th>REF</th>\n",
              "      <th>review_date</th>\n",
              "      <th>cocoa_percent</th>\n",
              "      <th>company_location</th>\n",
              "      <th>rating</th>\n",
              "      <th>bean_type</th>\n",
              "      <th>broad_origin</th>\n",
              "      <th>rating_class</th>\n",
              "      <th>count</th>\n",
              "    </tr>\n",
              "  </thead>\n",
              "  <tbody>\n",
              "    <tr>\n",
              "      <th>1051</th>\n",
              "      <td>Marou</td>\n",
              "      <td>Dak Lak, Batch 2451</td>\n",
              "      <td>1650</td>\n",
              "      <td>2015</td>\n",
              "      <td>70.0</td>\n",
              "      <td>Vietnam</td>\n",
              "      <td>3.75</td>\n",
              "      <td>Trinitario</td>\n",
              "      <td>[Vietnam]</td>\n",
              "      <td>satisfactory</td>\n",
              "      <td>1.0</td>\n",
              "    </tr>\n",
              "    <tr>\n",
              "      <th>1050</th>\n",
              "      <td>Marou</td>\n",
              "      <td>Ben Tre</td>\n",
              "      <td>1650</td>\n",
              "      <td>2015</td>\n",
              "      <td>68.0</td>\n",
              "      <td>Vietnam</td>\n",
              "      <td>3.50</td>\n",
              "      <td>Trinitario</td>\n",
              "      <td>[Vietnam]</td>\n",
              "      <td>satisfactory</td>\n",
              "      <td>1.0</td>\n",
              "    </tr>\n",
              "    <tr>\n",
              "      <th>1052</th>\n",
              "      <td>Marou</td>\n",
              "      <td>Tan Phu Dong, Treasure Island</td>\n",
              "      <td>1149</td>\n",
              "      <td>2013</td>\n",
              "      <td>75.0</td>\n",
              "      <td>Vietnam</td>\n",
              "      <td>3.50</td>\n",
              "      <td>Trinitario</td>\n",
              "      <td>[Vietnam]</td>\n",
              "      <td>satisfactory</td>\n",
              "      <td>1.0</td>\n",
              "    </tr>\n",
              "    <tr>\n",
              "      <th>1053</th>\n",
              "      <td>Marou</td>\n",
              "      <td>Ba Ria</td>\n",
              "      <td>845</td>\n",
              "      <td>2012</td>\n",
              "      <td>76.0</td>\n",
              "      <td>Vietnam</td>\n",
              "      <td>3.50</td>\n",
              "      <td>Trinitario</td>\n",
              "      <td>[Vietnam]</td>\n",
              "      <td>satisfactory</td>\n",
              "      <td>1.0</td>\n",
              "    </tr>\n",
              "    <tr>\n",
              "      <th>1054</th>\n",
              "      <td>Marou</td>\n",
              "      <td>Dong Nai</td>\n",
              "      <td>845</td>\n",
              "      <td>2012</td>\n",
              "      <td>72.0</td>\n",
              "      <td>Vietnam</td>\n",
              "      <td>3.50</td>\n",
              "      <td>Trinitario</td>\n",
              "      <td>[Vietnam]</td>\n",
              "      <td>satisfactory</td>\n",
              "      <td>1.0</td>\n",
              "    </tr>\n",
              "    <tr>\n",
              "      <th>1055</th>\n",
              "      <td>Marou</td>\n",
              "      <td>Tien Giang, Gao Co-op</td>\n",
              "      <td>845</td>\n",
              "      <td>2012</td>\n",
              "      <td>70.0</td>\n",
              "      <td>Vietnam</td>\n",
              "      <td>3.50</td>\n",
              "      <td>Trinitario</td>\n",
              "      <td>[Vietnam]</td>\n",
              "      <td>satisfactory</td>\n",
              "      <td>1.0</td>\n",
              "    </tr>\n",
              "    <tr>\n",
              "      <th>1056</th>\n",
              "      <td>Marou</td>\n",
              "      <td>Ben Tre</td>\n",
              "      <td>849</td>\n",
              "      <td>2012</td>\n",
              "      <td>78.0</td>\n",
              "      <td>Vietnam</td>\n",
              "      <td>3.50</td>\n",
              "      <td>Trinitario</td>\n",
              "      <td>[Vietnam]</td>\n",
              "      <td>satisfactory</td>\n",
              "      <td>1.0</td>\n",
              "    </tr>\n",
              "    <tr>\n",
              "      <th>1058</th>\n",
              "      <td>Marou</td>\n",
              "      <td>Lam Dong</td>\n",
              "      <td>955</td>\n",
              "      <td>2012</td>\n",
              "      <td>74.0</td>\n",
              "      <td>Vietnam</td>\n",
              "      <td>3.50</td>\n",
              "      <td>Trinitario</td>\n",
              "      <td>[Vietnam]</td>\n",
              "      <td>satisfactory</td>\n",
              "      <td>1.0</td>\n",
              "    </tr>\n",
              "    <tr>\n",
              "      <th>1049</th>\n",
              "      <td>Marou</td>\n",
              "      <td>Tan Phu Dong Island, Heart of Darkness</td>\n",
              "      <td>1650</td>\n",
              "      <td>2015</td>\n",
              "      <td>85.0</td>\n",
              "      <td>Vietnam</td>\n",
              "      <td>3.25</td>\n",
              "      <td>Trinitario</td>\n",
              "      <td>[Vietnam]</td>\n",
              "      <td>satisfactory</td>\n",
              "      <td>1.0</td>\n",
              "    </tr>\n",
              "    <tr>\n",
              "      <th>738</th>\n",
              "      <td>Grand Place</td>\n",
              "      <td>Ben Tre, Dong Nai</td>\n",
              "      <td>741</td>\n",
              "      <td>2011</td>\n",
              "      <td>72.0</td>\n",
              "      <td>Vietnam</td>\n",
              "      <td>3.00</td>\n",
              "      <td>Trinitario</td>\n",
              "      <td>[Vietnam]</td>\n",
              "      <td>satisfactory</td>\n",
              "      <td>1.0</td>\n",
              "    </tr>\n",
              "    <tr>\n",
              "      <th>1057</th>\n",
              "      <td>Marou</td>\n",
              "      <td>Tien Giang</td>\n",
              "      <td>895</td>\n",
              "      <td>2012</td>\n",
              "      <td>80.0</td>\n",
              "      <td>Vietnam</td>\n",
              "      <td>3.00</td>\n",
              "      <td>Trinitario</td>\n",
              "      <td>[Vietnam]</td>\n",
              "      <td>satisfactory</td>\n",
              "      <td>1.0</td>\n",
              "    </tr>\n",
              "  </tbody>\n",
              "</table>\n",
              "</div>"
            ],
            "text/plain": [
              "          company                         specific_origin  ...  rating_class  count\n",
              "1051        Marou                     Dak Lak, Batch 2451  ...  satisfactory    1.0\n",
              "1050        Marou                                 Ben Tre  ...  satisfactory    1.0\n",
              "1052        Marou           Tan Phu Dong, Treasure Island  ...  satisfactory    1.0\n",
              "1053        Marou                                  Ba Ria  ...  satisfactory    1.0\n",
              "1054        Marou                                Dong Nai  ...  satisfactory    1.0\n",
              "1055        Marou                   Tien Giang, Gao Co-op  ...  satisfactory    1.0\n",
              "1056        Marou                                 Ben Tre  ...  satisfactory    1.0\n",
              "1058        Marou                                Lam Dong  ...  satisfactory    1.0\n",
              "1049        Marou  Tan Phu Dong Island, Heart of Darkness  ...  satisfactory    1.0\n",
              "738   Grand Place                       Ben Tre, Dong Nai  ...  satisfactory    1.0\n",
              "1057        Marou                              Tien Giang  ...  satisfactory    1.0\n",
              "\n",
              "[11 rows x 11 columns]"
            ]
          },
          "metadata": {
            "tags": []
          },
          "execution_count": 94
        }
      ]
    },
    {
      "cell_type": "code",
      "metadata": {
        "id": "9M8S7bn7Yra9",
        "colab_type": "code",
        "colab": {}
      },
      "source": [
        "df['bean_type']"
      ],
      "execution_count": 0,
      "outputs": []
    },
    {
      "cell_type": "markdown",
      "metadata": {
        "id": "O1BSGR_Yohln",
        "colab_type": "text"
      },
      "source": [
        "### Marou company"
      ]
    },
    {
      "cell_type": "code",
      "metadata": {
        "id": "WObXBt3Nojvp",
        "colab_type": "code",
        "outputId": "2b48a91c-b2bc-457e-e6ff-6d7b437fe8c5",
        "colab": {
          "base_uri": "https://localhost:8080/",
          "height": 376
        }
      },
      "source": [
        "df_vn[df_vn.company=='Marou']"
      ],
      "execution_count": 0,
      "outputs": [
        {
          "output_type": "execute_result",
          "data": {
            "text/html": [
              "<div>\n",
              "<style scoped>\n",
              "    .dataframe tbody tr th:only-of-type {\n",
              "        vertical-align: middle;\n",
              "    }\n",
              "\n",
              "    .dataframe tbody tr th {\n",
              "        vertical-align: top;\n",
              "    }\n",
              "\n",
              "    .dataframe thead th {\n",
              "        text-align: right;\n",
              "    }\n",
              "</style>\n",
              "<table border=\"1\" class=\"dataframe\">\n",
              "  <thead>\n",
              "    <tr style=\"text-align: right;\">\n",
              "      <th></th>\n",
              "      <th>company</th>\n",
              "      <th>specific_origin</th>\n",
              "      <th>REF</th>\n",
              "      <th>review_date</th>\n",
              "      <th>cocoa_percent</th>\n",
              "      <th>company_location</th>\n",
              "      <th>rating</th>\n",
              "      <th>bean_type</th>\n",
              "      <th>broad_origin</th>\n",
              "      <th>rating_class</th>\n",
              "      <th>count</th>\n",
              "    </tr>\n",
              "  </thead>\n",
              "  <tbody>\n",
              "    <tr>\n",
              "      <th>1049</th>\n",
              "      <td>Marou</td>\n",
              "      <td>Tan Phu Dong Island, Heart of Darkness</td>\n",
              "      <td>1650</td>\n",
              "      <td>2015</td>\n",
              "      <td>85.0</td>\n",
              "      <td>Vietnam</td>\n",
              "      <td>3.25</td>\n",
              "      <td>Trinitario</td>\n",
              "      <td>[Vietnam]</td>\n",
              "      <td>satisfactory</td>\n",
              "      <td>1.0</td>\n",
              "    </tr>\n",
              "    <tr>\n",
              "      <th>1050</th>\n",
              "      <td>Marou</td>\n",
              "      <td>Ben Tre</td>\n",
              "      <td>1650</td>\n",
              "      <td>2015</td>\n",
              "      <td>68.0</td>\n",
              "      <td>Vietnam</td>\n",
              "      <td>3.50</td>\n",
              "      <td>Trinitario</td>\n",
              "      <td>[Vietnam]</td>\n",
              "      <td>satisfactory</td>\n",
              "      <td>1.0</td>\n",
              "    </tr>\n",
              "    <tr>\n",
              "      <th>1051</th>\n",
              "      <td>Marou</td>\n",
              "      <td>Dak Lak, Batch 2451</td>\n",
              "      <td>1650</td>\n",
              "      <td>2015</td>\n",
              "      <td>70.0</td>\n",
              "      <td>Vietnam</td>\n",
              "      <td>3.75</td>\n",
              "      <td>Trinitario</td>\n",
              "      <td>[Vietnam]</td>\n",
              "      <td>satisfactory</td>\n",
              "      <td>1.0</td>\n",
              "    </tr>\n",
              "    <tr>\n",
              "      <th>1052</th>\n",
              "      <td>Marou</td>\n",
              "      <td>Tan Phu Dong, Treasure Island</td>\n",
              "      <td>1149</td>\n",
              "      <td>2013</td>\n",
              "      <td>75.0</td>\n",
              "      <td>Vietnam</td>\n",
              "      <td>3.50</td>\n",
              "      <td>Trinitario</td>\n",
              "      <td>[Vietnam]</td>\n",
              "      <td>satisfactory</td>\n",
              "      <td>1.0</td>\n",
              "    </tr>\n",
              "    <tr>\n",
              "      <th>1053</th>\n",
              "      <td>Marou</td>\n",
              "      <td>Ba Ria</td>\n",
              "      <td>845</td>\n",
              "      <td>2012</td>\n",
              "      <td>76.0</td>\n",
              "      <td>Vietnam</td>\n",
              "      <td>3.50</td>\n",
              "      <td>Trinitario</td>\n",
              "      <td>[Vietnam]</td>\n",
              "      <td>satisfactory</td>\n",
              "      <td>1.0</td>\n",
              "    </tr>\n",
              "    <tr>\n",
              "      <th>1054</th>\n",
              "      <td>Marou</td>\n",
              "      <td>Dong Nai</td>\n",
              "      <td>845</td>\n",
              "      <td>2012</td>\n",
              "      <td>72.0</td>\n",
              "      <td>Vietnam</td>\n",
              "      <td>3.50</td>\n",
              "      <td>Trinitario</td>\n",
              "      <td>[Vietnam]</td>\n",
              "      <td>satisfactory</td>\n",
              "      <td>1.0</td>\n",
              "    </tr>\n",
              "    <tr>\n",
              "      <th>1055</th>\n",
              "      <td>Marou</td>\n",
              "      <td>Tien Giang, Gao Co-op</td>\n",
              "      <td>845</td>\n",
              "      <td>2012</td>\n",
              "      <td>70.0</td>\n",
              "      <td>Vietnam</td>\n",
              "      <td>3.50</td>\n",
              "      <td>Trinitario</td>\n",
              "      <td>[Vietnam]</td>\n",
              "      <td>satisfactory</td>\n",
              "      <td>1.0</td>\n",
              "    </tr>\n",
              "    <tr>\n",
              "      <th>1056</th>\n",
              "      <td>Marou</td>\n",
              "      <td>Ben Tre</td>\n",
              "      <td>849</td>\n",
              "      <td>2012</td>\n",
              "      <td>78.0</td>\n",
              "      <td>Vietnam</td>\n",
              "      <td>3.50</td>\n",
              "      <td>Trinitario</td>\n",
              "      <td>[Vietnam]</td>\n",
              "      <td>satisfactory</td>\n",
              "      <td>1.0</td>\n",
              "    </tr>\n",
              "    <tr>\n",
              "      <th>1057</th>\n",
              "      <td>Marou</td>\n",
              "      <td>Tien Giang</td>\n",
              "      <td>895</td>\n",
              "      <td>2012</td>\n",
              "      <td>80.0</td>\n",
              "      <td>Vietnam</td>\n",
              "      <td>3.00</td>\n",
              "      <td>Trinitario</td>\n",
              "      <td>[Vietnam]</td>\n",
              "      <td>satisfactory</td>\n",
              "      <td>1.0</td>\n",
              "    </tr>\n",
              "    <tr>\n",
              "      <th>1058</th>\n",
              "      <td>Marou</td>\n",
              "      <td>Lam Dong</td>\n",
              "      <td>955</td>\n",
              "      <td>2012</td>\n",
              "      <td>74.0</td>\n",
              "      <td>Vietnam</td>\n",
              "      <td>3.50</td>\n",
              "      <td>Trinitario</td>\n",
              "      <td>[Vietnam]</td>\n",
              "      <td>satisfactory</td>\n",
              "      <td>1.0</td>\n",
              "    </tr>\n",
              "  </tbody>\n",
              "</table>\n",
              "</div>"
            ],
            "text/plain": [
              "     company                         specific_origin  ...  rating_class  count\n",
              "1049   Marou  Tan Phu Dong Island, Heart of Darkness  ...  satisfactory    1.0\n",
              "1050   Marou                                 Ben Tre  ...  satisfactory    1.0\n",
              "1051   Marou                     Dak Lak, Batch 2451  ...  satisfactory    1.0\n",
              "1052   Marou           Tan Phu Dong, Treasure Island  ...  satisfactory    1.0\n",
              "1053   Marou                                  Ba Ria  ...  satisfactory    1.0\n",
              "1054   Marou                                Dong Nai  ...  satisfactory    1.0\n",
              "1055   Marou                   Tien Giang, Gao Co-op  ...  satisfactory    1.0\n",
              "1056   Marou                                 Ben Tre  ...  satisfactory    1.0\n",
              "1057   Marou                              Tien Giang  ...  satisfactory    1.0\n",
              "1058   Marou                                Lam Dong  ...  satisfactory    1.0\n",
              "\n",
              "[10 rows x 11 columns]"
            ]
          },
          "metadata": {
            "tags": []
          },
          "execution_count": 102
        }
      ]
    },
    {
      "cell_type": "code",
      "metadata": {
        "id": "Q8YTbnUy1E3D",
        "colab_type": "code",
        "outputId": "abe1e226-da9c-4416-e61f-117d14a3d313",
        "colab": {
          "base_uri": "https://localhost:8080/",
          "height": 204
        }
      },
      "source": [
        "df_vn[df_vn.company=='Marou'].review_date"
      ],
      "execution_count": 0,
      "outputs": [
        {
          "output_type": "execute_result",
          "data": {
            "text/plain": [
              "1049    2015\n",
              "1050    2015\n",
              "1051    2015\n",
              "1052    2013\n",
              "1053    2012\n",
              "1054    2012\n",
              "1055    2012\n",
              "1056    2012\n",
              "1057    2012\n",
              "1058    2012\n",
              "Name: review_date, dtype: int64"
            ]
          },
          "metadata": {
            "tags": []
          },
          "execution_count": 123
        }
      ]
    },
    {
      "cell_type": "markdown",
      "metadata": {
        "id": "23L8ivvK6CvE",
        "colab_type": "text"
      },
      "source": [
        "#### find Marou ranks by year"
      ]
    },
    {
      "cell_type": "code",
      "metadata": {
        "id": "uKtyXAQ00PFV",
        "colab_type": "code",
        "outputId": "d72664f6-a2ae-455d-cabe-0911ccb9100d",
        "colab": {
          "base_uri": "https://localhost:8080/",
          "height": 34
        }
      },
      "source": [
        "len(year_ranks), len(df.review_date.unique())"
      ],
      "execution_count": 0,
      "outputs": [
        {
          "output_type": "execute_result",
          "data": {
            "text/plain": [
              "(12, 12)"
            ]
          },
          "metadata": {
            "tags": []
          },
          "execution_count": 116
        }
      ]
    },
    {
      "cell_type": "code",
      "metadata": {
        "id": "i99mbh0n2hYs",
        "colab_type": "code",
        "outputId": "bb89509a-a40c-4422-da26-cef45acdcd7f",
        "colab": {
          "base_uri": "https://localhost:8080/",
          "height": 68
        }
      },
      "source": [
        "marou_rank_by_year = {}\n",
        "\n",
        "for i, y in enumerate(review_date_years):\n",
        "  rank=year_ranks[i]\n",
        "  needed_df = rank[(rank.company == 'Marou') & (rank.company_location == 'Vietnam')]\n",
        "  if not needed_df.empty:\n",
        "    print(y)\n",
        "    marou_rank_by_year[y] = []\n",
        "    marou_rank_by_year[y].append(needed_df['rank'].values[0])\n",
        "    marou_rank_by_year[y].append(needed_df['rating'].values[0])"
      ],
      "execution_count": 0,
      "outputs": [
        {
          "output_type": "stream",
          "text": [
            "2015\n",
            "2013\n",
            "2012\n"
          ],
          "name": "stdout"
        }
      ]
    },
    {
      "cell_type": "code",
      "metadata": {
        "id": "pjVX-fkl0tS1",
        "colab_type": "code",
        "outputId": "573a25b2-eab3-43a4-f6ed-7c69160a41b9",
        "colab": {
          "base_uri": "https://localhost:8080/",
          "height": 34
        }
      },
      "source": [
        "marou_rank_by_year"
      ],
      "execution_count": 0,
      "outputs": [
        {
          "output_type": "execute_result",
          "data": {
            "text/plain": [
              "{2012: [28, 3.4166666666666665], 2013: [16, 3.5], 2015: [24, 3.5]}"
            ]
          },
          "metadata": {
            "tags": []
          },
          "execution_count": 165
        }
      ]
    },
    {
      "cell_type": "code",
      "metadata": {
        "id": "yI8IHI_44b1d",
        "colab_type": "code",
        "outputId": "1b7d14aa-1549-4c3e-c6dc-402f1be4969e",
        "colab": {
          "base_uri": "https://localhost:8080/",
          "height": 68
        }
      },
      "source": [
        "col1 = list(marou_rank_by_year.keys())\n",
        "\n",
        "col2 = []\n",
        "col3 = []\n",
        "for k, v in marou_rank_by_year.items():\n",
        "  col2.append(v[0]+1)\n",
        "  col3.append(v[1])\n",
        "print(col1)\n",
        "print(col2)\n",
        "print(col3)"
      ],
      "execution_count": 0,
      "outputs": [
        {
          "output_type": "stream",
          "text": [
            "[2015, 2013, 2012]\n",
            "[25, 17, 29]\n",
            "[3.5, 3.5, 3.4166666666666665]\n"
          ],
          "name": "stdout"
        }
      ]
    },
    {
      "cell_type": "code",
      "metadata": {
        "id": "TT4kgloL3wv6",
        "colab_type": "code",
        "outputId": "aecb4257-1f4c-4a97-a7fd-677e75efacfe",
        "colab": {
          "base_uri": "https://localhost:8080/",
          "height": 142
        }
      },
      "source": [
        "marou_rank_by_year_df = pd.DataFrame.from_dict({'year':col1, 'rank':col2, 'rating':col3})\n",
        "marou_rank_by_year_df"
      ],
      "execution_count": 0,
      "outputs": [
        {
          "output_type": "execute_result",
          "data": {
            "text/html": [
              "<div>\n",
              "<style scoped>\n",
              "    .dataframe tbody tr th:only-of-type {\n",
              "        vertical-align: middle;\n",
              "    }\n",
              "\n",
              "    .dataframe tbody tr th {\n",
              "        vertical-align: top;\n",
              "    }\n",
              "\n",
              "    .dataframe thead th {\n",
              "        text-align: right;\n",
              "    }\n",
              "</style>\n",
              "<table border=\"1\" class=\"dataframe\">\n",
              "  <thead>\n",
              "    <tr style=\"text-align: right;\">\n",
              "      <th></th>\n",
              "      <th>year</th>\n",
              "      <th>rank</th>\n",
              "      <th>rating</th>\n",
              "    </tr>\n",
              "  </thead>\n",
              "  <tbody>\n",
              "    <tr>\n",
              "      <th>0</th>\n",
              "      <td>2015</td>\n",
              "      <td>25</td>\n",
              "      <td>3.500000</td>\n",
              "    </tr>\n",
              "    <tr>\n",
              "      <th>1</th>\n",
              "      <td>2013</td>\n",
              "      <td>17</td>\n",
              "      <td>3.500000</td>\n",
              "    </tr>\n",
              "    <tr>\n",
              "      <th>2</th>\n",
              "      <td>2012</td>\n",
              "      <td>29</td>\n",
              "      <td>3.416667</td>\n",
              "    </tr>\n",
              "  </tbody>\n",
              "</table>\n",
              "</div>"
            ],
            "text/plain": [
              "   year  rank    rating\n",
              "0  2015    25  3.500000\n",
              "1  2013    17  3.500000\n",
              "2  2012    29  3.416667"
            ]
          },
          "metadata": {
            "tags": []
          },
          "execution_count": 167
        }
      ]
    },
    {
      "cell_type": "code",
      "metadata": {
        "id": "Txq_bMON532g",
        "colab_type": "code",
        "colab": {}
      },
      "source": [
        "#marou_rank_by_year_df.to_csv('marou_rank.csv')"
      ],
      "execution_count": 0,
      "outputs": []
    },
    {
      "cell_type": "markdown",
      "metadata": {
        "id": "qCjx7X3wapDe",
        "colab_type": "text"
      },
      "source": [
        "## export as csv to visualize on gg studio"
      ]
    },
    {
      "cell_type": "code",
      "metadata": {
        "id": "IBVJrQe0Y2zT",
        "colab_type": "code",
        "outputId": "b78cf9c1-255c-4da2-fdad-14990cac5eda",
        "colab": {
          "base_uri": "https://localhost:8080/",
          "height": 122
        }
      },
      "source": [
        "from google.colab import drive\n",
        "drive.mount('/content/drive')"
      ],
      "execution_count": 0,
      "outputs": [
        {
          "output_type": "stream",
          "text": [
            "Go to this URL in a browser: https://accounts.google.com/o/oauth2/auth?client_id=947318989803-6bn6qk8qdgf4n4g3pfee6491hc0brc4i.apps.googleusercontent.com&redirect_uri=urn%3Aietf%3Awg%3Aoauth%3A2.0%3Aoob&scope=email%20https%3A%2F%2Fwww.googleapis.com%2Fauth%2Fdocs.test%20https%3A%2F%2Fwww.googleapis.com%2Fauth%2Fdrive%20https%3A%2F%2Fwww.googleapis.com%2Fauth%2Fdrive.photos.readonly%20https%3A%2F%2Fwww.googleapis.com%2Fauth%2Fpeopleapi.readonly&response_type=code\n",
            "\n",
            "Enter your authorization code:\n",
            "··········\n",
            "Mounted at /content/drive\n"
          ],
          "name": "stdout"
        }
      ]
    },
    {
      "cell_type": "code",
      "metadata": {
        "id": "7mUuxy9cZC_U",
        "colab_type": "code",
        "outputId": "f1ec37d6-d419-444b-e6fc-5b7aef66aba2",
        "colab": {
          "base_uri": "https://localhost:8080/",
          "height": 34
        }
      },
      "source": [
        "%cd '/content/drive/My Drive/CoderSchool/Chocolate'"
      ],
      "execution_count": 0,
      "outputs": [
        {
          "output_type": "stream",
          "text": [
            "/content/drive/My Drive/CoderSchool/Chocolate\n"
          ],
          "name": "stdout"
        }
      ]
    },
    {
      "cell_type": "code",
      "metadata": {
        "id": "TCFGfFZRZiTB",
        "colab_type": "code",
        "colab": {}
      },
      "source": [
        "#df_vn.to_csv('vnese_chocolate.csv')"
      ],
      "execution_count": 0,
      "outputs": []
    },
    {
      "cell_type": "markdown",
      "metadata": {
        "id": "J1ab16rkn3KE",
        "colab_type": "text"
      },
      "source": [
        "#Dashboard\n",
        "[Google studio report](https://datastudio.google.com/open/10sOcznISznpPOziNiAKPRA-r14cTMN9h)"
      ]
    },
    {
      "cell_type": "markdown",
      "metadata": {
        "id": "FoXjrdcUVFa5",
        "colab_type": "text"
      },
      "source": [
        "# Summary"
      ]
    },
    {
      "cell_type": "code",
      "metadata": {
        "id": "1QJjNjkbVHNt",
        "colab_type": "code",
        "colab": {}
      },
      "source": [
        ""
      ],
      "execution_count": 0,
      "outputs": []
    }
  ]
}
